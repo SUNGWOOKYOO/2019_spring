{
 "cells": [
  {
   "cell_type": "markdown",
   "metadata": {},
   "source": [
    "### module"
   ]
  },
  {
   "cell_type": "code",
   "execution_count": null,
   "metadata": {},
   "outputs": [],
   "source": [
    "import pymysql.cursors\n",
    "import pandas as pd\n",
    "import os\n",
    "import re"
   ]
  },
  {
   "cell_type": "markdown",
   "metadata": {},
   "source": [
    "> reference:\n",
    "<br> https://stackoverflow.com/questions/4998629/split-string-with-multiple-delimiters-in-python"
   ]
  },
  {
   "cell_type": "markdown",
   "metadata": {},
   "source": [
    "### connection"
   ]
  },
  {
   "cell_type": "code",
   "execution_count": null,
   "metadata": {},
   "outputs": [],
   "source": [
    "PW = \"1360\"\n",
    "DBASE = \"test\"\n",
    "WIKI = \"wiki\"\n",
    "LINK = \"link\""
   ]
  },
  {
   "cell_type": "code",
   "execution_count": null,
   "metadata": {},
   "outputs": [],
   "source": [
    "con = pymysql.connect(host = 'localhost', \n",
    "                            user = 'root',\n",
    "                            password = PW,\n",
    "                            db = DBASE,\n",
    "                            charset = 'utf8mb4')"
   ]
  },
  {
   "cell_type": "code",
   "execution_count": null,
   "metadata": {},
   "outputs": [],
   "source": [
    "cursor = con.cursor()\n",
    "pd.read_sql(\"show tables\",con)"
   ]
  },
  {
   "cell_type": "markdown",
   "metadata": {},
   "source": [
    "### Add tables into Database"
   ]
  },
  {
   "cell_type": "code",
   "execution_count": null,
   "metadata": {},
   "outputs": [],
   "source": [
    "table_schema = \"'{}'\".format(DBASE)\n",
    "query = '''\n",
    "        select table_name from information_schema.tables\n",
    "        where table_schema = {}        \n",
    "        '''\n",
    "pd.read_sql(query.format(table_schema), con)"
   ]
  },
  {
   "cell_type": "markdown",
   "metadata": {},
   "source": [
    "> given skeleton code\n",
    "<br> description: execute_sql(file_name) function read a file and execute the sql querys into current connected database\n",
    "<br> reference: http://blog.naver.com/PostView.nhn?blogId=sw4r&logNo=221121111196&parentCategoryNo=&categoryNo=98&viewDate=&isShowPopularPosts=true&from=search"
   ]
  },
  {
   "cell_type": "code",
   "execution_count": null,
   "metadata": {},
   "outputs": [],
   "source": [
    "def execute_sql(file_name):\n",
    "    sql_file = open(file_name, 'r').readlines()\n",
    "    query = \"\"\n",
    "    i = 0\n",
    "    for sql_line in sql_file:\n",
    "        i += 1\n",
    "        sql_line = sql_line.strip()\n",
    "        query += sql_line\n",
    "        if len(query) > 0:\n",
    "            if query[len(query) - 1] == ';':\n",
    "                query = query[:len(query) - 1]\n",
    "                #print('[DEBUG ] ', query)\n",
    "                cursor.execute(query)\n",
    "                query = \"\""
   ]
  },
  {
   "cell_type": "code",
   "execution_count": null,
   "metadata": {},
   "outputs": [],
   "source": [
    "query = '''\n",
    "        select count(*) from information_schema.tables\n",
    "        where table_schema = %s \n",
    "        '''\n",
    "# pd.read_sql(query.format(table_schema), con)\n",
    "cursor.execute(query, DBASE)\n",
    "count = cursor.fetchall()\n",
    "if(count[0][0] == 0):\n",
    "    execute_sql(\"link.sql\")\n",
    "    execute_sql(\"wiki.sql\")\n",
    "count"
   ]
  },
  {
   "cell_type": "markdown",
   "metadata": {},
   "source": [
    "### parse schedule"
   ]
  },
  {
   "cell_type": "markdown",
   "metadata": {},
   "source": [
    "> reference:\n",
    "*  str type built in functions: https://docs.python.org/3/library/functions.html"
   ]
  },
  {
   "cell_type": "code",
   "execution_count": null,
   "metadata": {},
   "outputs": [],
   "source": [
    "# %pwd\n",
    "# %cd prj2\n",
    "# %ls "
   ]
  },
  {
   "cell_type": "code",
   "execution_count": null,
   "metadata": {},
   "outputs": [],
   "source": [
    "# # dirpath = 'C:\\\\Users\\\\유성욱\\\\jupyter\\\\2019_spring\\\\DBHW\\\\HW2\\\\prj2'\n",
    "# dirpath = os.getcwd()\n",
    "# schedules_path = dirpath + '/prj2.sched'"
   ]
  },
  {
   "cell_type": "code",
   "execution_count": null,
   "metadata": {},
   "outputs": [],
   "source": [
    "# queries = []\n",
    "# schedules = []\n",
    "# with open(schedules_path, 'r') as f:\n",
    "#     while True:\n",
    "#         line = f.readline()\n",
    "#         if not line: break\n",
    "# #         print(line)\n",
    "#         queries.append(line)\n",
    "#         if(line[0] == \"<\"):\n",
    "#     #         print(query.split(\"> \")[1])\n",
    "#             schedules.append(line.split(\"> \")[1])\n",
    "#         else:\n",
    "#     #         print(query)\n",
    "#             schedules.append(line)\n",
    "# print(len(queries))\n",
    "# print(len(schedules))"
   ]
  },
  {
   "cell_type": "code",
   "execution_count": null,
   "metadata": {},
   "outputs": [],
   "source": [
    "def parse_schedules(Path):\n",
    "    queries = []\n",
    "    schedules = []\n",
    "    with open(Path, 'r') as f:\n",
    "        while True:\n",
    "            line = f.readline()\n",
    "            if not line: break\n",
    "    #         print(line)\n",
    "            queries.append(line)\n",
    "            if(line[0] == \"<\"):\n",
    "        #         print(query.split(\"> \")[1])\n",
    "                schedules.append(line.split(\"> \")[1])\n",
    "            else:\n",
    "        #         print(query)\n",
    "                schedules.append(line)\n",
    "    return schedules, queries "
   ]
  },
  {
   "cell_type": "code",
   "execution_count": null,
   "metadata": {},
   "outputs": [],
   "source": [
    "command = input()\n",
    "# -run prj2.sched\n",
    "# -run sample_schedules.sched\n",
    "dirpath = os.getcwd()\n",
    "if command[0] == \"-\":\n",
    "    schedules_path = dirpath + \"/\"+command.split(\"-run \")[1]\n",
    "    if os.path.isfile(schedules_path):\n",
    "        [schedules, queries] = parse_schedules(schedules_path)\n",
    "    else:\n",
    "        print(\"such file is not exist\")"
   ]
  },
  {
   "cell_type": "code",
   "execution_count": null,
   "metadata": {},
   "outputs": [],
   "source": [
    "# schedules\n",
    "# queries"
   ]
  },
  {
   "cell_type": "markdown",
   "metadata": {},
   "source": [
    "### excute schedule"
   ]
  },
  {
   "cell_type": "code",
   "execution_count": null,
   "metadata": {},
   "outputs": [],
   "source": [
    "queries\n",
    "# for query in queries:\n",
    "# #     implement here\n",
    "#     if query == condition\n",
    "#         excute the query"
   ]
  },
  {
   "cell_type": "code",
   "execution_count": null,
   "metadata": {},
   "outputs": [],
   "source": [
    "queries[0][5:]"
   ]
  },
  {
   "cell_type": "markdown",
   "metadata": {},
   "source": [
    "> execute $<$Transaction ID$>$ [SQL]"
   ]
  },
  {
   "cell_type": "code",
   "execution_count": null,
   "metadata": {},
   "outputs": [],
   "source": [
    "# sample\n",
    "# print(queries[0])\n",
    "# print(schedules[0])\n",
    "print(queries[3])\n",
    "print(schedules[3])"
   ]
  },
  {
   "cell_type": "code",
   "execution_count": null,
   "metadata": {},
   "outputs": [],
   "source": [
    "if queries[3][0] == \"<\":\n",
    "    print(\"yes\")"
   ]
  },
  {
   "cell_type": "code",
   "execution_count": null,
   "metadata": {},
   "outputs": [],
   "source": [
    "pd.read_sql(\"select * from test\", con)"
   ]
  },
  {
   "cell_type": "code",
   "execution_count": null,
   "metadata": {},
   "outputs": [],
   "source": [
    "# sql = \"INSERT INTO test (name, id) VALUES ('jenny', 2)\"\n",
    "# sql = \"update test set name = 'jenny'  where id = 2\"\n",
    "# sql = \"delete from test where id = 2;\"\n",
    "# sql = \"drop table test\""
   ]
  },
  {
   "cell_type": "code",
   "execution_count": null,
   "metadata": {},
   "outputs": [],
   "source": [
    "cursor.execute(sql)\n",
    "result = cursor.fetchall()\n",
    "print(result)\n",
    "pd.read_sql(\"select * from test\", con)"
   ]
  },
  {
   "cell_type": "code",
   "execution_count": null,
   "metadata": {},
   "outputs": [],
   "source": [
    "queries[3]"
   ]
  },
  {
   "cell_type": "code",
   "execution_count": null,
   "metadata": {},
   "outputs": [],
   "source": [
    "if(queries[3][0] == \"<\"):\n",
    "    print(queries[3].split(\"> \")[1])"
   ]
  },
  {
   "cell_type": "code",
   "execution_count": null,
   "metadata": {},
   "outputs": [],
   "source": [
    "# q = \"<T1> delete from test where id = 3;\"\n",
    "# q = \"<T1> update test set text = 'Christiano Ronaldo Howoo Ceremony' where id = 24031233;\"\n",
    "q = \"<T2> UPDATE wiki SET text = 'Les Humphries Singers Sing Sang Song Germany 1976' WHERE id = 6241635;\""
   ]
  },
  {
   "cell_type": "code",
   "execution_count": null,
   "metadata": {},
   "outputs": [],
   "source": [
    "q.split(\"<\")[1].lower()"
   ]
  },
  {
   "cell_type": "code",
   "execution_count": null,
   "metadata": {},
   "outputs": [],
   "source": [
    "re.split(\"> |set |where \",q.split(\"<\")[1].lower())"
   ]
  },
  {
   "cell_type": "code",
   "execution_count": null,
   "metadata": {},
   "outputs": [],
   "source": [
    "# [tran, command_table, col_value, key_value] = re.split(\"> |set |where \",q.split(\"<\")[1])\n",
    "[tran, command_table, col_value, key_value] = re.split(\"> |set |where \",q.split(\"<\")[1].lower())\n",
    "print([tran, command_table, col_value, key_value])\n",
    "print(command_table.split(\" \"))\n",
    "[command, table, _] = command_table.split(\" \")\n",
    "print(re.split(\" = \",col_value))\n",
    "[col, col_v] = re.split(\" = \",col_value)\n",
    "print(re.split(\" = |;\",key_value))\n",
    "[key, key_v, _] = re.split(\" = |;\",key_value)"
   ]
  },
  {
   "cell_type": "code",
   "execution_count": null,
   "metadata": {},
   "outputs": [],
   "source": [
    "q[5:5+6]"
   ]
  },
  {
   "cell_type": "code",
   "execution_count": null,
   "metadata": {},
   "outputs": [],
   "source": [
    "# q = \"<T1> delete from test where id = 3;\"\n",
    "q = \"<T1> DELETE FROM wiki WHERE id = 339712;\""
   ]
  },
  {
   "cell_type": "code",
   "execution_count": null,
   "metadata": {},
   "outputs": [],
   "source": [
    "[tran, command, table, key_value] = re.split(\"> |from |where \",q.split(\"<\")[1])\n",
    "print([tran, command, table, key_value])\n",
    "print(re.split(\" = |;\",key_value))"
   ]
  },
  {
   "cell_type": "code",
   "execution_count": null,
   "metadata": {},
   "outputs": [],
   "source": [
    "q = \"<T1> commit; \\n\"\n",
    "re.split(\">\",q.split(\"<\")[1])"
   ]
  },
  {
   "cell_type": "code",
   "execution_count": null,
   "metadata": {},
   "outputs": [],
   "source": [
    "#design write search log function \n",
    "def write_transaction_log(dirpath, SQL):\n",
    "    # parse transaction\n",
    "    log = \"\"\n",
    "    if SQL[5:5+6] == \"commit\":\n",
    "        log = \"<{0}> commit\\n\".format(re.split(\">\",SQL.split(\"<\")[1])[0])\n",
    "#         print(log)\n",
    "    elif SQL[5:5+6] == \"DELETE\":\n",
    "        [tran, command, table, key_value] = re.split(\"> |FROM |WHERE \",SQL.split(\"<\")[1]) \n",
    "        [key, key_v, _] = re.split(\" = |;\",key_value)\n",
    "        log = \"<{0}>, <{1}>.<{2}>, <{3}>, \\n\".format(tran,table,key,key_v)\n",
    "#         print(log)\n",
    "    elif SQL[5:5+6] == \"UPDATE\":    \n",
    "        [tran, command_table, col_value, key_value] = re.split(\"> |SET |WHERE \",SQL.split(\"<\")[1])\n",
    "        [command, table, _] = command_table.split(\" \")\n",
    "        [col, col_v] = re.split(\" = \",col_value)\n",
    "        [key, key_v, _] = re.split(\" = |;\",key_value)\n",
    "        # col_oldv = get_old_value\n",
    "        with con.cursor() as cursor:\n",
    "            cursor.execute(\"select {0} from {1} where {2} = {3}\".format(col, table, key, key_v))\n",
    "            old_v = cursor.fetchall()[0][0]\n",
    "#             print(old_v[0][0])\n",
    "        log = \"<{0}>, <{1}>.<{2}>.<{3}>, <{4}>, <{5}>\\n\".format(tran,table,key_v,col,old_v,col_v )\n",
    "#         print(log)\n",
    "    elif SQL[5:5+8] == \"rollback\":\n",
    "        log = \"<{0}> abort\\n\".format(re.split(\">\",SQL.split(\"<\")[1])[0])\n",
    "#         print(log)\n",
    "    log_path = dirpath + \"/prj2.log\"\n",
    "    with open(log_path,'a') as f:\n",
    "        f.write(log)"
   ]
  },
  {
   "cell_type": "code",
   "execution_count": null,
   "metadata": {},
   "outputs": [],
   "source": [
    "key = \"id\"\n",
    "table = \"test\"\n",
    "key_v = 3"
   ]
  },
  {
   "cell_type": "code",
   "execution_count": null,
   "metadata": {},
   "outputs": [],
   "source": [
    "with con.cursor() as cursor:\n",
    "#     cursor.execute(\"select id from test where id = 3 \" )\n",
    "    cursor.execute(\"select {0} from {1} where {2} = {3}\".format(key, table, key, key_v))\n",
    "    old_v = cursor.fetchall()"
   ]
  },
  {
   "cell_type": "code",
   "execution_count": null,
   "metadata": {},
   "outputs": [],
   "source": [
    "with con.cursor() as cursor:\n",
    "#     cursor.execute(\"select id from test where id = 3 \" )\n",
    "    cursor.execute(\"select * from test\")\n",
    "    result = cursor.fetchall()\n",
    "    print(result)"
   ]
  },
  {
   "cell_type": "code",
   "execution_count": null,
   "metadata": {},
   "outputs": [],
   "source": [
    "with con.cursor() as cursor:\n",
    "#     cursor.execute(\"select id from test where id = 3 \" )\n",
    "    cursor.execute(\"update test set name = 'wook' where id = 1\")\n",
    "    result = cursor.fetchall()\n",
    "    print(result)"
   ]
  },
  {
   "cell_type": "code",
   "execution_count": null,
   "metadata": {},
   "outputs": [],
   "source": [
    "old_v[0][0]"
   ]
  },
  {
   "cell_type": "code",
   "execution_count": null,
   "metadata": {},
   "outputs": [],
   "source": [
    "SQL = \"<T1> DELETE FROM link WHERE id_from = 339712;\"\n",
    "print(SQL.split(\"<\")[1])\n",
    "print(re.split(\"> |FROM | WHERE \",SQL.split(\"<\")[1]))\n",
    "[tran, command, table, key_value] = re.split(\"> |FROM | WHERE \",SQL.split(\"<\")[1]) \n",
    "[key, key_v, _] = re.split(\" = |;\",key_value)\n",
    "log = \"<{0}>, <{1}>.<{2}>, <{3}> \\n\".format(tran,table,key,key_v)\n",
    "log"
   ]
  },
  {
   "cell_type": "code",
   "execution_count": null,
   "metadata": {},
   "outputs": [],
   "source": [
    "# SQL = \"<T1> delete from test where id = 2;\"\n",
    "SQL = \"<T1> DELETE FROM link WHERE id_from = 339712;\"\n",
    "# SQL = \"<T1> update test set name = 'saewook' where id = 1;\"\n",
    "# SQL = \"<T1> commit\"\n",
    "# SQL = \"<T1> rollback\"\n",
    "write_transaction_log(dirpath, SQL)"
   ]
  },
  {
   "cell_type": "code",
   "execution_count": null,
   "metadata": {},
   "outputs": [],
   "source": [
    "queries"
   ]
  },
  {
   "cell_type": "code",
   "execution_count": null,
   "metadata": {},
   "outputs": [],
   "source": [
    "for query in queries:\n",
    "    if query[0] == \"<\":\n",
    "        print(query)\n",
    "        write_transaction_log(dirpath, query)"
   ]
  },
  {
   "cell_type": "code",
   "execution_count": null,
   "metadata": {},
   "outputs": [],
   "source": [
    "open('prj2.log', 'w').close()\n",
    "%ls"
   ]
  },
  {
   "cell_type": "markdown",
   "metadata": {},
   "source": [
    "make transaction directory "
   ]
  },
  {
   "cell_type": "code",
   "execution_count": null,
   "metadata": {},
   "outputs": [],
   "source": [
    "active_transactions = set()"
   ]
  },
  {
   "cell_type": "code",
   "execution_count": null,
   "metadata": {},
   "outputs": [],
   "source": [
    "type(active_transactions)"
   ]
  },
  {
   "cell_type": "code",
   "execution_count": null,
   "metadata": {},
   "outputs": [],
   "source": [
    "queries[9][1:3]"
   ]
  },
  {
   "cell_type": "code",
   "execution_count": null,
   "metadata": {},
   "outputs": [],
   "source": [
    "queries[9][5:5+6]"
   ]
  },
  {
   "cell_type": "code",
   "execution_count": null,
   "metadata": {},
   "outputs": [],
   "source": [
    "active_transactions.add('T3')"
   ]
  },
  {
   "cell_type": "code",
   "execution_count": null,
   "metadata": {},
   "outputs": [],
   "source": [
    "if \"T1 \"not in active_transactions:\n",
    "    active_transactions.add('T1')\n",
    "if queries[9][5:5+6] == \"commit\":\n",
    "    active_transactions.remove(queries[9][1:3])"
   ]
  },
  {
   "cell_type": "code",
   "execution_count": null,
   "metadata": {},
   "outputs": [],
   "source": []
  },
  {
   "cell_type": "code",
   "execution_count": null,
   "metadata": {},
   "outputs": [],
   "source": [
    "active_transactions"
   ]
  },
  {
   "cell_type": "code",
   "execution_count": null,
   "metadata": {},
   "outputs": [],
   "source": [
    "log_path = dirpath + \"/prj2.log\"\n",
    "log_path"
   ]
  },
  {
   "cell_type": "code",
   "execution_count": null,
   "metadata": {},
   "outputs": [],
   "source": [
    "# queries\n",
    "# read_file(log_path)"
   ]
  },
  {
   "cell_type": "code",
   "execution_count": null,
   "metadata": {},
   "outputs": [],
   "source": [
    "active_transactions = set()\n",
    "for schedule in queries:\n",
    "    if schedule[0] == \"<\":\n",
    "        print(schedule)\n",
    "        if schedule[1:3] not in active_transactions:\n",
    "            active_transactions.add(schedule[1:3])\n",
    "        elif schedule[5:5+6] == \"commit\":\n",
    "            active_transactions.remove(schedule[1:3])\n",
    "        elif schedule[5:5+8] == \"rollback\":\n",
    "            active_transactions.remove(schedule[1:3])\n",
    "        print(active_transactions)\n",
    "        print()\n",
    "    else:\n",
    "        print(schedule)\n",
    "        if schedule[:10] == \"checkpoint\":\n",
    "#             print(len(active_transactions))\n",
    "            print(\"checkpoint\",end=\"\")\n",
    "            i = 0\n",
    "            for tran in sorted(active_transactions):\n",
    "                if( i != len(active_transactions) - 1):\n",
    "                    print(\"<\",tran,\">,\",end=\"\")\n",
    "                else:\n",
    "                    print(\"<\",tran,\">\",)\n",
    "                i += 1"
   ]
  },
  {
   "cell_type": "code",
   "execution_count": null,
   "metadata": {},
   "outputs": [],
   "source": [
    "sorted(set())"
   ]
  },
  {
   "cell_type": "code",
   "execution_count": null,
   "metadata": {},
   "outputs": [],
   "source": [
    "for schedule in queries:\n",
    "    print(schedule)"
   ]
  },
  {
   "cell_type": "code",
   "execution_count": null,
   "metadata": {},
   "outputs": [],
   "source": [
    "trans = 'T1'\n",
    "trans"
   ]
  },
  {
   "cell_type": "code",
   "execution_count": null,
   "metadata": {},
   "outputs": [],
   "source": [
    "transaction_table[trans] = int(trans[1])"
   ]
  },
  {
   "cell_type": "code",
   "execution_count": null,
   "metadata": {},
   "outputs": [],
   "source": [
    "transaction_table"
   ]
  },
  {
   "cell_type": "code",
   "execution_count": null,
   "metadata": {},
   "outputs": [],
   "source": [
    "trans in transaction_table"
   ]
  },
  {
   "cell_type": "code",
   "execution_count": null,
   "metadata": {},
   "outputs": [],
   "source": [
    "transaction_table[\"T1\"]"
   ]
  },
  {
   "cell_type": "code",
   "execution_count": null,
   "metadata": {},
   "outputs": [],
   "source": [
    "cursor_dict = {}"
   ]
  },
  {
   "cell_type": "code",
   "execution_count": null,
   "metadata": {},
   "outputs": [],
   "source": [
    "cursor_dict[\"T1\"] = con.cursor() "
   ]
  },
  {
   "cell_type": "code",
   "execution_count": null,
   "metadata": {},
   "outputs": [],
   "source": [
    "cursor_dict"
   ]
  },
  {
   "cell_type": "markdown",
   "metadata": {},
   "source": [
    "> execute search $<$keyword$>$\n",
    "<br>reference:\n",
    "<br>https://wikidocs.net/26"
   ]
  },
  {
   "cell_type": "code",
   "execution_count": null,
   "metadata": {},
   "outputs": [],
   "source": [
    "def read_file(Path):\n",
    "    with open(Path, 'r') as f:\n",
    "        while True:\n",
    "            line = f.readline()\n",
    "            if not line: break\n",
    "            print(line)"
   ]
  },
  {
   "cell_type": "code",
   "execution_count": null,
   "metadata": {},
   "outputs": [],
   "source": [
    "# sample query\n",
    "queries[12]"
   ]
  },
  {
   "cell_type": "code",
   "execution_count": null,
   "metadata": {},
   "outputs": [],
   "source": [
    "if queries[12][:6] == \"search\":\n",
    "    search_query = queries[12].split(\"search \")[1]\n",
    "    print(\"execute search\")\n",
    "    print(search_query)"
   ]
  },
  {
   "cell_type": "code",
   "execution_count": null,
   "metadata": {},
   "outputs": [],
   "source": [
    "search_path = dirpath + \"/search.txt\""
   ]
  },
  {
   "cell_type": "code",
   "execution_count": null,
   "metadata": {},
   "outputs": [],
   "source": [
    "sample_search_result = \"\"\"\n",
    "id        title                                             TF-IDF              PageRank  \n",
    "44392605  President_of_the_Quorum_of_the_Twelve               2.34e-05            7.28e-04\n",
    "34999343  Barry_Mendelson                                     2.34e-05            3.24e-04\n",
    "28473028  Anti-American_sentiment_in_Pakistan                 2.34e-05            1.85e-04\n",
    "22553537  Yousef_Pashtun                                      2.61e-05            1.44e-04\n",
    "13601579  Quentin_L._Cook                                     2.34e-05            1.48e-04\n",
    "31002740  Westye_Parr_Egeberg                                 2.53e-05            1.36e-04\n",
    "28246228  St._Louis_Jewish_Light                              2.69e-05            1.02e-04\n",
    "37619696  Falconar_Avia                                       3.12e-05            8.75e-05\n",
    "6301341   Colina%2C_Chile                                     2.76e-05            8.93e-05\n",
    "48652315  Presidency_of_Boris_Yeltsin                         2.34e-05            1.04e-04\n",
    "\"\"\""
   ]
  },
  {
   "cell_type": "code",
   "execution_count": null,
   "metadata": {},
   "outputs": [],
   "source": [
    "print(sample_search_result)"
   ]
  },
  {
   "cell_type": "code",
   "execution_count": null,
   "metadata": {},
   "outputs": [],
   "source": [
    "num_of_search = 0\n",
    "open('search.txt', 'w').close()\n",
    "%ls"
   ]
  },
  {
   "cell_type": "code",
   "execution_count": null,
   "metadata": {},
   "outputs": [],
   "source": [
    "with open(search_path,'a') as f:\n",
    "    f.write(\"search {0}\\n\".format(num_of_search))\n",
    "    f.write(\"query {0}\\n\".format(search_query))\n",
    "    f.write(sample_search_result+\"\\n\")\n",
    "    num_of_search += 1"
   ]
  },
  {
   "cell_type": "code",
   "execution_count": null,
   "metadata": {},
   "outputs": [],
   "source": [
    "read_file(search_path)"
   ]
  },
  {
   "cell_type": "code",
   "execution_count": null,
   "metadata": {},
   "outputs": [],
   "source": [
    "#design write search log function \n",
    "def write_search_log(num_of_search, search_query, search_result):\n",
    "    search_path = dirpath + \"/search.txt\"\n",
    "    with open(search_path,'a') as f:\n",
    "        f.write(\"search {0}\\n\".format(num_of_search))\n",
    "        f.write(\"query {0}\\n\".format(search_query))\n",
    "        f.write(search_result+\"\\n\")\n",
    "        num_of_search += 1"
   ]
  },
  {
   "cell_type": "code",
   "execution_count": null,
   "metadata": {},
   "outputs": [],
   "source": [
    "# con.close()"
   ]
  },
  {
   "cell_type": "markdown",
   "metadata": {},
   "source": [
    "### Test"
   ]
  },
  {
   "cell_type": "code",
   "execution_count": null,
   "metadata": {},
   "outputs": [],
   "source": [
    "# import nltk\n",
    "# nltk.download('punkt')"
   ]
  },
  {
   "cell_type": "code",
   "execution_count": null,
   "metadata": {},
   "outputs": [],
   "source": [
    "%run main.py"
   ]
  },
  {
   "cell_type": "markdown",
   "metadata": {},
   "source": [
    "concurrency control"
   ]
  },
  {
   "cell_type": "markdown",
   "metadata": {},
   "source": [
    "<br> with out transaction\n",
    "transaction 없이 sql을 사용하면 interleaved된 사용자 사이에서 anomaly가 발생 할 수 있다. \n",
    "<br> with transaction\n",
    "* start transaction을 하면 다른 cursor에서 반영된 결과가 보이지 않는다. \n",
    "* concurrecny 상황 시(동시에 2개의 cursor가 실행중이며 transaction이 lock이되었을 경우)에 현재 실행중인 transaction을 commit해야\n",
    "    다음 transaction을 실행 할 수 있다.\n",
    "    * 즉, mysql workbench 에서 \n",
    "    <br>start transaction;\n",
    "    <br>UPDATE test SET name = 'swyoo' WHERE id = 1;\n",
    "    <br>위의 상황에서 밑의 연결을 시도한다면 lock이 걸리고, 밑의 commit을 실행해야 lock이 풀린다\n",
    "    <br>commit;"
   ]
  },
  {
   "cell_type": "code",
   "execution_count": null,
   "metadata": {},
   "outputs": [],
   "source": [
    "with con.cursor() as cursor:\n",
    "#         # Create a new record\n",
    "#         sql = \"INSERT INTO `users` (`email`, `password`) VALUES (%s, %s)\"\n",
    "#         cursor.execute(sql, ('webmaster@python.org', 'very-secret'))\n",
    "    print(pd.read_sql(\"show tables\",con))\n",
    "    # connection is not autocommit by default. So you must commit to save\n",
    "    # your changes.\n",
    "    print(\"start trans: \", cursor.execute(\"start transaction\"))\n",
    "#     cursor.execute(\"INSERT INTO test (id, name) VALUES (3, 'gawon')\")\n",
    "#     cursor.execute(\"INSERT INTO test (id, name) VALUES (4, 'wook')\")\n",
    "    cursor.execute(\"update test set name = 'bob' where id = 1\")\n",
    "    print(\"num of record:\", cursor.execute(\"select * from test\"))\n",
    "    result = cursor.fetchall()\n",
    "    print(result)\n",
    "    print(\"commit: \", cursor.execute(\"commit\"))\n",
    "    con.commit()"
   ]
  },
  {
   "cell_type": "code",
   "execution_count": null,
   "metadata": {},
   "outputs": [],
   "source": [
    "# con2 = pymysql.connect(host = Connection_Info[0], \n",
    "#                             user = Connection_Info[1],\n",
    "#                             password = Connection_Info[2],\n",
    "#                             db = Connection_Info[3],\n",
    "#                             charset = 'utf8mb4')"
   ]
  },
  {
   "cell_type": "code",
   "execution_count": null,
   "metadata": {},
   "outputs": [],
   "source": [
    "# cursor2 = con2.cursor()"
   ]
  },
  {
   "cell_type": "code",
   "execution_count": null,
   "metadata": {},
   "outputs": [],
   "source": [
    "# print(\"start trans: \", cursor2.execute(\"start transaction\"))\n",
    "# cursor2.execute(\"update test set name = 'swyoo' where id = 1\")\n",
    "# print(\"num of record:\", cursor2.execute(\"select * from test\"))\n",
    "# result = cursor2.fetchall()\n",
    "# print(result)"
   ]
  },
  {
   "cell_type": "code",
   "execution_count": null,
   "metadata": {},
   "outputs": [],
   "source": [
    "# print(\"commit: \", cursor2.execute(\"commit\"))\n",
    "# con2.commit()"
   ]
  },
  {
   "cell_type": "code",
   "execution_count": null,
   "metadata": {},
   "outputs": [],
   "source": [
    "with con.cursor() as cursor:\n",
    "    print(\"SHOW PROCESSLIST: \", cursor.execute(\"show processlist\"))\n",
    "    result = cursor.fetchall()\n",
    "    print(result)\n",
    "    con.commit()"
   ]
  },
  {
   "cell_type": "code",
   "execution_count": null,
   "metadata": {},
   "outputs": [],
   "source": [
    "cursor"
   ]
  }
 ],
 "metadata": {
  "kernelspec": {
   "display_name": "Python 3",
   "language": "python",
   "name": "python3"
  },
  "language_info": {
   "codemirror_mode": {
    "name": "ipython",
    "version": 3
   },
   "file_extension": ".py",
   "mimetype": "text/x-python",
   "name": "python",
   "nbconvert_exporter": "python",
   "pygments_lexer": "ipython3",
   "version": "3.7.1"
  }
 },
 "nbformat": 4,
 "nbformat_minor": 2
}
