{
 "cells": [
  {
   "cell_type": "code",
   "execution_count": 1,
   "metadata": {},
   "outputs": [],
   "source": [
    "import numpy as np\n",
    "from numpy import linalg as la"
   ]
  },
  {
   "cell_type": "markdown",
   "metadata": {},
   "source": [
    "# PCA"
   ]
  },
  {
   "cell_type": "markdown",
   "metadata": {},
   "source": [
    "### example 1 \n",
    "<reference> https://www.fun-coding.org/recommend_basic5.html"
   ]
  },
  {
   "cell_type": "markdown",
   "metadata": {},
   "source": [
    "numpy.random.randint(low, high=None, size=None) 이용 \n",
    "<br>변수(행)별로 평균을 0으로 centering한 행렬 X′를 만듬 (좌표계의 원점이 평균 벡터와 일치하도록 만듬)"
   ]
  },
  {
   "cell_type": "code",
   "execution_count": 2,
   "metadata": {},
   "outputs": [
    {
     "name": "stdout",
     "output_type": "stream",
     "text": [
      "* 원본 data\n",
      "[[6. 1. 7.]\n",
      " [5. 8. 9.]\n",
      " [9. 0. 6.]\n",
      " [3. 5. 1.]\n",
      " [8. 2. 9.]]\n",
      "* 각 dimension 별 평균\n",
      "[6.2 3.2 6.4]\n",
      "[[-0.2 -2.2  0.6]\n",
      " [-1.2  4.8  2.6]\n",
      " [ 2.8 -3.2 -0.4]\n",
      " [-3.2  1.8 -5.4]\n",
      " [ 1.8 -1.2  2.6]]\n"
     ]
    }
   ],
   "source": [
    "user, item = 5, 3\n",
    "X = np.random.randint(10, size = (user, item)).astype('float64')\n",
    "print(\"* 원본 data\")\n",
    "print(X)\n",
    "print(\"* 각 dimension 별 평균\")\n",
    "print(np.mean(X, axis=0))\n",
    "X -= np.mean(X, axis=0)\n",
    "print(X)"
   ]
  },
  {
   "cell_type": "markdown",
   "metadata": {},
   "source": [
    "공분산행렬은 다음 식으로 만들 수 있음\n",
    "$$Σ=cov(X)= X^T X/(n−1) \\propto X^T X $$"
   ]
  },
  {
   "cell_type": "code",
   "execution_count": 3,
   "metadata": {},
   "outputs": [
    {
     "data": {
      "text/plain": [
       "array([[ 5.7 , -5.55,  4.4 ],\n",
       "       [-5.55, 10.7 , -0.1 ],\n",
       "       [ 4.4 , -0.1 , 10.8 ]])"
      ]
     },
     "execution_count": 3,
     "metadata": {},
     "output_type": "execute_result"
    }
   ],
   "source": [
    "C = np.cov(X, rowvar=False)\n",
    "C"
   ]
  },
  {
   "cell_type": "markdown",
   "metadata": {},
   "source": [
    "공분산행렬을 기반으로 고유값과 고유벡터 구하기"
   ]
  },
  {
   "cell_type": "code",
   "execution_count": 4,
   "metadata": {},
   "outputs": [
    {
     "data": {
      "text/plain": [
       "(array([ 0.73408415, 15.80237125, 10.6635446 ]),\n",
       " array([[-0.81878304, -0.57401728, -0.00992415],\n",
       "        [-0.45243256,  0.63451948,  0.62664967],\n",
       "        [ 0.35341068, -0.51758014,  0.7792379 ]]))"
      ]
     },
     "execution_count": 4,
     "metadata": {},
     "output_type": "execute_result"
    }
   ],
   "source": [
    "l, principal_axes = la.eig(C)\n",
    "l, principal_axes"
   ]
  },
  {
   "cell_type": "markdown",
   "metadata": {},
   "source": [
    "고유값을 높은 순으로 정렬하고, 이에 대응하는 고유벡터와 순서를 맞춤"
   ]
  },
  {
   "cell_type": "code",
   "execution_count": 5,
   "metadata": {},
   "outputs": [
    {
     "data": {
      "text/plain": [
       "array([1, 2, 0], dtype=int64)"
      ]
     },
     "execution_count": 5,
     "metadata": {},
     "output_type": "execute_result"
    }
   ],
   "source": [
    "idx = l.argsort()[::-1]\n",
    "idx"
   ]
  },
  {
   "cell_type": "code",
   "execution_count": 6,
   "metadata": {},
   "outputs": [
    {
     "data": {
      "text/plain": [
       "(array([15.80237125, 10.6635446 ,  0.73408415]),\n",
       " array([[-0.57401728, -0.00992415, -0.81878304],\n",
       "        [ 0.63451948,  0.62664967, -0.45243256],\n",
       "        [-0.51758014,  0.7792379 ,  0.35341068]]))"
      ]
     },
     "execution_count": 6,
     "metadata": {},
     "output_type": "execute_result"
    }
   ],
   "source": [
    "l, principal_axes = l[idx], principal_axes[:, idx]\n",
    "l, principal_axes"
   ]
  },
  {
   "cell_type": "code",
   "execution_count": 7,
   "metadata": {},
   "outputs": [
    {
     "data": {
      "text/plain": [
       "array([[ 1.00000000e+00,  4.81648513e-17,  2.98311285e-17],\n",
       "       [ 4.81648513e-17,  1.00000000e+00, -5.81539420e-17],\n",
       "       [ 2.98311285e-17, -5.81539420e-17,  1.00000000e+00]])"
      ]
     },
     "execution_count": 7,
     "metadata": {},
     "output_type": "execute_result"
    }
   ],
   "source": [
    "np.matmul(principal_axes.T, principal_axes) "
   ]
  },
  {
   "cell_type": "markdown",
   "metadata": {},
   "source": [
    "차원축소예 (고유값을 기준으로 가장 큰 d개의 고유 벡터 선택)"
   ]
  },
  {
   "cell_type": "markdown",
   "metadata": {},
   "source": [
    "* principal axis 를 구함"
   ]
  },
  {
   "cell_type": "code",
   "execution_count": 8,
   "metadata": {},
   "outputs": [
    {
     "data": {
      "text/plain": [
       "array([[-0.57401728, -0.00992415],\n",
       "       [ 0.63451948,  0.62664967],\n",
       "       [-0.51758014,  0.7792379 ]])"
      ]
     },
     "execution_count": 8,
     "metadata": {},
     "output_type": "execute_result"
    }
   ],
   "source": [
    "# d = 2 \n",
    "principal_axes[:, :2]"
   ]
  },
  {
   "cell_type": "markdown",
   "metadata": {},
   "source": [
    "* principal axis 를 기반으로 원본데이터 X에 대한 principal components 를 구함 \n",
    "  <br>그리고 top 2 개의 components 들에 대해서 dimensionality reduction을 수행"
   ]
  },
  {
   "cell_type": "code",
   "execution_count": 9,
   "metadata": {},
   "outputs": [
    {
     "data": {
      "text/plain": [
       "array([[-1.59168747, -0.90910172,  1.37115465],\n",
       "       [ 2.38880587,  5.04584594, -0.27026888],\n",
       "       [-3.43067865, -2.34476173, -0.9861726 ],\n",
       "       [ 5.77392309, -3.04815795, -0.10269053],\n",
       "       [-3.14036283,  1.25617545, -0.01202265]])"
      ]
     },
     "execution_count": 9,
     "metadata": {},
     "output_type": "execute_result"
    }
   ],
   "source": [
    "principal_components = X.dot(principal_axes)\n",
    "principal_components"
   ]
  },
  {
   "cell_type": "code",
   "execution_count": 10,
   "metadata": {},
   "outputs": [
    {
     "data": {
      "text/plain": [
       "array([[-1.59168747, -0.90910172],\n",
       "       [ 2.38880587,  5.04584594],\n",
       "       [-3.43067865, -2.34476173],\n",
       "       [ 5.77392309, -3.04815795],\n",
       "       [-3.14036283,  1.25617545]])"
      ]
     },
     "execution_count": 10,
     "metadata": {},
     "output_type": "execute_result"
    }
   ],
   "source": [
    "principal_components_reduced = X.dot(principal_axes[:, :2])\n",
    "principal_components_reduced"
   ]
  },
  {
   "cell_type": "code",
   "execution_count": 11,
   "metadata": {},
   "outputs": [
    {
     "name": "stdout",
     "output_type": "stream",
     "text": [
      "[-1.59168747  2.38880587 -3.43067865  5.77392309 -3.14036283]\n",
      "[-0.90910172  5.04584594 -2.34476173 -3.04815795  1.25617545]\n"
     ]
    }
   ],
   "source": [
    "# 새로운 변수 z1 과 z2 (5개의 데이터에대한 각각의 dimension component를 갖고있는 vector)\n",
    "z1 = principal_components_reduced[:,0]\n",
    "z2 = principal_components_reduced[:,1]\n",
    "print(z1)\n",
    "print(z2)"
   ]
  },
  {
   "cell_type": "markdown",
   "metadata": {},
   "source": [
    "### example 2"
   ]
  },
  {
   "cell_type": "code",
   "execution_count": 12,
   "metadata": {},
   "outputs": [],
   "source": [
    "n = 4 \n",
    "d = 2"
   ]
  },
  {
   "cell_type": "code",
   "execution_count": 13,
   "metadata": {},
   "outputs": [
    {
     "data": {
      "text/plain": [
       "array([[ 0., -2.],\n",
       "       [ 3., -3.],\n",
       "       [ 2.,  0.],\n",
       "       [-1.,  1.]])"
      ]
     },
     "execution_count": 13,
     "metadata": {},
     "output_type": "execute_result"
    }
   ],
   "source": [
    "X = np.array([[0,-2],[3,-3],[2,0],[-1,1]]).astype('float64')\n",
    "X"
   ]
  },
  {
   "cell_type": "code",
   "execution_count": 14,
   "metadata": {},
   "outputs": [
    {
     "data": {
      "text/plain": [
       "array([[-1., -1.],\n",
       "       [ 2., -2.],\n",
       "       [ 1.,  1.],\n",
       "       [-2.,  2.]])"
      ]
     },
     "execution_count": 14,
     "metadata": {},
     "output_type": "execute_result"
    }
   ],
   "source": [
    "# 각 row마다 빼진다. 알아서 broadcasting 되어 계산됨\n",
    "X -= np.mean(X, axis=0)\n",
    "X"
   ]
  },
  {
   "cell_type": "markdown",
   "metadata": {},
   "source": [
    "$$ C =Σ=cov(X)= X^T X/(n−1) $$"
   ]
  },
  {
   "cell_type": "code",
   "execution_count": 15,
   "metadata": {},
   "outputs": [
    {
     "name": "stdout",
     "output_type": "stream",
     "text": [
      "[[ 3.33333333 -2.        ]\n",
      " [-2.          3.33333333]]\n",
      "[[10. -6.]\n",
      " [-6. 10.]]\n"
     ]
    },
    {
     "data": {
      "text/plain": [
       "array([[10., -6.],\n",
       "       [-6., 10.]])"
      ]
     },
     "execution_count": 15,
     "metadata": {},
     "output_type": "execute_result"
    }
   ],
   "source": [
    "C = np.cov(X, rowvar=False)\n",
    "print(C)\n",
    "print(C*(n-1))\n",
    "np.matmul(X.T,X)"
   ]
  },
  {
   "cell_type": "code",
   "execution_count": 16,
   "metadata": {},
   "outputs": [
    {
     "name": "stdout",
     "output_type": "stream",
     "text": [
      "[5.33333333 1.33333333]\n",
      "[[ 0.70710678  0.70710678]\n",
      " [-0.70710678  0.70710678]]\n"
     ]
    }
   ],
   "source": [
    "l, principal_axes = la.eig(C)\n",
    "print(l)\n",
    "print(principal_axes)"
   ]
  },
  {
   "cell_type": "code",
   "execution_count": 17,
   "metadata": {},
   "outputs": [
    {
     "name": "stdout",
     "output_type": "stream",
     "text": [
      "[5.33333333 1.33333333]\n",
      "[[ 0.70710678  0.70710678]\n",
      " [-0.70710678  0.70710678]]\n"
     ]
    }
   ],
   "source": [
    "idx = l.argsort()[::-1]\n",
    "l, principal_axes = l[idx], principal_axes[:, idx]\n",
    "print(l)\n",
    "print(principal_axes)"
   ]
  },
  {
   "cell_type": "code",
   "execution_count": 18,
   "metadata": {},
   "outputs": [
    {
     "data": {
      "text/plain": [
       "array([[-2.22044605e-16, -1.41421356e+00],\n",
       "       [ 2.82842712e+00, -4.44089210e-16],\n",
       "       [ 2.22044605e-16,  1.41421356e+00],\n",
       "       [-2.82842712e+00,  4.44089210e-16]])"
      ]
     },
     "execution_count": 18,
     "metadata": {},
     "output_type": "execute_result"
    }
   ],
   "source": [
    "principal_components = X.dot(principal_axes)\n",
    "principal_components"
   ]
  },
  {
   "cell_type": "markdown",
   "metadata": {},
   "source": [
    "# SVD\n",
    "<reference> \n",
    "<br> https://www.fun-coding.org/recommend_basic6.html\n",
    "<br> https://en.wikipedia.org/wiki/Eigendecomposition_of_a_matrix\n",
    "<br> https://twlab.tistory.com/54\n",
    "$$ R=UΣV^T $$\n",
    "* note that $RR^T$ 또는 $R^TR$은 symmetric matrix이므로, eigen decomposition이 가능 \n",
    "* U는 $RR^T$ 즉, $R$의 공분산 행렬의 고유벡터\n",
    "* V는 $R^TR$ 즉, $R^T$의 공분산 행렬의 고유벡터\n",
    "* $ΣΣ^T$ 또는 $Σ^TΣ=λ$ \n",
    "  따라서, singular value (특이값) $σ = \\sqrt{λ}$\n",
    "    \n",
    "> approach: \n",
    "  $RR^T$ 또는 $R^TR$ 은 symmetric square matrix 이므로 eigen decomposition이 가능하고,\n",
    "  <br>이것을 이용하여, U, V, λ 를 구한다."
   ]
  },
  {
   "cell_type": "markdown",
   "metadata": {},
   "source": [
    "### example"
   ]
  },
  {
   "cell_type": "code",
   "execution_count": 19,
   "metadata": {},
   "outputs": [
    {
     "name": "stdout",
     "output_type": "stream",
     "text": [
      "* 원본 data\n",
      "[[3. 5. 9.]\n",
      " [6. 3. 6.]\n",
      " [1. 5. 8.]\n",
      " [9. 1. 9.]\n",
      " [5. 9. 2.]]\n"
     ]
    }
   ],
   "source": [
    "user, item = 5, 3\n",
    "R = np.random.randint(10, size = (user, item)).astype('float')\n",
    "# user, item = 4, 2\n",
    "# R = np.array([[2,3],[1,4],[0,0],[0,0]]).astype('float')\n",
    "# R = np.array([[1,0,0,0,0],[0,0,2,0,3],[0,0,0,0,0],[0,2,0,0,0]])\n",
    "print(\"* 원본 data\")\n",
    "print(R)\n",
    "# print(\"* 각 dimension 별 평균\")\n",
    "# print(np.mean(R, axis=0))\n",
    "# R -= np.mean(R, axis=0)\n",
    "# print(R)"
   ]
  },
  {
   "cell_type": "code",
   "execution_count": 20,
   "metadata": {},
   "outputs": [
    {
     "name": "stdout",
     "output_type": "stream",
     "text": [
      "[21.45220553  7.84463213  6.10447579]\n",
      "[[-0.48274233 -0.05440993 -0.45081396]\n",
      " [-0.41131347  0.13421733  0.23373531]\n",
      " [-0.4004903  -0.16692952 -0.62320608]\n",
      " [-0.54412941  0.60055596  0.34948361]\n",
      " [-0.37591459 -0.76843499  0.48125872]]\n",
      "[[-0.51711866  0.25979209  0.8155344 ]\n",
      " [-0.44645593 -0.8948035   0.00195231]\n",
      " [-0.73025023  0.36309059 -0.5787053 ]]\n",
      "[[21.45220553  0.          0.        ]\n",
      " [ 0.          7.84463213  0.        ]\n",
      " [ 0.          0.          6.10447579]]\n"
     ]
    }
   ],
   "source": [
    "# we now perform singular value decomposition of X\n",
    "# \"economy size\" (or \"thin\") SVD\n",
    "# U, s, Vt = la.svd(R, full_matrices=True)\n",
    "U, s, Vt = la.svd(R, full_matrices=False)\n",
    "V = Vt.T\n",
    "print(s)\n",
    "S = np.diag(s)\n",
    "print(U)\n",
    "print(V)\n",
    "print(S)"
   ]
  },
  {
   "cell_type": "code",
   "execution_count": 21,
   "metadata": {},
   "outputs": [
    {
     "data": {
      "text/plain": [
       "array([[3., 5., 9.],\n",
       "       [6., 3., 6.],\n",
       "       [1., 5., 8.],\n",
       "       [9., 1., 9.],\n",
       "       [5., 9., 2.]])"
      ]
     },
     "execution_count": 21,
     "metadata": {},
     "output_type": "execute_result"
    }
   ],
   "source": [
    "R"
   ]
  },
  {
   "cell_type": "code",
   "execution_count": 22,
   "metadata": {},
   "outputs": [
    {
     "data": {
      "text/plain": [
       "array([[3., 5., 9.],\n",
       "       [6., 3., 6.],\n",
       "       [1., 5., 8.],\n",
       "       [9., 1., 9.],\n",
       "       [5., 9., 2.]])"
      ]
     },
     "execution_count": 22,
     "metadata": {},
     "output_type": "execute_result"
    }
   ],
   "source": [
    "np.matmul(np.matmul(U, S), V.T)"
   ]
  },
  {
   "cell_type": "markdown",
   "metadata": {},
   "source": [
    "Trancated SVD: "
   ]
  },
  {
   "cell_type": "code",
   "execution_count": 23,
   "metadata": {},
   "outputs": [
    {
     "data": {
      "text/plain": [
       "array([[ 5.24433676,  5.00537273,  7.40741289],\n",
       "       [ 4.83636978,  2.99721438,  6.82571499],\n",
       "       [ 4.1025754 ,  5.00742727,  5.79840455],\n",
       "       [ 7.26012729,  0.99583491, 10.23461813],\n",
       "       [ 2.60409674,  8.99426443,  3.70013909]])"
      ]
     },
     "execution_count": 23,
     "metadata": {},
     "output_type": "execute_result"
    }
   ],
   "source": [
    "# d = 2 \n",
    "np.matmul(np.matmul(U[:,:2], S[:2,:2]), V.T[:2,:])"
   ]
  },
  {
   "cell_type": "markdown",
   "metadata": {},
   "source": [
    "### numerical 하게 계산해봤다"
   ]
  },
  {
   "cell_type": "code",
   "execution_count": 24,
   "metadata": {},
   "outputs": [
    {
     "name": "stdout",
     "output_type": "stream",
     "text": [
      "[[152.  92. 162.]\n",
      " [ 92. 141. 130.]\n",
      " [162. 130. 266.]]\n",
      "[[115.  87. 100. 113.  78.]\n",
      " [ 87.  81.  69. 111.  69.]\n",
      " [100.  69.  90.  86.  66.]\n",
      " [113. 111.  86. 163.  72.]\n",
      " [ 78.  69.  66.  72. 110.]]\n"
     ]
    }
   ],
   "source": [
    "print(np.matmul(R.T, R))\n",
    "print(np.matmul(R, R.T))\n",
    "C1 = np.matmul(R.T, R)\n",
    "C2 = np.matmul(R, R.T)"
   ]
  },
  {
   "cell_type": "code",
   "execution_count": 25,
   "metadata": {},
   "outputs": [
    {
     "name": "stdout",
     "output_type": "stream",
     "text": [
      "eigenvalues = \n",
      " [460.19712204  61.53825326  37.2646247 ]\n",
      "eigenvectors, which is same with V = \n",
      " [[ 0.51711866  0.25979209  0.8155344 ]\n",
      " [ 0.44645593 -0.8948035   0.00195231]\n",
      " [ 0.73025023  0.36309059 -0.5787053 ]]\n"
     ]
    }
   ],
   "source": [
    "# # C1 is a symmetric matrix and so it can be diagonalized:\n",
    "l, principal_axes = la.eig(C1)\n",
    "# sort results wrt. eigenvalues\n",
    "idx = l.argsort()[::-1]\n",
    "l, principal_axes = l[idx], principal_axes[:, idx]\n",
    "# the eigenvalues in decreasing order\n",
    "print (\"eigenvalues = \\n\", l)\n",
    "# a matrix of eigenvectors (each column is an eigenvector)\n",
    "V = principal_axes\n",
    "print (\"eigenvectors, which is same with V = \\n\", V)\n",
    "# principal_components = R.dot(principal_axes)\n",
    "# print (\"principal_components = \\n\", principal_components)"
   ]
  },
  {
   "cell_type": "code",
   "execution_count": 26,
   "metadata": {},
   "outputs": [
    {
     "name": "stdout",
     "output_type": "stream",
     "text": [
      "[21.45220553  7.84463213  6.10447579]\n",
      "[[ 0.48274233 -0.05440993 -0.45081396]\n",
      " [ 0.41131347  0.13421733  0.23373531]\n",
      " [ 0.4004903  -0.16692952 -0.62320608]\n",
      " [ 0.54412941  0.60055596  0.34948361]\n",
      " [ 0.37591459 -0.76843499  0.48125872]]\n"
     ]
    }
   ],
   "source": [
    "singulars = np.sqrt(l)\n",
    "print(singulars)\n",
    "U = np.matmul(R, V)\n",
    "# print(U)\n",
    "for i, sing in enumerate(singulars):\n",
    "    U[:,i] = U[:,i]/sing\n",
    "print(U)"
   ]
  },
  {
   "cell_type": "code",
   "execution_count": 27,
   "metadata": {},
   "outputs": [
    {
     "data": {
      "text/plain": [
       "array([[21.45220553,  0.        ,  0.        ],\n",
       "       [ 0.        ,  7.84463213,  0.        ],\n",
       "       [ 0.        ,  0.        ,  6.10447579]])"
      ]
     },
     "execution_count": 27,
     "metadata": {},
     "output_type": "execute_result"
    }
   ],
   "source": [
    "S = np.diag(singulars)\n",
    "S"
   ]
  },
  {
   "cell_type": "code",
   "execution_count": 28,
   "metadata": {},
   "outputs": [
    {
     "data": {
      "text/plain": [
       "array([[3., 5., 9.],\n",
       "       [6., 3., 6.],\n",
       "       [1., 5., 8.],\n",
       "       [9., 1., 9.],\n",
       "       [5., 9., 2.]])"
      ]
     },
     "execution_count": 28,
     "metadata": {},
     "output_type": "execute_result"
    }
   ],
   "source": [
    "R"
   ]
  },
  {
   "cell_type": "code",
   "execution_count": 29,
   "metadata": {},
   "outputs": [
    {
     "data": {
      "text/plain": [
       "array([[3., 5., 9.],\n",
       "       [6., 3., 6.],\n",
       "       [1., 5., 8.],\n",
       "       [9., 1., 9.],\n",
       "       [5., 9., 2.]])"
      ]
     },
     "execution_count": 29,
     "metadata": {},
     "output_type": "execute_result"
    }
   ],
   "source": [
    "np.matmul(np.matmul(U, S), V.T)"
   ]
  }
 ],
 "metadata": {
  "kernelspec": {
   "display_name": "Python 3",
   "language": "python",
   "name": "python3"
  },
  "language_info": {
   "codemirror_mode": {
    "name": "ipython",
    "version": 3
   },
   "file_extension": ".py",
   "mimetype": "text/x-python",
   "name": "python",
   "nbconvert_exporter": "python",
   "pygments_lexer": "ipython3",
   "version": "3.7.1"
  }
 },
 "nbformat": 4,
 "nbformat_minor": 2
}
