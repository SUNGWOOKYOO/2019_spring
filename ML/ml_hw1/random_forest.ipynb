{
 "cells": [
  {
   "cell_type": "markdown",
   "metadata": {},
   "source": [
    "# Problem 5> Random Forest"
   ]
  },
  {
   "cell_type": "markdown",
   "metadata": {},
   "source": [
    "## 0. Load the dataset / Accuracy function"
   ]
  },
  {
   "cell_type": "markdown",
   "metadata": {},
   "source": [
    "This part is the same as the previous problem. Copy your code from 'decision_tree.ipynb'"
   ]
  },
  {
   "cell_type": "code",
   "execution_count": 1,
   "metadata": {},
   "outputs": [],
   "source": [
    "import csv\n",
    "import numpy as np"
   ]
  },
  {
   "cell_type": "code",
   "execution_count": 2,
   "metadata": {},
   "outputs": [],
   "source": [
    "def load_data(d_train, d_test):\n",
    "################################################################################\n",
    "# TODO: Implement the function to load and preprocess the data                 #\n",
    "# ** Make sure that the outputs of the function are the type of 'np.array'     #\n",
    "#   - 'wine_feature' means the list of 11 attributes (except for 'quality')    #\n",
    "#   - wine_feature = ['fixed acidity', 'volatile acidity', ... , 'alcohol']    #\n",
    "################################################################################\n",
    "\n",
    "    # Write your code here\n",
    "    \n",
    "    X_train = np.empty(shape = [0,11])\n",
    "    Y_train = np.empty(shape = [0,1])\n",
    "    wine_feature = []\n",
    "    with open(d_train, 'r') as reader:\n",
    "        flag = False\n",
    "\n",
    "        for line in reader:\n",
    "            if flag is False:\n",
    "                #print(\"debug\")\n",
    "                features = line.split(',')\n",
    "                wine_feature = features[:-1]\n",
    "                flag = True\n",
    "                continue\n",
    "            linelist = line.split(',')\n",
    "            #print(type(linelist))\n",
    "            #print(len(linelist))\n",
    "            X_train_new_row = np.array(linelist[:-1]).reshape([1,11])\n",
    "            #print(X_train_row.shape)\n",
    "            Y_train_new_row = np.array(linelist[-1]).reshape([1,1])\n",
    "            #X_train = np.append(X_train,X_train_new_row)\n",
    "            X_train = np.vstack([X_train,X_train_new_row])\n",
    "            Y_train = np.append(Y_train,Y_train_new_row)\n",
    "    \n",
    "    X_test = np.empty(shape = [0,11])\n",
    "    Y_test = np.empty(shape = [0,1])\n",
    "    with open(d_test, 'r') as reader:\n",
    "        flag = False\n",
    "\n",
    "        for line in reader:\n",
    "            if flag is False:\n",
    "                #features = line.split(',')\n",
    "                flag = True\n",
    "                continue\n",
    "            linelist = line.split(',')\n",
    "            X_test_new_row = np.array(linelist[:-1]).reshape([1,11])\n",
    "            Y_test_new_row = np.array(linelist[-1]).reshape([1,1])\n",
    "            X_test = np.vstack([X_test,X_test_new_row])\n",
    "            Y_test = np.append(Y_test,Y_test_new_row)\n",
    "    \n",
    "    \n",
    "    return X_train, Y_train, X_test, Y_test, np.array(wine_feature)\n",
    "################################################################################\n",
    "#                                 END OF YOUR CODE                             #\n",
    "################################################################################"
   ]
  },
  {
   "cell_type": "code",
   "execution_count": 3,
   "metadata": {},
   "outputs": [
    {
     "name": "stdout",
     "output_type": "stream",
     "text": [
      "Training data shape:  (434, 11)\n",
      "Training labels shape:  (434,)\n",
      "Test data shape:  (109, 11)\n",
      "Test labels shape:  (109,)\n",
      "Feature shape:  (11,)\n"
     ]
    }
   ],
   "source": [
    "path = %pwd\n",
    "\n",
    "# path for training data and test data\n",
    "train_data = path + '/wine_train.csv'\n",
    "test_data = path + '/wine_test.csv'\n",
    "\n",
    "X_train, Y_train, X_test, Y_test, wine_feature = load_data(train_data, test_data)\n",
    "\n",
    "# Sanity check\n",
    "print('Training data shape: ', X_train.shape) # (434, 11)\n",
    "print('Training labels shape: ', Y_train.shape) # (434, )\n",
    "print('Test data shape: ', X_test.shape) # (109, 11)\n",
    "print('Test labels shape: ', Y_test.shape) # (109, )\n",
    "print('Feature shape: ', wine_feature.shape) # (11, )"
   ]
  },
  {
   "cell_type": "code",
   "execution_count": 4,
   "metadata": {},
   "outputs": [],
   "source": [
    "def calculate_accuracy(Y_test, Y_predict):\n",
    "################################################################################\n",
    "# TODO: Make a function for calculating the accuracy                           #\n",
    "# ** Make sure that the output of the function is the type of 'float'          #\n",
    "#   - This function should be work with test dataset                           #\n",
    "################################################################################\n",
    "    \n",
    "    # Write your code here\n",
    "    # count_nonzero fucntion : https://www.w3cschool.cn/doc_numpy_1_13/numpy_1_13-generated-numpy-count_nonzero.html\n",
    "    # accurate rate = count(predicted Y == ground truth Y) / total number of predicted Y \n",
    "    accuracy = np.count_nonzero(Y_predict == Y_test)/Y_predict.shape[0] * 100\n",
    "    return accuracy\n",
    "################################################################################\n",
    "#                                 END OF YOUR CODE                             #\n",
    "################################################################################"
   ]
  },
  {
   "cell_type": "markdown",
   "metadata": {},
   "source": [
    "## 1. Implement a random forest (9p) "
   ]
  },
  {
   "cell_type": "code",
   "execution_count": 5,
   "metadata": {},
   "outputs": [
    {
     "name": "stdout",
     "output_type": "stream",
     "text": [
      "The number of trees = 10 \t accuracy = 58.715596 \n",
      "The number of trees = 50 \t accuracy = 55.045872 \n",
      "The number of trees = 150 \t accuracy = 55.963303 \n",
      "The number of trees = 250 \t accuracy = 59.633028 \n"
     ]
    }
   ],
   "source": [
    "################################################################################\n",
    "# TODO: Implement/train/test a random forest model                             #\n",
    "#   - You don't need to show all the results                                   #\n",
    "#   - If you use scikit-learn library, your code wouldn't be long              #   \n",
    "################################################################################\n",
    "\n",
    "# Write your code here\n",
    "from sklearn.ensemble import RandomForestClassifier\n",
    "#Y_train = Y_train.reshape((-1,)) # RandomForestClassifier는 single classification을 하므로 dim(Y_train) = 1 로 바꾼다.\n",
    "\n",
    "X = []\n",
    "Y = []\n",
    "for numoftrees in (10, 50, 150, 250): \n",
    "    rf = RandomForestClassifier(n_estimators=numoftrees, max_depth=3)\n",
    "    rf.fit(X_train, Y_train)\n",
    "    Y_pred = rf.predict(X_test)\n",
    "    acc = calculate_accuracy(Y_test, Y_pred)\n",
    "    print(\"The number of trees = %d \\t accuracy = %f \" % (numoftrees, acc))\n",
    "    X.append(numoftrees)\n",
    "    Y.append(acc)\n",
    "    \n",
    "################################################################################\n",
    "#                                 END OF YOUR CODE                             #\n",
    "################################################################################"
   ]
  },
  {
   "cell_type": "markdown",
   "metadata": {},
   "source": [
    "**Question #1:** Plot the accuracy according to the number of trees (10, 50, 150, 250, depth of trees=3)"
   ]
  },
  {
   "cell_type": "markdown",
   "metadata": {},
   "source": [
    "**Your Answer:** Write your code to plot the graph at the below cell."
   ]
  },
  {
   "cell_type": "code",
   "execution_count": 6,
   "metadata": {},
   "outputs": [
    {
     "data": {
      "image/png": "[encoded data removed]",
      "text/plain": [
       "<Figure size 432x288 with 1 Axes>"
      ]
     },
     "metadata": {
      "needs_background": "light"
     },
     "output_type": "display_data"
    }
   ],
   "source": [
    "# Write your code here\n",
    "import matplotlib.pylab as plt\n",
    "%matplotlib inline\n",
    "\n",
    "plt.title(\"Plot\")\n",
    "plt.xlabel(\"# of trees\")\n",
    "plt.ylabel(\"Accuracy\")\n",
    "plt.plot(X, Y, color = 'r', marker = \"^\")\n",
    "plt.show()"
   ]
  },
  {
   "cell_type": "markdown",
   "metadata": {},
   "source": [
    "**Question #2:** Plot the accuracy according to the depth of trees (1, 2, 3, 4, # of trees=10)"
   ]
  },
  {
   "cell_type": "markdown",
   "metadata": {},
   "source": [
    "**Your Answer:** Write your code to plot the graph at the below cell."
   ]
  },
  {
   "cell_type": "code",
   "execution_count": 7,
   "metadata": {},
   "outputs": [
    {
     "name": "stdout",
     "output_type": "stream",
     "text": [
      "The depth of trees = 1 \t accuracy = 41.284404 \n",
      "The depth of trees = 2 \t accuracy = 62.385321 \n",
      "The depth of trees = 3 \t accuracy = 57.798165 \n",
      "The depth of trees = 4 \t accuracy = 53.211009 \n"
     ]
    },
    {
     "data": {
      "image/png": "[encoded data removed]",
      "text/plain": [
       "<Figure size 432x288 with 1 Axes>"
      ]
     },
     "metadata": {
      "needs_background": "light"
     },
     "output_type": "display_data"
    }
   ],
   "source": [
    "# Write your code here\n",
    "X = []\n",
    "Y = []\n",
    "for depth in range(1,5):\n",
    "    rf = RandomForestClassifier(n_estimators=10, max_depth=depth)\n",
    "    rf.fit(X_train, Y_train)\n",
    "    Y_pred = rf.predict(X_test)\n",
    "    acc = calculate_accuracy(Y_test, Y_pred)\n",
    "    print(\"The depth of trees = %d \\t accuracy = %f \" % (depth, acc))\n",
    "    X.append(depth)\n",
    "    Y.append(acc)\n",
    "    \n",
    "plt.title(\"Plot\")\n",
    "plt.xlabel(\"The depth of trees\")\n",
    "plt.ylabel(\"Accuracy\")\n",
    "plt.plot(X, Y, color = \"r\", marker = \"^\")\n",
    "plt.show()\n",
    "X.clear()\n",
    "Y.clear()"
   ]
  },
  {
   "cell_type": "markdown",
   "metadata": {},
   "source": [
    "## 2. Classifier ensemble (9p) "
   ]
  },
  {
   "cell_type": "code",
   "execution_count": 8,
   "metadata": {},
   "outputs": [
    {
     "name": "stdout",
     "output_type": "stream",
     "text": [
      "The number of features = 2 \t accuracy = 45.667686 \n",
      "The number of features = 3 \t accuracy = 48.521916 \n",
      "The number of features = 4 \t accuracy = 49.643221 \n",
      "The number of features = 5 \t accuracy = 48.521916 \n",
      "The number of features = 6 \t accuracy = 49.745158 \n",
      "The number of features = 7 \t accuracy = 50.356779 \n",
      "The number of features = 8 \t accuracy = 48.929664 \n",
      "The number of features = 9 \t accuracy = 48.012232 \n",
      "The number of features = 10 \t accuracy = 47.502548 \n",
      "The number of features = 11 \t accuracy = 48.114169 \n"
     ]
    }
   ],
   "source": [
    "################################################################################\n",
    "# TODO: Show how you process the data to change the number of features         #  \n",
    "#   - Just apply the simple operation to the data                              #\n",
    "################################################################################\n",
    "# Write your code here\n",
    "batch_size = 50\n",
    "for i in range(2, len(wine_feature) + 1):\n",
    "    rf = RandomForestClassifier(n_estimators=10, max_depth=2, max_features= i)\n",
    "    batch_num = X_train.shape[0]//batch_size\n",
    "    residual = X_train.shape[0]%batch_size\n",
    "    if residual != 0:\n",
    "        batch_num += 1\n",
    "    total = 0\n",
    "    \n",
    "    for j in range(batch_num):\n",
    "        offset = j * batch_size\n",
    "        if(j == batch_num and residual != 0):\n",
    "            curr_data = X_train[offset:offset+residual, :]\n",
    "            curr_label = Y_train[offset:offset+residual]\n",
    "        else:\n",
    "            curr_data = X_train[offset:offset+batch_size, :]\n",
    "            curr_label = Y_train[offset:offset+batch_size]  \n",
    "        rf.fit(curr_data, curr_label)\n",
    "        Y_pred = rf.predict(X_test)\n",
    "        temp = calculate_accuracy(Y_test, Y_pred)\n",
    "        total += temp\n",
    "    acc = total / batch_num\n",
    "    print(\"The number of features = %d \\t accuracy = %f \" % (i, acc))\n",
    "    X.append(i)\n",
    "    Y.append(acc)\n",
    "################################################################################\n",
    "#                                 END OF YOUR CODE                             #\n",
    "################################################################################"
   ]
  },
  {
   "cell_type": "markdown",
   "metadata": {},
   "source": [
    "**Question #1:** Plot the accuracy according to the number of features, ranging from 2 to 11"
   ]
  },
  {
   "cell_type": "markdown",
   "metadata": {},
   "source": [
    "**Your Answer:** Write your code to plot the graph at the below cell."
   ]
  },
  {
   "cell_type": "code",
   "execution_count": 9,
   "metadata": {},
   "outputs": [
    {
     "data": {
      "image/png": "[encoded data removed]",
      "text/plain": [
       "<Figure size 432x288 with 1 Axes>"
      ]
     },
     "metadata": {
      "needs_background": "light"
     },
     "output_type": "display_data"
    }
   ],
   "source": [
    "# Write your code here\n",
    "plt.title(\"Plot\")\n",
    "plt.xlabel(\"The number of features\")\n",
    "plt.ylabel(\"Accuracy\")\n",
    "plt.plot(X, Y, color = \"r\", marker = \"^\")\n",
    "plt.show()\n",
    "X.clear()\n",
    "Y.clear()"
   ]
  },
  {
   "cell_type": "markdown",
   "metadata": {},
   "source": [
    "**Question #2:** Compare this with result of problem 4-(2)"
   ]
  },
  {
   "cell_type": "markdown",
   "metadata": {},
   "source": [
    "**Your Answer:** \n",
    "*** \n",
    "> problem 4-(2) result:\n",
    "<br>The number of features = 2  accuracy = 47.706\n",
    "<br>The number of features = 3\t accuracy = 38.532\n",
    "<br>The number of features = 4\t accuracy = 48.624\n",
    "<br>The number of features = 5\t accuracy = 46.789\n",
    "<br>The number of features = 6\t accuracy = 55.046\n",
    "<br>The number of features = 7\t accuracy = 43.119\n",
    "<br>The number of features = 8\t accuracy = 49.541\n",
    "<br>The number of features = 9\t accuracy = 49.541\n",
    "<br>The number of features = 10\t accuracy = 44.037\n",
    "<br>The number of features = 11\t accuracy = 56.881\n",
    "***\n",
    "<br>As you can be see, there are no big difference. \n",
    "<br>However, the average accuracy of random forest method is more good  "
   ]
  },
  {
   "cell_type": "markdown",
   "metadata": {},
   "source": [
    "## 3. Compare the result  between 'decision tree' and 'random forest' (9p)"
   ]
  },
  {
   "cell_type": "code",
   "execution_count": 10,
   "metadata": {},
   "outputs": [
    {
     "data": {
      "image/png": "[encoded data removed]",
      "text/plain": [
       "<Figure size 432x288 with 1 Axes>"
      ]
     },
     "metadata": {
      "needs_background": "light"
     },
     "output_type": "display_data"
    }
   ],
   "source": [
    "X = []\n",
    "Y = []\n",
    "batch_size = 50\n",
    "for i in (5, 10, 50, 150):\n",
    "    Y_temp = []\n",
    "    for j in range(1,10):    \n",
    "        rf = RandomForestClassifier(n_estimators=i, max_depth=j, max_features= 3)\n",
    "        batch_num = X_train.shape[0]//batch_size\n",
    "        residual = X_train.shape[0]%batch_size\n",
    "        if residual != 0:\n",
    "            batch_num += 1\n",
    "        total = 0\n",
    "        for j in range(batch_num):\n",
    "            offset = j * batch_size\n",
    "            if(j == batch_num and residual != 0):\n",
    "                curr_data = X_train[offset:offset+residual, :]\n",
    "                curr_label = Y_train[offset:offset+residual]\n",
    "            else:\n",
    "                curr_data = X_train[offset:offset+batch_size, :]\n",
    "                curr_label = Y_train[offset:offset+batch_size]  \n",
    "            rf.fit(curr_data, curr_label)\n",
    "            Y_pred = rf.predict(X_test)\n",
    "            temp = calculate_accuracy(Y_test, Y_pred)\n",
    "            total += temp\n",
    "        acc = total / batch_num\n",
    "#         print(\"tree = %d, depth = %d, accuracy = %f \" %(i,j,acc))\n",
    "        Y_temp.append(acc)\n",
    "    Y.append(Y_temp)\n",
    "\n",
    "X = list(range(1,10))\n",
    "plt.title(\"Plot\")\n",
    "plt.xlabel(\"Depth\")\n",
    "plt.ylabel(\"Accuracy\")\n",
    "plt.plot(X, Y[0], color = 'b', marker = \"o\", label = '5')\n",
    "plt.plot(X, Y[1], color = 'r', marker = \"x\", label = '10')\n",
    "plt.plot(X, Y[2], color = 'y', marker = \"d\", label = '50')\n",
    "plt.plot(X, Y[3], color = 'g', marker = \"^\", label = '150')\n",
    "plt.legend(loc='upper right')\n",
    "plt.show()\n",
    "X.clear()\n",
    "Y.clear()\n"
   ]
  },
  {
   "cell_type": "code",
   "execution_count": 11,
   "metadata": {},
   "outputs": [
    {
     "name": "stdout",
     "output_type": "stream",
     "text": [
      "65.13761467889908\n"
     ]
    }
   ],
   "source": [
    "rf = RandomForestClassifier(n_estimators=50, max_depth=7, max_features= 3)\n",
    "rf.fit(X_train, Y_train)\n",
    "total = 0\n",
    "Y_pred = rf.predict(X_test)\n",
    "acc = calculate_accuracy(Y_test, Y_pred)\n",
    "\n",
    "print(acc)"
   ]
  },
  {
   "cell_type": "markdown",
   "metadata": {},
   "source": [
    "**Question #1:** Describe the best model you find (including the best result)."
   ]
  },
  {
   "cell_type": "markdown",
   "metadata": {},
   "source": [
    "**Your Answer:** \n",
    "> <br>the best model that I find is the above case.\n",
    "<br>rf = RandomForestClassifier(n_estimators=50, max_depth=7, max_features= 3)\n",
    "<br>in that case, the accuracy is 65% "
   ]
  },
  {
   "cell_type": "markdown",
   "metadata": {},
   "source": [
    "**Question #2:** Compare this results with the result of problem 4-(3), and see which one performs better."
   ]
  },
  {
   "cell_type": "markdown",
   "metadata": {},
   "source": [
    "**Your Answer:**\n",
    "> <br>The results of problem 4-(3) was the best case among choosing 4 features. \n",
    "<br>the result of random forest is as good as previous case. \n",
    "I think random forest method is more good. This is because problem 4-(3) calculate all of cases when we choose 4 features, which is very expensive when it comes to time complexity.  "
   ]
  }
 ],
 "metadata": {
  "kernelspec": {
   "display_name": "Python 3",
   "language": "python",
   "name": "python3"
  },
  "language_info": {
   "codemirror_mode": {
    "name": "ipython",
    "version": 3
   },
   "file_extension": ".py",
   "mimetype": "text/x-python",
   "name": "python",
   "nbconvert_exporter": "python",
   "pygments_lexer": "ipython3",
   "version": "3.7.1"
  }
 },
 "nbformat": 4,
 "nbformat_minor": 2
}
