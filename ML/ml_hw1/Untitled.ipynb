{
 "cells": [
  {
   "cell_type": "markdown",
   "metadata": {},
   "source": [
    "# Test"
   ]
  },
  {
   "cell_type": "markdown",
   "metadata": {},
   "source": [
    "1. "
   ]
  },
  {
   "cell_type": "code",
   "execution_count": 2,
   "metadata": {},
   "outputs": [
    {
     "data": {
      "text/plain": [
       "'C:\\\\Users\\\\유성욱\\\\jupyter\\\\2019_spring\\\\ML\\\\ml_hw1'"
      ]
     },
     "execution_count": 2,
     "metadata": {},
     "output_type": "execute_result"
    }
   ],
   "source": [
    "path = %pwd\n",
    "path"
   ]
  },
  {
   "cell_type": "code",
   "execution_count": 3,
   "metadata": {},
   "outputs": [
    {
     "name": "stdout",
     "output_type": "stream",
     "text": [
      " C 드라이브의 볼륨에는 이름이 없습니다.\n",
      " 볼륨 일련 번호: 2677-6C60\n",
      "\n",
      " C:\\Users\\유성욱\\jupyter\\2019_spring\\ML\\ml_hw1 디렉터리\n",
      "\n",
      "2019-04-05  오전 12:19    <DIR>          .\n",
      "2019-04-05  오전 12:19    <DIR>          ..\n",
      "2019-03-28  오후 06:06             6,148 .DS_Store\n",
      "2019-04-04  오후 11:48    <DIR>          .ipynb_checkpoints\n",
      "2019-04-04  오후 11:52             7,149 decision_tree.ipynb\n",
      "2019-03-29  오전 11:36             7,638 random_forest.ipynb\n",
      "2019-04-05  오전 12:19             7,152 Untitled.ipynb\n",
      "2019-03-28  오후 06:04             1,746 vis_tree.py\n",
      "2019-03-28  오후 02:12             6,910 wine_test.csv\n",
      "2019-03-28  오후 02:12            26,839 wine_train.csv\n",
      "               7개 파일              63,582 바이트\n",
      "               3개 디렉터리  328,313,024,512 바이트 남음\n"
     ]
    }
   ],
   "source": [
    "%ls"
   ]
  },
  {
   "cell_type": "code",
   "execution_count": 4,
   "metadata": {},
   "outputs": [],
   "source": [
    "import numpy as np"
   ]
  },
  {
   "cell_type": "code",
   "execution_count": 24,
   "metadata": {},
   "outputs": [
    {
     "name": "stdout",
     "output_type": "stream",
     "text": [
      "debug\n"
     ]
    }
   ],
   "source": [
    "X_train = np.empty(shape = [0,11])\n",
    "Y_train = np.empty(shape = [0,1])\n",
    "with open( path + '/wine_train.csv', 'r') as reader:\n",
    "    flag = False\n",
    "    \n",
    "    for line in reader:\n",
    "        if flag is False:\n",
    "            print(\"debug\")\n",
    "            features = line.split(',')\n",
    "            flag = True\n",
    "            continue\n",
    "        linelist = line.split(',')\n",
    "        #print(type(linelist))\n",
    "        #print(len(linelist))\n",
    "        X_train_new_row = np.array(linelist[:-1]).reshape([1,11])\n",
    "        #print(X_train_row.shape)\n",
    "        Y_train_new_row = np.array(linelist[-1]).reshape([1,1])\n",
    "        #X_train = np.append(X_train,X_train_new_row)\n",
    "        X_train = np.vstack([X_train,X_train_new_row])\n",
    "        Y_train = np.vstack([Y_train,Y_train_new_row])\n",
    "        "
   ]
  },
  {
   "cell_type": "code",
   "execution_count": 35,
   "metadata": {},
   "outputs": [],
   "source": [
    "X_test = np.empty(shape = [0,11])\n",
    "Y_test = np.empty(shape = [0,1])\n",
    "with open( path + '/wine_test.csv', 'r') as reader:\n",
    "    flag = False\n",
    "\n",
    "    for line in reader:\n",
    "        if flag is False:\n",
    "            #features = line.split(',')\n",
    "            flag = True\n",
    "            continue\n",
    "        linelist = line.split(',')\n",
    "        X_test_new_row = np.array(linelist[:-1]).reshape([1,11])\n",
    "        Y_test_new_row = np.array(linelist[-1]).reshape([1,1])\n",
    "        X_test = np.vstack([X_test,X_test_new_row])\n",
    "        Y_test = np.vstack([Y_test,Y_test_new_row])\n",
    "    "
   ]
  },
  {
   "cell_type": "code",
   "execution_count": 42,
   "metadata": {},
   "outputs": [],
   "source": [
    "#Y_train"
   ]
  },
  {
   "cell_type": "code",
   "execution_count": 43,
   "metadata": {},
   "outputs": [
    {
     "data": {
      "text/plain": [
       "array([['9.4', '0.29', '0.55', ..., '3.12', '0.69', '10.3'],\n",
       "       ['8.4', '0.27', '0.46', ..., '3.14', '0.59', '9.6'],\n",
       "       ['6.2', '0.24', '0.29', ..., '3.33', '0.46', '11.0'],\n",
       "       ...,\n",
       "       ['7.1', '0.25', '0.39', ..., '3.28', '0.43', '12.2'],\n",
       "       ['6.2', '0.45', '0.26', ..., '3.27', '0.52', '9.8'],\n",
       "       ['5.0', '0.55', '0.14', ..., '3.53', '0.51', '12.5']], dtype='<U32')"
      ]
     },
     "execution_count": 43,
     "metadata": {},
     "output_type": "execute_result"
    }
   ],
   "source": [
    "X_train"
   ]
  }
 ],
 "metadata": {
  "kernelspec": {
   "display_name": "Python 3",
   "language": "python",
   "name": "python3"
  },
  "language_info": {
   "codemirror_mode": {
    "name": "ipython",
    "version": 3
   },
   "file_extension": ".py",
   "mimetype": "text/x-python",
   "name": "python",
   "nbconvert_exporter": "python",
   "pygments_lexer": "ipython3",
   "version": "3.7.1"
  }
 },
 "nbformat": 4,
 "nbformat_minor": 2
}
