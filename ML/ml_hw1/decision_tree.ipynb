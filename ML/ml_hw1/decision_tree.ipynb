{
 "cells": [
  {
   "cell_type": "markdown",
   "metadata": {},
   "source": [
    "# Problem 4> Decision Tree"
   ]
  },
  {
   "cell_type": "markdown",
   "metadata": {},
   "source": [
    "## 1. Load the dataset (2p)"
   ]
  },
  {
   "cell_type": "code",
   "execution_count": 39,
   "metadata": {},
   "outputs": [],
   "source": [
    "import csv\n",
    "import numpy as np"
   ]
  },
  {
   "cell_type": "code",
   "execution_count": 54,
   "metadata": {},
   "outputs": [],
   "source": [
    "def load_data(d_train, d_test):\n",
    "################################################################################\n",
    "# TODO: Implement the function to load and preprocess the data                 #\n",
    "# ** Make sure that the outputs of the function are the type of 'np.array'     #\n",
    "#   - 'wine_feature' means the list of 11 attributes (except for 'quality')    #\n",
    "#   - wine_feature = ['fixed acidity', 'volatile acidity', ... , 'alcohol']    #\n",
    "################################################################################\n",
    "\n",
    "    # Write your code here\n",
    "    \n",
    "    X_train = np.empty(shape = [0,11])\n",
    "    Y_train = np.empty(shape = [0,1])\n",
    "    wine_feature = []\n",
    "    with open(d_train, 'r') as reader:\n",
    "        flag = False\n",
    "\n",
    "        for line in reader:\n",
    "            if flag is False:\n",
    "                #print(\"debug\")\n",
    "                features = line.split(',')\n",
    "                wine_feature = features[:-1]\n",
    "                flag = True\n",
    "                continue\n",
    "            linelist = line.split(',')\n",
    "            #print(type(linelist))\n",
    "            #print(len(linelist))\n",
    "            X_train_new_row = np.array(linelist[:-1]).reshape([1,11])\n",
    "            #print(X_train_row.shape)\n",
    "            Y_train_new_row = np.array(linelist[-1]).reshape([1,1])\n",
    "            #X_train = np.append(X_train,X_train_new_row)\n",
    "            X_train = np.vstack([X_train,X_train_new_row])\n",
    "            Y_train = np.vstack([Y_train,Y_train_new_row])\n",
    "    \n",
    "    X_test = np.empty(shape = [0,11])\n",
    "    Y_test = np.empty(shape = [0,1])\n",
    "    with open(d_test, 'r') as reader:\n",
    "        flag = False\n",
    "\n",
    "        for line in reader:\n",
    "            if flag is False:\n",
    "                #features = line.split(',')\n",
    "                flag = True\n",
    "                continue\n",
    "            linelist = line.split(',')\n",
    "            X_test_new_row = np.array(linelist[:-1]).reshape([1,11])\n",
    "            Y_test_new_row = np.array(linelist[-1]).reshape([1,1])\n",
    "            X_test = np.vstack([X_test,X_test_new_row])\n",
    "            Y_test = np.vstack([Y_test,Y_test_new_row])\n",
    "    \n",
    "    \n",
    "    return X_train, Y_train, X_test, Y_test, np.array(wine_feature)\n",
    "\n",
    "################################################################################\n",
    "#                                 END OF YOUR CODE                             #\n",
    "################################################################################"
   ]
  },
  {
   "cell_type": "code",
   "execution_count": 55,
   "metadata": {},
   "outputs": [
    {
     "name": "stdout",
     "output_type": "stream",
     "text": [
      "Training data shape:  (434, 11)\n",
      "Training labels shape:  (434, 1)\n",
      "Test data shape:  (109, 11)\n",
      "Test labels shape:  (109, 1)\n",
      "Feature shape:  (11,)\n"
     ]
    }
   ],
   "source": [
    "path = %pwd\n",
    "\n",
    "# path for training data and test data\n",
    "train_data = path + '/wine_train.csv'\n",
    "test_data = path + '/wine_test.csv'\n",
    "\n",
    "X_train, Y_train, X_test, Y_test, wine_feature = load_data(train_data, test_data)\n",
    "\n",
    "# Sanity check\n",
    "print('Training data shape: ', X_train.shape) # (434, 11)\n",
    "print('Training labels shape: ', Y_train.shape) # (434, )\n",
    "print('Test data shape: ', X_test.shape) # (109, 11)\n",
    "print('Test labels shape: ', Y_test.shape) # (109, )\n",
    "print('Feature shape: ', wine_feature.shape) # (11, )"
   ]
  },
  {
   "cell_type": "code",
   "execution_count": null,
   "metadata": {},
   "outputs": [],
   "source": []
  },
  {
   "cell_type": "markdown",
   "metadata": {},
   "source": [
    "## 2. Implement a decision tree (9p) "
   ]
  },
  {
   "cell_type": "code",
   "execution_count": 4,
   "metadata": {},
   "outputs": [],
   "source": [
    "from sklearn import tree"
   ]
  },
  {
   "cell_type": "code",
   "execution_count": 21,
   "metadata": {},
   "outputs": [],
   "source": [
    "################################################################################\n",
    "# TODO: Implement/train/test a decision tree model                             #\n",
    "#   - You don't need to show all the results                                   #\n",
    "#   - If you use scikit-learn library, your code wouldn't be long              #   \n",
    "################################################################################\n",
    "\n",
    "# Write your code here\n",
    "\n",
    "################################################################################\n",
    "#                                 END OF YOUR CODE                             #\n",
    "################################################################################"
   ]
  },
  {
   "cell_type": "code",
   "execution_count": 20,
   "metadata": {},
   "outputs": [],
   "source": [
    "def calculate_accuracy(Y_test, Y_predict):\n",
    "################################################################################\n",
    "# TODO: Make a function for calculating the accuracy                           #\n",
    "# ** Make sure that the output of the function is the type of 'float'          #\n",
    "#   - This function should be work with test dataset                           #\n",
    "################################################################################\n",
    "    \n",
    "    # Write your code here\n",
    "    \n",
    "    return accuracy\n",
    "\n",
    "################################################################################\n",
    "#                                 END OF YOUR CODE                             #\n",
    "################################################################################"
   ]
  },
  {
   "cell_type": "markdown",
   "metadata": {},
   "source": [
    "**Question #1:** Does using more features always improve results?"
   ]
  },
  {
   "cell_type": "markdown",
   "metadata": {},
   "source": [
    "**Your Answer:** Fill this in"
   ]
  },
  {
   "cell_type": "markdown",
   "metadata": {},
   "source": [
    "**Question #2:** Plot the accuracy (X-axis: # of features / Y-axis: accuracy)"
   ]
  },
  {
   "cell_type": "markdown",
   "metadata": {},
   "source": [
    "**Your Answer:** Write your code to plot the graph at the below cell."
   ]
  },
  {
   "cell_type": "code",
   "execution_count": 1,
   "metadata": {},
   "outputs": [],
   "source": [
    "# Write your code here\n",
    "# If you are unfamiliar with plotting a graph with python,\n",
    "# you can refer to the following website.\n",
    "# https://matplotlib.org/tutorials/introductory/pyplot.html#sphx-glr-tutorials-introductory-pyplot-py"
   ]
  },
  {
   "cell_type": "markdown",
   "metadata": {},
   "source": [
    "## 3. What kind of wine is a good one? (9p) "
   ]
  },
  {
   "cell_type": "code",
   "execution_count": 3,
   "metadata": {},
   "outputs": [],
   "source": [
    "# To solve question #2, you can utilize the 'vis_tree' function.\n",
    "# 'vis_tree function' visualize the structure of your decision tree"
   ]
  },
  {
   "cell_type": "code",
   "execution_count": null,
   "metadata": {},
   "outputs": [],
   "source": [
    "# Put 'vis_tree.py' in the same directory\n",
    "from vis_tree import vis_tree\n",
    "# Write just one line as follows:\n",
    "# classifier = scikit-learn's decision tree\n",
    "# wine_feature = 5th output from 'load_data' funtion above\n",
    "vis_tree(classifier, wine_feature)"
   ]
  },
  {
   "cell_type": "markdown",
   "metadata": {},
   "source": [
    "**Question #1 :** List the most 4 critical attributes you think in order."
   ]
  },
  {
   "cell_type": "markdown",
   "metadata": {},
   "source": [
    "**Your Answer:** Fill this in"
   ]
  },
  {
   "cell_type": "markdown",
   "metadata": {},
   "source": [
    "**Question #2 :** How do you get to that conclusion? You should briefly explain the reason demonstrating your experimental results."
   ]
  },
  {
   "cell_type": "markdown",
   "metadata": {},
   "source": [
    "**Your Answer:** Fill this in"
   ]
  }
 ],
 "metadata": {
  "kernelspec": {
   "display_name": "Python 3",
   "language": "python",
   "name": "python3"
  },
  "language_info": {
   "codemirror_mode": {
    "name": "ipython",
    "version": 3
   },
   "file_extension": ".py",
   "mimetype": "text/x-python",
   "name": "python",
   "nbconvert_exporter": "python",
   "pygments_lexer": "ipython3",
   "version": "3.7.1"
  }
 },
 "nbformat": 4,
 "nbformat_minor": 2
}
