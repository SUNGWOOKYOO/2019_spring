{
 "cells": [
  {
   "cell_type": "markdown",
   "metadata": {},
   "source": [
    "# Problem 4> Decision Tree"
   ]
  },
  {
   "cell_type": "markdown",
   "metadata": {},
   "source": [
    "## 1. Load the dataset (2p)"
   ]
  },
  {
   "cell_type": "code",
   "execution_count": 1,
   "metadata": {},
   "outputs": [],
   "source": [
    "import csv\n",
    "import numpy as np"
   ]
  },
  {
   "cell_type": "code",
   "execution_count": 2,
   "metadata": {},
   "outputs": [],
   "source": [
    "def load_data(d_train, d_test):\n",
    "################################################################################\n",
    "# TODO: Implement the function to load and preprocess the data                 #\n",
    "# ** Make sure that the outputs of the function are the type of 'np.array'     #\n",
    "#   - 'wine_feature' means the list of 11 attributes (except for 'quality')    #\n",
    "#   - wine_feature = ['fixed acidity', 'volatile acidity', ... , 'alcohol']    #\n",
    "################################################################################\n",
    "\n",
    "    # Write your code here\n",
    "    X_train = np.empty(shape = [0,11])\n",
    "    Y_train = np.empty(shape = [0,1])\n",
    "    wine_feature = []\n",
    "    with open(d_train, 'r') as reader:\n",
    "        flag = False\n",
    "        for line in reader:\n",
    "            if flag is False:\n",
    "                #print(\"debug\")\n",
    "                features = line.split(',')\n",
    "                wine_feature = features[:-1]\n",
    "                flag = True\n",
    "                continue\n",
    "            linelist = line.split(',')\n",
    "            #print(type(linelist))\n",
    "            #print(len(linelist))\n",
    "            X_train_new_row = np.array(linelist[:-1]).reshape([1,11])\n",
    "            #print(X_train_row.shape)\n",
    "            Y_train_new_row = np.array(linelist[-1]).reshape([1,1])\n",
    "            #X_train = np.append(X_train,X_train_new_row)\n",
    "            X_train = np.vstack([X_train,X_train_new_row])\n",
    "            Y_train = np.append(Y_train,Y_train_new_row)\n",
    "    \n",
    "    X_test = np.empty(shape = [0,11])\n",
    "    Y_test = np.empty(shape = [0,1])\n",
    "    with open(d_test, 'r') as reader:\n",
    "        flag = False\n",
    "\n",
    "        for line in reader:\n",
    "            if flag is False:\n",
    "                #features = line.split(',')\n",
    "                flag = True\n",
    "                continue\n",
    "            linelist = line.split(',')\n",
    "            X_test_new_row = np.array(linelist[:-1]).reshape([1,11])\n",
    "            Y_test_new_row = np.array(linelist[-1]).reshape([1,1])\n",
    "            X_test = np.vstack([X_test,X_test_new_row])\n",
    "            Y_test = np.append(Y_test,Y_test_new_row)\n",
    "\n",
    "    return X_train, Y_train, X_test, Y_test, np.array(wine_feature)\n",
    "################################################################################\n",
    "#                                 END OF YOUR CODE                             #\n",
    "################################################################################"
   ]
  },
  {
   "cell_type": "code",
   "execution_count": 3,
   "metadata": {},
   "outputs": [
    {
     "name": "stdout",
     "output_type": "stream",
     "text": [
      "Training data shape:  (434, 11)\n",
      "Training labels shape:  (434,)\n",
      "Test data shape:  (109, 11)\n",
      "Test labels shape:  (109,)\n",
      "Feature shape:  (11,)\n"
     ]
    }
   ],
   "source": [
    "path = %pwd\n",
    "# path for training data and test data\n",
    "train_data = path + '/wine_train.csv'\n",
    "test_data = path + '/wine_test.csv'\n",
    "\n",
    "X_train, Y_train, X_test, Y_test, wine_feature = load_data(train_data, test_data)\n",
    "\n",
    "# Sanity check\n",
    "print('Training data shape: ', X_train.shape) # (434, 11)\n",
    "print('Training labels shape: ', Y_train.shape) # (434, )\n",
    "print('Test data shape: ', X_test.shape) # (109, 11)\n",
    "print('Test labels shape: ', Y_test.shape) # (109, )\n",
    "print('Feature shape: ', wine_feature.shape) # (11, )"
   ]
  },
  {
   "cell_type": "markdown",
   "metadata": {},
   "source": [
    "## 2. Implement a decision tree (9p) "
   ]
  },
  {
   "cell_type": "code",
   "execution_count": 4,
   "metadata": {},
   "outputs": [],
   "source": [
    "from sklearn import tree"
   ]
  },
  {
   "cell_type": "code",
   "execution_count": 5,
   "metadata": {},
   "outputs": [],
   "source": [
    "def calculate_accuracy(Y_test, Y_predict):\n",
    "################################################################################\n",
    "# TODO: Make a function for calculating the accuracy                           #\n",
    "# ** Make sure that the output of the function is the type of 'float'          #\n",
    "#   - This function should be work with test dataset                           #\n",
    "################################################################################\n",
    "    \n",
    "    # Write your code here\n",
    "    # count_nonzero fucntion : https://www.w3cschool.cn/doc_numpy_1_13/numpy_1_13-generated-numpy-count_nonzero.html\n",
    "    # accurate rate = count(predicted Y == ground truth Y) / total number of predicted Y \n",
    "    accuracy = np.count_nonzero(Y_predict == Y_test)/Y_predict.shape[0] * 100\n",
    "    return accuracy\n",
    "\n",
    "################################################################################\n",
    "#                                 END OF YOUR CODE                             #\n",
    "################################################################################"
   ]
  },
  {
   "cell_type": "code",
   "execution_count": 6,
   "metadata": {},
   "outputs": [
    {
     "name": "stdout",
     "output_type": "stream",
     "text": [
      "The number of features = 2\t accuracy = 47.706\n",
      "The number of features = 3\t accuracy = 38.532\n",
      "The number of features = 4\t accuracy = 48.624\n",
      "The number of features = 5\t accuracy = 46.789\n",
      "The number of features = 6\t accuracy = 55.046\n",
      "The number of features = 7\t accuracy = 43.119\n",
      "The number of features = 8\t accuracy = 49.541\n",
      "The number of features = 9\t accuracy = 49.541\n",
      "The number of features = 10\t accuracy = 44.037\n",
      "The number of features = 11\t accuracy = 56.881\n"
     ]
    }
   ],
   "source": [
    "################################################################################\n",
    "# TODO: Implement/train/test a decision tree model                             #\n",
    "#   - You don't need to show all the results                                   #\n",
    "#   - If you use scikit-learn library, your code wouldn't be long              #   \n",
    "################################################################################\n",
    "\n",
    "# Write your code here\n",
    "# description of sklean.tree.DecisionTreeClassifier\n",
    "# https://scikit-learn.org/stable/modules/generated/sklearn.tree.DecisionTreeClassifier.html\n",
    "classifier = tree.DecisionTreeClassifier(criterion = \"entropy\", random_state = 0 )\n",
    "\n",
    "# train and test your decision tree by changing the number of features, ranging from 2 to 11\n",
    "NumOfFeatures = X_train.shape[1]\n",
    "# dataset for plot \n",
    "X = []\n",
    "Y = []\n",
    "for i in range(2, NumOfFeatures + 1):\n",
    "    # X_train[:, :i] # demension: all rows * (:i = 1 th ~ i th ) columns\n",
    "    classifier.fit(X_train[:, :i], Y_train)\n",
    "    Y_pred = classifier.predict(X_test[:, :i])\n",
    "    acc = calculate_accuracy(Y_test, Y_pred)\n",
    "    print(\"The number of features = {}\\t accuracy = {:.3f}\".format(i, acc))\n",
    "    X.append(i)\n",
    "    Y.append(acc)\n",
    "################################################################################\n",
    "#                                 END OF YOUR CODE                             #\n",
    "################################################################################"
   ]
  },
  {
   "cell_type": "markdown",
   "metadata": {},
   "source": [
    "**Question #1:** Does using more features always improve results?"
   ]
  },
  {
   "cell_type": "markdown",
   "metadata": {},
   "source": [
    "**Your Answer:** \n",
    ">  <br> Even though the more features are used for building classifier, the accuracy of the classifier is always not improved. \n",
    "<br> This is because bad features may be used when we build the classifier."
   ]
  },
  {
   "cell_type": "markdown",
   "metadata": {},
   "source": [
    "**Question #2:** Plot the accuracy (X-axis: # of features / Y-axis: accuracy)"
   ]
  },
  {
   "cell_type": "markdown",
   "metadata": {},
   "source": [
    "**Your Answer:** Write your code to plot the graph at the below cell(see the below cell)."
   ]
  },
  {
   "cell_type": "code",
   "execution_count": 8,
   "metadata": {},
   "outputs": [
    {
     "data": {
      "image/png": "[encoded data removed]",
      "text/plain": [
       "<Figure size 432x288 with 1 Axes>"
      ]
     },
     "metadata": {
      "needs_background": "light"
     },
     "output_type": "display_data"
    }
   ],
   "source": [
    "# Write your code here\n",
    "# If you are unfamiliar with plotting a graph with python,\n",
    "# you can refer to the following website.\n",
    "# https://matplotlib.org/tutorials/introductory/pyplot.html#sphx-glr-tutorials-introductory-pyplot-py\n",
    "\n",
    "import matplotlib.pylab as plt\n",
    "plt.title(\"Plot\")\n",
    "plt.xlabel(\"The number of features\")\n",
    "plt.ylabel(\"Accuracy\")\n",
    "plt.plot(X, Y, color = 'r', marker = \"^\")\n",
    "plt.show()"
   ]
  },
  {
   "cell_type": "code",
   "execution_count": 9,
   "metadata": {},
   "outputs": [],
   "source": [
    "X.clear()\n",
    "Y.clear()"
   ]
  },
  {
   "cell_type": "markdown",
   "metadata": {},
   "source": [
    "## 3. What kind of wine is a good one? (9p) "
   ]
  },
  {
   "cell_type": "markdown",
   "metadata": {},
   "source": [
    "Choose the most 4 critical attributes that can determine the quality of wines. Aside from problem 4-(2), you should design and show additional experimental results to support your choice\n",
    "<br> from problem 2 ... "
   ]
  },
  {
   "cell_type": "code",
   "execution_count": 10,
   "metadata": {},
   "outputs": [
    {
     "name": "stdout",
     "output_type": "stream",
     "text": [
      "The index of features = 0\t accuracy = 33.945\n",
      "The index of features = 1\t accuracy = 41.284\n",
      "The index of features = 2\t accuracy = 35.780\n",
      "The index of features = 3\t accuracy = 39.450\n",
      "The index of features = 4\t accuracy = 35.780\n",
      "The index of features = 5\t accuracy = 48.624\n",
      "The index of features = 6\t accuracy = 39.450\n",
      "The index of features = 7\t accuracy = 44.954\n",
      "The index of features = 8\t accuracy = 38.532\n",
      "The index of features = 9\t accuracy = 33.028\n",
      "The index of features = 10\t accuracy = 42.202\n",
      "<class 'list'>\n",
      "<class 'tuple'>\n",
      "['free sulfur dioxide', 'density', 'alcohol', 'volatile acidity']\n",
      "41.284403669724774\n"
     ]
    }
   ],
   "source": [
    "Top4list = []\n",
    "for i in range(NumOfFeatures):\n",
    "    # X_train[:, i] # demension: all rows * i th columns\n",
    "    \n",
    "    classifier.fit(X_train[:, i].reshape(-1,1), Y_train)\n",
    "    Y_pred = classifier.predict(X_test[:, i].reshape(-1,1))\n",
    "    acc = calculate_accuracy(Y_test, Y_pred)\n",
    "    print(\"The index of features = {}\\t accuracy = {:.3f}\".format(i, acc))\n",
    "    X.append(i)\n",
    "    Y.append(acc)\n",
    "    Top4list.append((i,acc))\n",
    "\n",
    "print(type(Top4list))\n",
    "print(type(Top4list[0]))\n",
    "\n",
    "# https://docs.python.org/3/howto/sorting.html\n",
    "from operator import itemgetter\n",
    "Top4list = sorted(Top4list, key = itemgetter(1), reverse = True)[:4]\n",
    "Top4feature = []\n",
    "for idx, acc in Top4list:\n",
    "#     print(idx, acc)\n",
    "    Top4feature.append(wine_feature[idx])\n",
    "print(Top4feature)\n",
    "print(acc)"
   ]
  },
  {
   "cell_type": "code",
   "execution_count": 11,
   "metadata": {},
   "outputs": [],
   "source": [
    "# To solve question #2, you can utilize the 'vis_tree' function.\n",
    "# 'vis_tree function' visualize the structure of your decision tree"
   ]
  },
  {
   "cell_type": "code",
   "execution_count": 12,
   "metadata": {},
   "outputs": [
    {
     "name": "stdout",
     "output_type": "stream",
     "text": [
      "The binary tree structure has 157 nodes and has the following tree structure:\n",
      "node=0 test node: go to node 1 if alcohol <= 10.849999904632568 else to node 90.\n",
      "\tnode=1 test node: go to node 2 if volatile acidity <= 0.2849999964237213 else to node 67.\n",
      "\t\tnode=2 test node: go to node 3 if alcohol <= 8.949999809265137 else to node 8.\n",
      "\t\t\tnode=3 test node: go to node 4 if volatile acidity <= 0.21249999850988388 else to node 5.\n",
      "\t\t\t\tnode=4 leaf node.\n",
      "\t\t\t\tnode=5 test node: go to node 6 if chlorides <= 0.05649999901652336 else to node 7.\n",
      "\t\t\t\t\tnode=6 leaf node.\n",
      "\t\t\t\t\tnode=7 leaf node.\n",
      "\t\t\tnode=8 test node: go to node 9 if alcohol <= 10.349999904632568 else to node 46.\n",
      "\t\t\t\tnode=9 test node: go to node 10 if free sulfur dioxide <= 40.5 else to node 29.\n",
      "\t\t\t\t\tnode=10 test node: go to node 11 if fixed acidity <= 6.8500001430511475 else to node 18.\n",
      "\t\t\t\t\t\tnode=11 test node: go to node 12 if total sulfur dioxide <= 186.0 else to node 17.\n",
      "\t\t\t\t\t\t\tnode=12 test node: go to node 13 if volatile acidity <= 0.2750000059604645 else to node 14.\n",
      "\t\t\t\t\t\t\t\tnode=13 leaf node.\n",
      "\t\t\t\t\t\t\t\tnode=14 test node: go to node 15 if alcohol <= 9.849999904632568 else to node 16.\n",
      "\t\t\t\t\t\t\t\t\tnode=15 leaf node.\n",
      "\t\t\t\t\t\t\t\t\tnode=16 leaf node.\n",
      "\t\t\t\t\t\t\tnode=17 leaf node.\n",
      "\t\t\t\t\t\tnode=18 test node: go to node 19 if volatile acidity <= 0.1550000011920929 else to node 20.\n",
      "\t\t\t\t\t\t\tnode=19 leaf node.\n",
      "\t\t\t\t\t\t\tnode=20 test node: go to node 21 if residual sugar <= 2.75 else to node 22.\n",
      "\t\t\t\t\t\t\t\tnode=21 leaf node.\n",
      "\t\t\t\t\t\t\t\tnode=22 test node: go to node 23 if volatile acidity <= 0.22500000149011612 else to node 26.\n",
      "\t\t\t\t\t\t\t\t\tnode=23 test node: go to node 24 if alcohol <= 9.25 else to node 25.\n",
      "\t\t\t\t\t\t\t\t\t\tnode=24 leaf node.\n",
      "\t\t\t\t\t\t\t\t\t\tnode=25 leaf node.\n",
      "\t\t\t\t\t\t\t\t\tnode=26 test node: go to node 27 if sulphates <= 0.5849999785423279 else to node 28.\n",
      "\t\t\t\t\t\t\t\t\t\tnode=27 leaf node.\n",
      "\t\t\t\t\t\t\t\t\t\tnode=28 leaf node.\n",
      "\t\t\t\t\tnode=29 test node: go to node 30 if total sulfur dioxide <= 101.0 else to node 31.\n",
      "\t\t\t\t\t\tnode=30 leaf node.\n",
      "\t\t\t\t\t\tnode=31 test node: go to node 32 if residual sugar <= 1.300000011920929 else to node 33.\n",
      "\t\t\t\t\t\t\tnode=32 leaf node.\n",
      "\t\t\t\t\t\t\tnode=33 test node: go to node 34 if free sulfur dioxide <= 107.25 else to node 45.\n",
      "\t\t\t\t\t\t\t\tnode=34 test node: go to node 35 if citric acid <= 0.2149999961256981 else to node 36.\n",
      "\t\t\t\t\t\t\t\t\tnode=35 leaf node.\n",
      "\t\t\t\t\t\t\t\t\tnode=36 test node: go to node 37 if sulphates <= 0.7349999845027924 else to node 44.\n",
      "\t\t\t\t\t\t\t\t\t\tnode=37 test node: go to node 38 if fixed acidity <= 6.599999904632568 else to node 43.\n",
      "\t\t\t\t\t\t\t\t\t\t\tnode=38 test node: go to node 39 if free sulfur dioxide <= 57.0 else to node 40.\n",
      "\t\t\t\t\t\t\t\t\t\t\t\tnode=39 leaf node.\n",
      "\t\t\t\t\t\t\t\t\t\t\t\tnode=40 test node: go to node 41 if citric acid <= 0.2849999964237213 else to node 42.\n",
      "\t\t\t\t\t\t\t\t\t\t\t\t\tnode=41 leaf node.\n",
      "\t\t\t\t\t\t\t\t\t\t\t\t\tnode=42 leaf node.\n",
      "\t\t\t\t\t\t\t\t\t\t\tnode=43 leaf node.\n",
      "\t\t\t\t\t\t\t\t\t\tnode=44 leaf node.\n",
      "\t\t\t\t\t\t\t\tnode=45 leaf node.\n",
      "\t\t\t\tnode=46 test node: go to node 47 if residual sugar <= 1.6500000357627869 else to node 54.\n",
      "\t\t\t\t\tnode=47 test node: go to node 48 if sulphates <= 0.4399999976158142 else to node 53.\n",
      "\t\t\t\t\t\tnode=48 test node: go to node 49 if volatile acidity <= 0.2149999961256981 else to node 52.\n",
      "\t\t\t\t\t\t\tnode=49 test node: go to node 50 if residual sugar <= 1.1500000357627869 else to node 51.\n",
      "\t\t\t\t\t\t\t\tnode=50 leaf node.\n",
      "\t\t\t\t\t\t\t\tnode=51 leaf node.\n",
      "\t\t\t\t\t\t\tnode=52 leaf node.\n",
      "\t\t\t\t\t\tnode=53 leaf node.\n",
      "\t\t\t\t\tnode=54 test node: go to node 55 if residual sugar <= 2.149999976158142 else to node 56.\n",
      "\t\t\t\t\t\tnode=55 leaf node.\n",
      "\t\t\t\t\t\tnode=56 test node: go to node 57 if alcohol <= 10.550000190734863 else to node 64.\n",
      "\t\t\t\t\t\t\tnode=57 test node: go to node 58 if fixed acidity <= 6.8500001430511475 else to node 61.\n",
      "\t\t\t\t\t\t\t\tnode=58 test node: go to node 59 if fixed acidity <= 6.049999952316284 else to node 60.\n",
      "\t\t\t\t\t\t\t\t\tnode=59 leaf node.\n",
      "\t\t\t\t\t\t\t\t\tnode=60 leaf node.\n",
      "\t\t\t\t\t\t\t\tnode=61 test node: go to node 62 if sulphates <= 0.35999999940395355 else to node 63.\n",
      "\t\t\t\t\t\t\t\t\tnode=62 leaf node.\n",
      "\t\t\t\t\t\t\t\t\tnode=63 leaf node.\n",
      "\t\t\t\t\t\t\tnode=64 test node: go to node 65 if total sulfur dioxide <= 94.5 else to node 66.\n",
      "\t\t\t\t\t\t\t\tnode=65 leaf node.\n",
      "\t\t\t\t\t\t\t\tnode=66 leaf node.\n",
      "\t\tnode=67 test node: go to node 68 if free sulfur dioxide <= 24.5 else to node 73.\n",
      "\t\t\tnode=68 test node: go to node 69 if chlorides <= 0.10900000110268593 else to node 70.\n",
      "\t\t\t\tnode=69 leaf node.\n",
      "\t\t\t\tnode=70 test node: go to node 71 if sulphates <= 0.42499999701976776 else to node 72.\n",
      "\t\t\t\t\tnode=71 leaf node.\n",
      "\t\t\t\t\tnode=72 leaf node.\n",
      "\t\t\tnode=73 test node: go to node 74 if volatile acidity <= 0.39499999582767487 else to node 83.\n",
      "\t\t\t\tnode=74 test node: go to node 75 if pH <= 3.284999966621399 else to node 82.\n",
      "\t\t\t\t\tnode=75 test node: go to node 76 if residual sugar <= 13.049999713897705 else to node 79.\n",
      "\t\t\t\t\t\tnode=76 test node: go to node 77 if total sulfur dioxide <= 225.5 else to node 78.\n",
      "\t\t\t\t\t\t\tnode=77 leaf node.\n",
      "\t\t\t\t\t\t\tnode=78 leaf node.\n",
      "\t\t\t\t\t\tnode=79 test node: go to node 80 if residual sugar <= 16.075000286102295 else to node 81.\n",
      "\t\t\t\t\t\t\tnode=80 leaf node.\n",
      "\t\t\t\t\t\t\tnode=81 leaf node.\n",
      "\t\t\t\t\tnode=82 leaf node.\n",
      "\t\t\t\tnode=83 test node: go to node 84 if fixed acidity <= 6.400000095367432 else to node 89.\n",
      "\t\t\t\t\tnode=84 test node: go to node 85 if free sulfur dioxide <= 42.0 else to node 86.\n",
      "\t\t\t\t\t\tnode=85 leaf node.\n",
      "\t\t\t\t\t\tnode=86 test node: go to node 87 if density <= 0.9975500106811523 else to node 88.\n",
      "\t\t\t\t\t\t\tnode=87 leaf node.\n",
      "\t\t\t\t\t\t\tnode=88 leaf node.\n",
      "\t\t\t\t\tnode=89 leaf node.\n",
      "\tnode=90 test node: go to node 91 if free sulfur dioxide <= 11.0 else to node 94.\n",
      "\t\tnode=91 test node: go to node 92 if volatile acidity <= 0.5049999803304672 else to node 93.\n",
      "\t\t\tnode=92 leaf node.\n",
      "\t\t\tnode=93 leaf node.\n",
      "\t\tnode=94 test node: go to node 95 if pH <= 2.965000033378601 else to node 98.\n",
      "\t\t\tnode=95 test node: go to node 96 if citric acid <= 0.29500000178813934 else to node 97.\n",
      "\t\t\t\tnode=96 leaf node.\n",
      "\t\t\t\tnode=97 leaf node.\n",
      "\t\t\tnode=98 test node: go to node 99 if free sulfur dioxide <= 20.5 else to node 114.\n",
      "\t\t\t\tnode=99 test node: go to node 100 if alcohol <= 12.0 else to node 109.\n",
      "\t\t\t\t\tnode=100 test node: go to node 101 if total sulfur dioxide <= 69.0 else to node 104.\n",
      "\t\t\t\t\t\tnode=101 test node: go to node 102 if pH <= 3.2699999809265137 else to node 103.\n",
      "\t\t\t\t\t\t\tnode=102 leaf node.\n",
      "\t\t\t\t\t\t\tnode=103 leaf node.\n",
      "\t\t\t\t\t\tnode=104 test node: go to node 105 if alcohol <= 11.050000190734863 else to node 108.\n",
      "\t\t\t\t\t\t\tnode=105 test node: go to node 106 if density <= 0.9923999905586243 else to node 107.\n",
      "\t\t\t\t\t\t\t\tnode=106 leaf node.\n",
      "\t\t\t\t\t\t\t\tnode=107 leaf node.\n",
      "\t\t\t\t\t\t\tnode=108 leaf node.\n",
      "\t\t\t\t\tnode=109 test node: go to node 110 if residual sugar <= 1.25 else to node 111.\n",
      "\t\t\t\t\t\tnode=110 leaf node.\n",
      "\t\t\t\t\t\tnode=111 test node: go to node 112 if chlorides <= 0.03999999910593033 else to node 113.\n",
      "\t\t\t\t\t\t\tnode=112 leaf node.\n",
      "\t\t\t\t\t\t\tnode=113 leaf node.\n",
      "\t\t\t\tnode=114 test node: go to node 115 if alcohol <= 11.849999904632568 else to node 142.\n",
      "\t\t\t\t\tnode=115 test node: go to node 116 if sulphates <= 0.375 else to node 119.\n",
      "\t\t\t\t\t\tnode=116 test node: go to node 117 if alcohol <= 11.050000190734863 else to node 118.\n",
      "\t\t\t\t\t\t\tnode=117 leaf node.\n",
      "\t\t\t\t\t\t\tnode=118 leaf node.\n",
      "\t\t\t\t\t\tnode=119 test node: go to node 120 if citric acid <= 0.2800000011920929 else to node 121.\n",
      "\t\t\t\t\t\t\tnode=120 leaf node.\n",
      "\t\t\t\t\t\t\tnode=121 test node: go to node 122 if pH <= 3.274999976158142 else to node 135.\n",
      "\t\t\t\t\t\t\t\tnode=122 test node: go to node 123 if free sulfur dioxide <= 37.25 else to node 128.\n",
      "\t\t\t\t\t\t\t\t\tnode=123 test node: go to node 124 if total sulfur dioxide <= 146.5 else to node 125.\n",
      "\t\t\t\t\t\t\t\t\t\tnode=124 leaf node.\n",
      "\t\t\t\t\t\t\t\t\t\tnode=125 test node: go to node 126 if pH <= 3.1449999809265137 else to node 127.\n",
      "\t\t\t\t\t\t\t\t\t\t\tnode=126 leaf node.\n",
      "\t\t\t\t\t\t\t\t\t\t\tnode=127 leaf node.\n",
      "\t\t\t\t\t\t\t\t\tnode=128 test node: go to node 129 if fixed acidity <= 7.150000095367432 else to node 134.\n",
      "\t\t\t\t\t\t\t\t\t\tnode=129 test node: go to node 130 if sulphates <= 0.6149999797344208 else to node 131.\n",
      "\t\t\t\t\t\t\t\t\t\t\tnode=130 leaf node.\n",
      "\t\t\t\t\t\t\t\t\t\t\tnode=131 test node: go to node 132 if fixed acidity <= 5.799999952316284 else to node 133.\n",
      "\t\t\t\t\t\t\t\t\t\t\t\tnode=132 leaf node.\n",
      "\t\t\t\t\t\t\t\t\t\t\t\tnode=133 leaf node.\n",
      "\t\t\t\t\t\t\t\t\t\tnode=134 leaf node.\n",
      "\t\t\t\t\t\t\t\tnode=135 test node: go to node 136 if residual sugar <= 1.25 else to node 141.\n",
      "\t\t\t\t\t\t\t\t\tnode=136 test node: go to node 137 if residual sugar <= 1.100000023841858 else to node 140.\n",
      "\t\t\t\t\t\t\t\t\t\tnode=137 test node: go to node 138 if residual sugar <= 0.8499999940395355 else to node 139.\n",
      "\t\t\t\t\t\t\t\t\t\t\tnode=138 leaf node.\n",
      "\t\t\t\t\t\t\t\t\t\t\tnode=139 leaf node.\n",
      "\t\t\t\t\t\t\t\t\t\tnode=140 leaf node.\n",
      "\t\t\t\t\t\t\t\t\tnode=141 leaf node.\n",
      "\t\t\t\t\tnode=142 test node: go to node 143 if sulphates <= 0.5349999964237213 else to node 156.\n",
      "\t\t\t\t\t\tnode=143 test node: go to node 144 if alcohol <= 12.25 else to node 145.\n",
      "\t\t\t\t\t\t\tnode=144 leaf node.\n",
      "\t\t\t\t\t\t\tnode=145 test node: go to node 146 if sulphates <= 0.36500000953674316 else to node 147.\n",
      "\t\t\t\t\t\t\t\tnode=146 leaf node.\n",
      "\t\t\t\t\t\t\t\tnode=147 test node: go to node 148 if pH <= 3.3249999284744263 else to node 155.\n",
      "\t\t\t\t\t\t\t\t\tnode=148 test node: go to node 149 if fixed acidity <= 6.549999952316284 else to node 152.\n",
      "\t\t\t\t\t\t\t\t\t\tnode=149 test node: go to node 150 if free sulfur dioxide <= 49.0 else to node 151.\n",
      "\t\t\t\t\t\t\t\t\t\t\tnode=150 leaf node.\n",
      "\t\t\t\t\t\t\t\t\t\t\tnode=151 leaf node.\n",
      "\t\t\t\t\t\t\t\t\t\tnode=152 test node: go to node 153 if sulphates <= 0.5 else to node 154.\n",
      "\t\t\t\t\t\t\t\t\t\t\tnode=153 leaf node.\n",
      "\t\t\t\t\t\t\t\t\t\t\tnode=154 leaf node.\n",
      "\t\t\t\t\t\t\t\t\tnode=155 leaf node.\n",
      "\t\t\t\t\t\tnode=156 leaf node.\n"
     ]
    }
   ],
   "source": [
    "# Put 'vis_tree.py' in the same directory\n",
    "from vis_tree import vis_tree\n",
    "# Write just one line as follows:\n",
    "# classifier = scikit-learn's decision tree\n",
    "classifier.fit(X_train, Y_train)\n",
    "# wine_feature = 5th output from 'load_data' funtion above\n",
    "vis_tree(classifier, wine_feature)"
   ]
  },
  {
   "cell_type": "markdown",
   "metadata": {},
   "source": [
    "I used four tops as a feature from the root node of the decision three."
   ]
  },
  {
   "cell_type": "code",
   "execution_count": 13,
   "metadata": {},
   "outputs": [
    {
     "name": "stdout",
     "output_type": "stream",
     "text": [
      "['fixed acidity' 'volatile acidity' 'citric acid' 'residual sugar'\n",
      " 'chlorides' 'free sulfur dioxide' 'total sulfur dioxide' 'density' 'pH'\n",
      " 'sulphates' 'alcohol']\n"
     ]
    },
    {
     "data": {
      "text/plain": [
       "50.45871559633027"
      ]
     },
     "execution_count": 13,
     "metadata": {},
     "output_type": "execute_result"
    }
   ],
   "source": [
    "print(wine_feature)\n",
    "classifier.fit(X_train[:, [1,5,8,10]], Y_train)\n",
    "Y_pred = classifier.predict(X_test[:, [1,5,8,10]])\n",
    "acc = calculate_accuracy(Y_test, Y_pred)\n",
    "acc"
   ]
  },
  {
   "cell_type": "code",
   "execution_count": 14,
   "metadata": {},
   "outputs": [
    {
     "name": "stdout",
     "output_type": "stream",
     "text": [
      "among  330 combination,  70 idex is the best 4 features\n",
      "(0, 3, 5, 6)\n",
      "['fixed acidity', 'residual sugar', 'free sulfur dioxide', 'total sulfur dioxide']\n",
      "accuracy is  65.13761467889908\n"
     ]
    }
   ],
   "source": [
    "from itertools import combinations\n",
    "temp_array = list(combinations(list(range(11)), 4)) # combination list \n",
    "\n",
    "max_accuracy = 0\n",
    "max_index = 0\n",
    "#print(temp_array[0])\n",
    "for i in range(len(temp_array)):\n",
    "    classifier.fit(X_train[:,list(temp_array[i])], Y_train)\n",
    "    temp_predict  = classifier.predict(X_test[:,list(temp_array[i])])\n",
    "    temp_accuracy = calculate_accuracy(Y_test, temp_predict)\n",
    "    if temp_accuracy > max_accuracy:\n",
    "        max_index = i\n",
    "        max_accuracy = temp_accuracy\n",
    "print(\"among \",len(temp_array),\"combination, \",max_index, \"idex is the best 4 features\" )\n",
    "print(temp_array[max_index])\n",
    "\n",
    "Top4feature = []\n",
    "for idx in list(temp_array[max_index]):\n",
    "    Top4feature.append(wine_feature[idx])\n",
    "print(Top4feature)\n",
    "print(\"accuracy is \",max_accuracy)"
   ]
  },
  {
   "cell_type": "markdown",
   "metadata": {},
   "source": [
    "**Question #1 :** List the most 4 critical attributes you think in order."
   ]
  },
  {
   "cell_type": "markdown",
   "metadata": {},
   "source": [
    "**Your Answer:** \n",
    "<br> \n",
    "> See the below a list in the cell "
   ]
  },
  {
   "cell_type": "code",
   "execution_count": 15,
   "metadata": {},
   "outputs": [
    {
     "data": {
      "text/plain": [
       "['fixed acidity',\n",
       " 'residual sugar',\n",
       " 'free sulfur dioxide',\n",
       " 'total sulfur dioxide']"
      ]
     },
     "execution_count": 15,
     "metadata": {},
     "output_type": "execute_result"
    }
   ],
   "source": [
    "Top4feature"
   ]
  },
  {
   "cell_type": "markdown",
   "metadata": {},
   "source": [
    "**Question #2 :** How do you get to that conclusion? You should briefly explain the reason demonstrating your experimental results."
   ]
  },
  {
   "cell_type": "markdown",
   "metadata": {},
   "source": [
    "**Your Answer:**\n",
    "\n",
    "> <br> \n",
    "- First of all, I build decision tree from only one feature, and then I choose top 4 features with good accuracy. \n",
    "<br> the features are ['free sulfur dioxide', 'density', 'alcohol', 'volatile acidity']\n",
    "<br> the accuracy is 41%\n",
    "<br> \n",
    "- Secondly, I used four tops as a feature from the root node of the decision three(see the result of vis_tree).\n",
    "<br> the features are ['free sulfur dioxide', 'pH', 'alcohol', 'volatile acidity']\n",
    "<br> the accuracy is 50%\n",
    "<br> \n",
    "- Finally, among  330 combination, the best 4 features are chosen from the naive approach.\n",
    "<br> the features are ['fixed acidity', 'residual sugar', 'free sulfur dioxide', 'total sulfur dioxide']\n",
    "<br> the accuracy is 65%\n"
   ]
  }
 ],
 "metadata": {
  "kernelspec": {
   "display_name": "Python 3",
   "language": "python",
   "name": "python3"
  },
  "language_info": {
   "codemirror_mode": {
    "name": "ipython",
    "version": 3
   },
   "file_extension": ".py",
   "mimetype": "text/x-python",
   "name": "python",
   "nbconvert_exporter": "python",
   "pygments_lexer": "ipython3",
   "version": "3.7.1"
  }
 },
 "nbformat": 4,
 "nbformat_minor": 2
}
