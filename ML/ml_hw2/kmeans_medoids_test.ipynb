{
 "cells": [
  {
   "cell_type": "markdown",
   "metadata": {},
   "source": [
    "# Problem 4> K-means, K-medoids"
   ]
  },
  {
   "cell_type": "markdown",
   "metadata": {},
   "source": [
    "## 1. Load and Visualize the dataset (2p)"
   ]
  },
  {
   "cell_type": "code",
   "execution_count": 51,
   "metadata": {},
   "outputs": [],
   "source": [
    "import numpy as np\n",
    "from time import time"
   ]
  },
  {
   "cell_type": "code",
   "execution_count": 52,
   "metadata": {},
   "outputs": [
    {
     "name": "stdout",
     "output_type": "stream",
     "text": [
      "Data shape:  (1500, 2)\n",
      "Data shape:  (1500, 6)\n",
      "Data shape:  (1500,)\n"
     ]
    }
   ],
   "source": [
    "# You don't need to modify this cell\n",
    "\n",
    "## Load data\n",
    "\n",
    "X_1 = np.load('./data_4_1.npy') # data_1\n",
    "\n",
    "data_2 = np.load('./data_4_2.npz') # data_2\n",
    "X_2 = data_2['X']\n",
    "y_2 = data_2['y']\n",
    "\n",
    "# Sanity check\n",
    "print('Data shape: ', X_1.shape) # (1500, 2)\n",
    "print('Data shape: ', X_2.shape) # (1500, 6)\n",
    "print('Data shape: ', y_2.shape) # (1500,)"
   ]
  },
  {
   "cell_type": "markdown",
   "metadata": {},
   "source": [
    ">test "
   ]
  },
  {
   "cell_type": "code",
   "execution_count": 53,
   "metadata": {},
   "outputs": [
    {
     "name": "stdout",
     "output_type": "stream",
     "text": [
      "<class 'numpy.ndarray'>\n"
     ]
    },
    {
     "data": {
      "text/plain": [
       "array([[12.63055101,  2.25449673],\n",
       "       [ 2.45222159, -7.71682145],\n",
       "       [ 3.40870595, -5.01017378],\n",
       "       ...,\n",
       "       [ 3.32304626, -6.14034818],\n",
       "       [ 0.77988777, -8.44647095],\n",
       "       [ 1.22754673, -9.74128879]])"
      ]
     },
     "execution_count": 53,
     "metadata": {},
     "output_type": "execute_result"
    }
   ],
   "source": [
    "print(type(X_1))\n",
    "X_1"
   ]
  },
  {
   "cell_type": "markdown",
   "metadata": {},
   "source": [
    "> reference: https://m.blog.naver.com/PostView.nhn?blogId=infoefficien&logNo=221057152472&proxyReferer=https%3A%2F%2Fwww.google.com%2F"
   ]
  },
  {
   "cell_type": "code",
   "execution_count": 54,
   "metadata": {},
   "outputs": [
    {
     "data": {
      "text/plain": [
       "<matplotlib.collections.PathCollection at 0x1a9c1e65358>"
      ]
     },
     "execution_count": 54,
     "metadata": {},
     "output_type": "execute_result"
    },
    {
     "data": {
      "image/png": "[encoded data removed]",
      "text/plain": [
       "<Figure size 432x288 with 1 Axes>"
      ]
     },
     "metadata": {
      "needs_background": "light"
     },
     "output_type": "display_data"
    }
   ],
   "source": [
    "# TODO: Implement the function to plot the data.\n",
    "import matplotlib.pyplot as plt\n",
    "%matplotlib inline\n",
    "# plt.plot(X_1[:,0], X_1[:,-1])\n",
    "plt.scatter(X_1[:,0], X_1[:,-1], color = 'orange', s = 7)\n",
    "# plt.show()"
   ]
  },
  {
   "cell_type": "code",
   "execution_count": 55,
   "metadata": {},
   "outputs": [],
   "source": [
    "# plt.clf()"
   ]
  },
  {
   "cell_type": "code",
   "execution_count": 56,
   "metadata": {},
   "outputs": [
    {
     "name": "stdout",
     "output_type": "stream",
     "text": [
      "<class 'numpy.ndarray'>\n",
      "(1500,)\n"
     ]
    }
   ],
   "source": [
    "print(type(X_1[:,0]))\n",
    "print(X_1[:,0].shape)"
   ]
  },
  {
   "cell_type": "markdown",
   "metadata": {},
   "source": [
    "## 2. Implement k-means and k-medoids algorithm  (20p)"
   ]
  },
  {
   "cell_type": "markdown",
   "metadata": {},
   "source": [
    "In this problem, the final goal is to complete \"kmeans\" and \"kmedoids' function. \n",
    "To this end, please follow the step by step instructions in this problem.\n",
    "After implementation you should apply your function to data_1(X_1) and plot the clusters for three different k values (k=2,3,4).\n",
    "You should assign a different color for each class.\n",
    "\n",
    "For this problem, you cannot use any external libraires except Numpy!"
   ]
  },
  {
   "cell_type": "markdown",
   "metadata": {},
   "source": [
    "### #1. Distance and Cost function\n",
    "\n",
    "To assign each data point to a specific class, we need to measure the distance between data points. You should write up the following 'distance' function.\n",
    "Here, we will use \"squared Euclidean distance\" as a metric measure.\n",
    "Also implement the cost function to calcuate the cost(error) reference to slide 13 of lecture 15"
   ]
  },
  {
   "cell_type": "markdown",
   "metadata": {},
   "source": [
    "> Reference: \n",
    "<br> numpy.linalg.norm() method\n",
    "<br>https://docs.scipy.org/doc/numpy/reference/generated/numpy.linalg.norm.html\n",
    "<br><br> from sklearn.cluster import KMeans\n",
    "<br>https://scikit-learn.org/stable/modules/generated/sklearn.cluster.KMeans.html\n",
    "<br><br> K mean cluster algoritm \n",
    "<br> idea: https://ratsgo.github.io/machine%20learning/2017/04/19/KC/\n",
    "<br> code1: https://mubaris.com/posts/kmeans-clustering/\n",
    "<br> code2: https://www.kaggle.com/andyxie/k-means-clustering-implementation-in-python"
   ]
  },
  {
   "cell_type": "code",
   "execution_count": 57,
   "metadata": {},
   "outputs": [],
   "source": [
    "from sklearn.cluster import KMeans"
   ]
  },
  {
   "cell_type": "code",
   "execution_count": 58,
   "metadata": {},
   "outputs": [],
   "source": [
    "def distance(x1, x2):\n",
    "################################################################################\n",
    "# TODO: Implement the function to measure \"squared Euclidean distance\"         #\n",
    "#   - Squared Euclidean distance is defined by d(x1, x2) = (x1-x2)(x1-x2)'     #\n",
    "#   - x1 and x2 can be matrices (calculating many points at once)              #\n",
    "#     as well as vectors (calculating the distance one-by-one point)           #\n",
    "################################################################################\n",
    "    \n",
    "    # Write your code here\n",
    "    dist = None\n",
    "    if x1.shape == x2.shape:\n",
    "        dist = np.linalg.norm(x1 - x2, axis = 0)**2\n",
    "    else:\n",
    "        dist = np.linalg.norm(x1 - x2, axis = 1)**2\n",
    "    return dist\n",
    "\n",
    "################################################################################\n",
    "#                                 END OF YOUR CODE                             #\n",
    "################################################################################"
   ]
  },
  {
   "cell_type": "markdown",
   "metadata": {},
   "source": [
    "> N is # of instances, p is # of dimension for each data instance, K is # of clusters \n",
    "<br> data $ \\in R^{N \\times p}$ \n",
    "<br> centriods $ \\in R^{K \\times p}$ \n",
    "<br> clusters means data_cluster_indice \n",
    "<br> the number of clusters $ = {K}$"
   ]
  },
  {
   "cell_type": "code",
   "execution_count": 59,
   "metadata": {},
   "outputs": [],
   "source": [
    "def cost(data, centroids, clusters):\n",
    "    \n",
    "################################################################################\n",
    "# TODO: Implement cost(error) function reference to slide 13 of lecture 15\n",
    "#       For k-medoids, just substitue center points in the formula with medoids. \n",
    "\n",
    "#       You can use this cost function for both k-means and k-medoids.\n",
    "#       You'd better call distance function for implementing this function\n",
    "################################################################################ \n",
    "    \n",
    "    # Write you code here\n",
    "    \n",
    "#     # Expectation step \n",
    "#     # Assigning each value to its closest cluster\n",
    "#     # clusters means data_cluster_indice\n",
    "#     data_cluster_indice = np.zeros(len(data), int)\n",
    "#     for i in range(len(data)):\n",
    "#         distances = distance(data[i], centroids)\n",
    "#         cluster_index = np.argmin(distances)\n",
    "#         data_cluster_indice[i] = cluster_index\n",
    "\n",
    "#     print(\"debug of cost function\")\n",
    "    cost = 0\n",
    "    for i in range(len(data)):\n",
    "        cost += distance(data[i], centroids[clusters[i]])\n",
    "        \n",
    "    return cost\n",
    "\n",
    "################################################################################\n",
    "#                                 END OF YOUR CODE                             #\n",
    "################################################################################"
   ]
  },
  {
   "cell_type": "markdown",
   "metadata": {},
   "source": [
    "> Expectation Step\n",
    "<br> Assigning each value to its closest cluster, that is, find cluster index for each data"
   ]
  },
  {
   "cell_type": "markdown",
   "metadata": {},
   "source": [
    "distances's dimension $ K \\times p $"
   ]
  },
  {
   "cell_type": "code",
   "execution_count": 60,
   "metadata": {},
   "outputs": [],
   "source": [
    "def expectation(data, centroids, K):\n",
    "    # Assigning each value to its closest cluster\n",
    "    data_cluster_indice = np.zeros(len(data), int)\n",
    "    for i in range(len(data)):\n",
    "        distances = distance(data[i], centroids)\n",
    "        cluster_index = np.argmin(distances)\n",
    "        data_cluster_indice[i] = cluster_index\n",
    "    return data_cluster_indice"
   ]
  },
  {
   "cell_type": "code",
   "execution_count": 61,
   "metadata": {},
   "outputs": [],
   "source": [
    "# distance(data[0], centroids)"
   ]
  },
  {
   "cell_type": "markdown",
   "metadata": {},
   "source": [
    "> Maximization Step\n",
    "<br> Finding the new centroids by taking the average value"
   ]
  },
  {
   "cell_type": "code",
   "execution_count": 62,
   "metadata": {},
   "outputs": [],
   "source": [
    "def maximization(data, data_cluster_indice, K):\n",
    "    # Finding the new centroids by taking the average value\n",
    "    centroids_new = np.zeros((K, np.size(data, axis = 1)))\n",
    "    for i in range(K):\n",
    "        points = [data[j] for j in range(len(data)) if data_cluster_indice[j] == i]\n",
    "        centroids_new[i] = np.mean(points, axis=0)\n",
    "    return centroids_new"
   ]
  },
  {
   "cell_type": "markdown",
   "metadata": {},
   "source": [
    "> Test using library "
   ]
  },
  {
   "cell_type": "code",
   "execution_count": 63,
   "metadata": {},
   "outputs": [],
   "source": [
    "# Create a kmeans model on our data, using k clusters.  \n",
    "# random_state helps ensure that the algorithm returns the same results each time.\n",
    "K = 2\n",
    "kmeans_model = KMeans(n_clusters=K, random_state=0).fit(X_1)\n",
    "# These are our fitted labels for clusters \n",
    "# -- the first cluster has label 0, and the second has label 1.\n",
    "labels = kmeans_model.labels_\n",
    "# Sum of distances of samples to their closest cluster center\n",
    "interia = kmeans_model.inertia_\n",
    "centers = kmeans_model.cluster_centers_"
   ]
  },
  {
   "cell_type": "code",
   "execution_count": 64,
   "metadata": {},
   "outputs": [
    {
     "name": "stdout",
     "output_type": "stream",
     "text": [
      "12182.914413326089\n",
      "[[ 2.63434186 -6.55097678]\n",
      " [ 8.8284977  -0.08219273]]\n"
     ]
    }
   ],
   "source": [
    "print(interia)\n",
    "print(centers)"
   ]
  },
  {
   "cell_type": "markdown",
   "metadata": {},
   "source": [
    "> which is same as my cost function"
   ]
  },
  {
   "cell_type": "code",
   "execution_count": 65,
   "metadata": {},
   "outputs": [
    {
     "data": {
      "text/plain": [
       "12182.914413326089"
      ]
     },
     "execution_count": 65,
     "metadata": {},
     "output_type": "execute_result"
    }
   ],
   "source": [
    "K = 2\n",
    "clusters = expectation(X_1, centers, K)\n",
    "cost(X_1, centers, clusters)"
   ]
  },
  {
   "cell_type": "code",
   "execution_count": 66,
   "metadata": {},
   "outputs": [
    {
     "data": {
      "text/plain": [
       "array([1, 0, 0, ..., 0, 0, 0])"
      ]
     },
     "execution_count": 66,
     "metadata": {},
     "output_type": "execute_result"
    }
   ],
   "source": [
    "cluster_indices = expectation(X_1, centers, K)\n",
    "cluster_indices"
   ]
  },
  {
   "cell_type": "code",
   "execution_count": 67,
   "metadata": {},
   "outputs": [
    {
     "data": {
      "text/plain": [
       "array([[ 2.63434186, -6.55097678],\n",
       "       [ 8.8284977 , -0.08219273]])"
      ]
     },
     "execution_count": 67,
     "metadata": {},
     "output_type": "execute_result"
    }
   ],
   "source": [
    "maximization(X_1, cluster_indices, K)"
   ]
  },
  {
   "cell_type": "markdown",
   "metadata": {},
   "source": [
    "> using sklearn.cluster library, we can easily compute cost => Kmeans(...).fit(X).inertia"
   ]
  },
  {
   "cell_type": "code",
   "execution_count": 68,
   "metadata": {},
   "outputs": [],
   "source": [
    "X_test = np.array([[1, 2], [1, 4], [1, 0], [10, 2], [10, 4], [10, 0]])\n",
    "km = KMeans(n_clusters=2, random_state=0).fit(X_test)\n",
    "labels = km.labels_\n",
    "interia = km.inertia_\n",
    "centers = km.cluster_centers_"
   ]
  },
  {
   "cell_type": "code",
   "execution_count": 69,
   "metadata": {},
   "outputs": [
    {
     "name": "stdout",
     "output_type": "stream",
     "text": [
      "[1 1 1 0 0 0]\n",
      "16.0\n",
      "[[10.  2.]\n",
      " [ 1.  2.]]\n"
     ]
    }
   ],
   "source": [
    "print(labels)\n",
    "print(interia)\n",
    "print(centers)"
   ]
  },
  {
   "cell_type": "code",
   "execution_count": 70,
   "metadata": {},
   "outputs": [
    {
     "data": {
      "text/plain": [
       "array([[10.,  2.],\n",
       "       [ 1.,  2.]])"
      ]
     },
     "execution_count": 70,
     "metadata": {},
     "output_type": "execute_result"
    }
   ],
   "source": [
    "centers"
   ]
  },
  {
   "cell_type": "code",
   "execution_count": 71,
   "metadata": {},
   "outputs": [
    {
     "name": "stdout",
     "output_type": "stream",
     "text": [
      "[1 1 1 0 0 0]\n"
     ]
    },
    {
     "data": {
      "text/plain": [
       "16.0"
      ]
     },
     "execution_count": 71,
     "metadata": {},
     "output_type": "execute_result"
    }
   ],
   "source": [
    "K = 2\n",
    "X_test = np.array([[1, 2], [1, 4], [1, 0], [10, 2], [10, 4], [10, 0]])\n",
    "clusters = expectation(X_test, centers, K)\n",
    "print(clusters)\n",
    "cost(X_test, centers, clusters)"
   ]
  },
  {
   "cell_type": "code",
   "execution_count": 72,
   "metadata": {},
   "outputs": [
    {
     "data": {
      "text/plain": [
       "array([81.,  0.])"
      ]
     },
     "execution_count": 72,
     "metadata": {},
     "output_type": "execute_result"
    }
   ],
   "source": [
    "distance(X_test[0], centers)"
   ]
  },
  {
   "cell_type": "code",
   "execution_count": 73,
   "metadata": {},
   "outputs": [
    {
     "name": "stdout",
     "output_type": "stream",
     "text": [
      "[1 1 1 0 0 0]\n",
      "16.0\n"
     ]
    }
   ],
   "source": [
    "K = 2\n",
    "data_cluster_indice = np.zeros(len(X_test), int)\n",
    "# Assigning each value to its closest cluster\n",
    "for i in range(len(X_test)):\n",
    "    distances = distance(X_test[i], centers)\n",
    "#     print(i,\"th data\", end = \"\")\n",
    "#     print(\" dist = \", distances)\n",
    "    cluster_index = np.argmin(distances)\n",
    "    data_cluster_indice[i] = cluster_index  \n",
    "print(data_cluster_indice)\n",
    "\n",
    "cost = 0\n",
    "for i in range(len(X_test)):\n",
    "#     print(i,\"th data \", end = \"\")\n",
    "#     print(X_test[i])\n",
    "#     print(centers[data_cluster_indice[i]])\n",
    "#     print(\"dist = \", distance(X_test[i], centers[data_cluster_indice[i]]))\n",
    "    cost += distance(X_test[i], centers[data_cluster_indice[i]])\n",
    "\n",
    "print(cost)"
   ]
  },
  {
   "cell_type": "code",
   "execution_count": 74,
   "metadata": {},
   "outputs": [
    {
     "data": {
      "text/plain": [
       "array([1., 2.])"
      ]
     },
     "execution_count": 74,
     "metadata": {},
     "output_type": "execute_result"
    }
   ],
   "source": [
    "centers[0]\n",
    "X_test[0]\n",
    "centers[data_cluster_indice[0]]\n"
   ]
  },
  {
   "cell_type": "code",
   "execution_count": 75,
   "metadata": {},
   "outputs": [
    {
     "data": {
      "text/plain": [
       "8.000000000000002"
      ]
     },
     "execution_count": 75,
     "metadata": {},
     "output_type": "execute_result"
    }
   ],
   "source": [
    "distance(np.array([1,2]),np.array([3,4]))"
   ]
  },
  {
   "cell_type": "markdown",
   "metadata": {},
   "source": [
    "### #2. Stopping criteria \n",
    "\n",
    "k-means and k-medoids clustering algorithm repeats \"assign\" and \"update\" steps until a stopping criterion is met. Design and implement your own stopping conditions."
   ]
  },
  {
   "cell_type": "markdown",
   "metadata": {},
   "source": [
    "**Question #1 :** What is your stopping criteria? You should design at least two conditions."
   ]
  },
  {
   "cell_type": "markdown",
   "metadata": {},
   "source": [
    "**Your Answer:** Fill this in"
   ]
  },
  {
   "cell_type": "code",
   "execution_count": 76,
   "metadata": {},
   "outputs": [],
   "source": [
    "def stopping_criteria(error, iteration):\n",
    "################################################################################\n",
    "# TODO: Implement the function for stopping criteria                           #\n",
    "#   - You can take any inputs as an argument                                   #\n",
    "#   - Make sure that the output of the function is the type of 'boolean'       #\n",
    "################################################################################ \n",
    "\n",
    "    # Write your code here\n",
    "    is_stop = None\n",
    "    if (error < 1e-8 or iteration > 10):\n",
    "#     if (error < 1e-8):\n",
    "        is_stop = False\n",
    "    else:\n",
    "        is_stop = True\n",
    "    \n",
    "    return is_stop\n",
    "\n",
    "################################################################################\n",
    "#                                 END OF YOUR CODE                             #\n",
    "################################################################################"
   ]
  },
  {
   "cell_type": "code",
   "execution_count": 77,
   "metadata": {},
   "outputs": [
    {
     "data": {
      "text/plain": [
       "True"
      ]
     },
     "execution_count": 77,
     "metadata": {},
     "output_type": "execute_result"
    }
   ],
   "source": [
    "stopping_criteria(30,2)"
   ]
  },
  {
   "cell_type": "markdown",
   "metadata": {},
   "source": [
    "### #3. k-means  algorithm"
   ]
  },
  {
   "cell_type": "markdown",
   "metadata": {},
   "source": [
    "You should write up the following function."
   ]
  },
  {
   "cell_type": "code",
   "execution_count": 78,
   "metadata": {},
   "outputs": [
    {
     "data": {
      "text/plain": [
       "(1500,)"
      ]
     },
     "execution_count": 78,
     "metadata": {},
     "output_type": "execute_result"
    }
   ],
   "source": [
    "clusters = np.zeros(len(X_1))\n",
    "type(clusters)\n",
    "clusters.shape"
   ]
  },
  {
   "cell_type": "code",
   "execution_count": 79,
   "metadata": {},
   "outputs": [
    {
     "data": {
      "text/plain": [
       "(1500,)"
      ]
     },
     "execution_count": 79,
     "metadata": {},
     "output_type": "execute_result"
    }
   ],
   "source": [
    "len(X_1)\n",
    "np.zeros(len(X_1)).shape"
   ]
  },
  {
   "cell_type": "markdown",
   "metadata": {},
   "source": [
    "> reference: https://docs.scipy.org/doc/numpy/reference/generated/numpy.random.sample.html"
   ]
  },
  {
   "cell_type": "code",
   "execution_count": 80,
   "metadata": {},
   "outputs": [],
   "source": [
    "import random"
   ]
  },
  {
   "cell_type": "code",
   "execution_count": 81,
   "metadata": {},
   "outputs": [
    {
     "name": "stdout",
     "output_type": "stream",
     "text": [
      "[[ 3.87721925 -4.99794813]\n",
      " [ 7.19601112 -2.06229287]\n",
      " [ 3.9245864  -8.24364089]]\n"
     ]
    },
    {
     "data": {
      "text/plain": [
       "<matplotlib.collections.PathCollection at 0x1a9c1edb400>"
      ]
     },
     "execution_count": 81,
     "metadata": {},
     "output_type": "execute_result"
    },
    {
     "data": {
      "image/png": "[encoded data removed]",
      "text/plain": [
       "<Figure size 432x288 with 1 Axes>"
      ]
     },
     "metadata": {
      "needs_background": "light"
     },
     "output_type": "display_data"
    }
   ],
   "source": [
    "k_random_row = random.sample(range(0,len(X_1)), 3)\n",
    "centers = X_1[k_random_row, :]\n",
    "print(centers)\n",
    "# Plot the data and the centers generated as random\n",
    "plt.clf()\n",
    "plt.scatter(X_1[:,0], X_1[:,1], c= 'orange', s = 7)\n",
    "plt.scatter(centers[:,0], centers[:,1], marker='*', c='b', s=150)"
   ]
  },
  {
   "cell_type": "code",
   "execution_count": 82,
   "metadata": {},
   "outputs": [
    {
     "data": {
      "text/plain": [
       "(1500, 2)"
      ]
     },
     "execution_count": 82,
     "metadata": {},
     "output_type": "execute_result"
    }
   ],
   "source": [
    "X = np.array(list(zip(X_1[:,0], X_1[:,1])))\n",
    "X.shape"
   ]
  },
  {
   "cell_type": "markdown",
   "metadata": {},
   "source": [
    "> N is # of instances, p is # of dimension for each data instance, K is # of clusters \n",
    "<br> data $ \\in R^{N \\times p}$ \n",
    "<br> centriods $ \\in R^{K \\times p}$ \n",
    "<br> # of clusters $ = {K}$ \n",
    "<br> clusters means data_cluster_indice $ \\in [0, K-1] \\subset Z^{N \\times 1}$ "
   ]
  },
  {
   "cell_type": "code",
   "execution_count": 83,
   "metadata": {},
   "outputs": [],
   "source": [
    "def kmeans_user(data, k):\n",
    "################################################################################\n",
    "# TODO: Implement k-means algorithm                                             #\n",
    "################################################################################   \n",
    "    \n",
    "    # Write your code here\n",
    "    \n",
    "    # Setup \n",
    "    clusters = np.zeros(len(data), int) # you can change the type of this variable\n",
    "    centroids_old = centroids_new = np.zeros((K, np.size(data, axis = 1)))\n",
    "    error = 1e+10\n",
    "    \n",
    "    # 0. Choose k initial cluster centers \n",
    "    centroids = None\n",
    "    # randomly choose k centers \n",
    "    k_random_row_indice = random.sample(range(0,len(data)), k)\n",
    "    centroids_old = data[k_random_row_indice, :]\n",
    "#     print(centroids_old)\n",
    "    \n",
    "    iteration = 0\n",
    "    is_continue = stopping_criteria(error, iteration)\n",
    "    \n",
    "    # initial point plot\n",
    "    plt.clf()\n",
    "    plt.subplot(1,2,1)\n",
    "    plt.scatter(data[:,0], data[:,1], c= 'r', s = 7)\n",
    "    plt.scatter(centroids_old[:,0], centroids_old[:,1], marker='*', c='#050505', s=150)\n",
    "    plt.title(\"inital point\")\n",
    "    \n",
    "    while is_continue:\n",
    "        # Algorithm procedure:\n",
    "        #   1. Compute point-to-cluster-centroid distances of all data points to each centroid \n",
    "        \n",
    "        #   2. Assign each point to the cluster with the closest centroid.\n",
    "        clusters = expectation(data, centroids_old, k)\n",
    "#         error = cost(data, centroids_old, clusters)\n",
    "#         print(\"debug\")\n",
    "#         print(\"centers = \",centroids_old)\n",
    "#         print(\"clusters = \",clusters)\n",
    "        \n",
    "        #   3. Update the centroid values: the average of the points in each cluster\n",
    "        centroids_new = maximization(data, clusters, k)\n",
    "        centroids_old = (centroids_new)\n",
    "        \n",
    "#         print(\"debug\")\n",
    "#         print(clusters)\n",
    "        \n",
    "        error = cost(data, centroids_new, clusters)\n",
    "#         print(error)\n",
    "        \n",
    "        # Loop should run until a stopping criterion is satisfied\n",
    "        iteration += 1\n",
    "        is_continue = stopping_criteria(error, iteration)\n",
    "#         print(is_continue, iteration)\n",
    "    \n",
    "    \n",
    "    colors = ['r', 'b', 'g', 'y', 'c', 'm']\n",
    "    # final point plot\n",
    "    plt.subplot(1,2,2)\n",
    "    for i in range(k):\n",
    "        points = np.array([data[j] for j in range(len(data)) if clusters[j] == i])\n",
    "        plt.scatter(points[:, 0], points[:, 1], s=7, c=colors[i])\n",
    "    plt.scatter(centroids_new[:,0], centroids_new[:,1], marker='*', c='#050505', s=150)\n",
    "    plt.title(\"after clustering\")\n",
    "    \n",
    "    print(\"final error = \",error)\n",
    "    \n",
    "    return centroids_new, clusters \n",
    "\n",
    "################################################################################\n",
    "#                                 END OF YOUR CODE                             #\n",
    "################################################################################"
   ]
  },
  {
   "cell_type": "code",
   "execution_count": 84,
   "metadata": {},
   "outputs": [
    {
     "name": "stdout",
     "output_type": "stream",
     "text": [
      "[[ 3.87721925 -4.99794813]\n",
      " [ 7.19601112 -2.06229287]\n",
      " [ 3.9245864  -8.24364089]]\n",
      "[0. 0. 0. ... 0. 0. 0.]\n",
      "[ 86.45972208  24.36457699 141.842829  ]\n",
      "1\n",
      "0\n"
     ]
    }
   ],
   "source": [
    "# X_test\n",
    "print(centers)\n",
    "print(clusters)\n",
    "# X_test[]\n",
    "distances = distance(X_test[3], centers)\n",
    "print(distances)\n",
    "print(np.argmin(distances))\n",
    "print(np.argmin(np.array([15,15,15])))"
   ]
  },
  {
   "cell_type": "code",
   "execution_count": 85,
   "metadata": {},
   "outputs": [
    {
     "data": {
      "text/plain": [
       "numpy.int32"
      ]
     },
     "execution_count": 85,
     "metadata": {},
     "output_type": "execute_result"
    }
   ],
   "source": [
    "type(X_test[0][1])\n"
   ]
  },
  {
   "cell_type": "code",
   "execution_count": 86,
   "metadata": {},
   "outputs": [],
   "source": [
    "def cost(data, centroids, clusters):\n",
    "    \n",
    "################################################################################\n",
    "# TODO: Implement cost(error) function reference to slide 13 of lecture 15\n",
    "#       For k-medoids, just substitue center points in the formula with medoids. \n",
    "\n",
    "#       You can use this cost function for both k-means and k-medoids.\n",
    "#       You'd better call distance function for implementing this function\n",
    "################################################################################ \n",
    "    \n",
    "    # Write you code here\n",
    "    \n",
    "#     # Expectation step \n",
    "#     # Assigning each value to its closest cluster\n",
    "#     # clusters means data_cluster_indice\n",
    "#     data_cluster_indice = np.zeros(len(data), int)\n",
    "#     for i in range(len(data)):\n",
    "#         distances = distance(data[i], centroids)\n",
    "#         cluster_index = np.argmin(distances)\n",
    "#         data_cluster_indice[i] = cluster_index\n",
    "\n",
    "#     print(\"debug of cost function\")\n",
    "    cost = 0\n",
    "    for i in range(len(data)):\n",
    "        cost += distance(data[i], centroids[clusters[i]])\n",
    "        \n",
    "    return cost\n",
    "\n",
    "################################################################################\n",
    "#                                 END OF YOUR CODE                             #"
   ]
  },
  {
   "cell_type": "code",
   "execution_count": 87,
   "metadata": {},
   "outputs": [
    {
     "name": "stdout",
     "output_type": "stream",
     "text": [
      "final error =  125.5\n"
     ]
    },
    {
     "data": {
      "image/png": "[encoded data removed]",
      "text/plain": [
       "<Figure size 432x288 with 2 Axes>"
      ]
     },
     "metadata": {
      "needs_background": "light"
     },
     "output_type": "display_data"
    }
   ],
   "source": [
    "[centers, clusters] = kmeans_user(X_test, 2)"
   ]
  },
  {
   "cell_type": "code",
   "execution_count": 88,
   "metadata": {},
   "outputs": [
    {
     "data": {
      "text/plain": [
       "array([[5.5, 1. ],\n",
       "       [5.5, 4. ]])"
      ]
     },
     "execution_count": 88,
     "metadata": {},
     "output_type": "execute_result"
    }
   ],
   "source": [
    "centers"
   ]
  },
  {
   "cell_type": "code",
   "execution_count": 89,
   "metadata": {},
   "outputs": [
    {
     "data": {
      "text/plain": [
       "array([0, 1, 0, 0, 1, 0])"
      ]
     },
     "execution_count": 89,
     "metadata": {},
     "output_type": "execute_result"
    }
   ],
   "source": [
    "clusters"
   ]
  },
  {
   "cell_type": "code",
   "execution_count": 90,
   "metadata": {},
   "outputs": [
    {
     "name": "stdout",
     "output_type": "stream",
     "text": [
      "final error =  16.0\n"
     ]
    },
    {
     "data": {
      "text/plain": [
       "(array([[ 1.,  2.],\n",
       "        [10.,  2.]]), array([0, 0, 0, 1, 1, 1]))"
      ]
     },
     "execution_count": 90,
     "metadata": {},
     "output_type": "execute_result"
    },
    {
     "data": {
      "image/png": "[encoded data removed]",
      "text/plain": [
       "<Figure size 432x288 with 2 Axes>"
      ]
     },
     "metadata": {
      "needs_background": "light"
     },
     "output_type": "display_data"
    }
   ],
   "source": [
    "kmeans_user(X_test, 2)"
   ]
  },
  {
   "cell_type": "code",
   "execution_count": 91,
   "metadata": {},
   "outputs": [
    {
     "name": "stdout",
     "output_type": "stream",
     "text": [
      "final error =  12182.91441332608\n"
     ]
    },
    {
     "data": {
      "text/plain": [
       "(array([[ 8.8284977 , -0.08219273],\n",
       "        [ 2.63434186, -6.55097678]]), array([0, 1, 1, ..., 1, 1, 1]))"
      ]
     },
     "execution_count": 91,
     "metadata": {},
     "output_type": "execute_result"
    },
    {
     "data": {
      "image/png": "[encoded data removed]",
      "text/plain": [
       "<Figure size 432x288 with 2 Axes>"
      ]
     },
     "metadata": {
      "needs_background": "light"
     },
     "output_type": "display_data"
    }
   ],
   "source": [
    "kmeans_user(X_1, 2)"
   ]
  },
  {
   "cell_type": "code",
   "execution_count": null,
   "metadata": {},
   "outputs": [],
   "source": [
    "kmeans_user(X_1, 3)"
   ]
  },
  {
   "cell_type": "code",
   "execution_count": null,
   "metadata": {},
   "outputs": [],
   "source": [
    "kmeans_user(X_1, 4)"
   ]
  },
  {
   "cell_type": "code",
   "execution_count": null,
   "metadata": {},
   "outputs": [],
   "source": [
    "from sklearn.cluster import KMeans"
   ]
  },
  {
   "cell_type": "code",
   "execution_count": null,
   "metadata": {},
   "outputs": [],
   "source": [
    "# Create a kmeans model on our data, using k clusters.  \n",
    "# random_state helps ensure that the algorithm returns the same results each time.\n",
    "K = 2\n",
    "kmeans_model = KMeans(n_clusters= K, random_state=0).fit(X_1)\n",
    "# These are our fitted labels for clusters \n",
    "# -- the first cluster has label 0, and the second has label 1.\n",
    "labels = kmeans_model.labels_\n",
    "# Sum of distances of samples to their closest cluster center\n",
    "interia = kmeans_model.inertia_\n",
    "centers = kmeans_model.cluster_centers_"
   ]
  },
  {
   "cell_type": "code",
   "execution_count": null,
   "metadata": {},
   "outputs": [],
   "source": [
    "# print(labels)\n",
    "print(interia)\n",
    "print(centers)"
   ]
  },
  {
   "cell_type": "code",
   "execution_count": null,
   "metadata": {},
   "outputs": [],
   "source": [
    "K = 3\n",
    "kmeans_model = KMeans(n_clusters= K, random_state=0).fit(X_1)\n",
    "# Sum of distances of samples to their closest cluster center\n",
    "interia = kmeans_model.inertia_\n",
    "centers = kmeans_model.cluster_centers_\n",
    "print(interia)\n",
    "print(centers)"
   ]
  },
  {
   "cell_type": "code",
   "execution_count": null,
   "metadata": {},
   "outputs": [],
   "source": [
    "K = 4\n",
    "kmeans_model = KMeans(n_clusters= K, random_state=0).fit(X_1)\n",
    "# Sum of distances of samples to their closest cluster center\n",
    "interia = kmeans_model.inertia_\n",
    "centers = kmeans_model.cluster_centers_\n",
    "print(interia)\n",
    "print(centers)"
   ]
  },
  {
   "cell_type": "markdown",
   "metadata": {},
   "source": [
    "### #4. k-medoids algorithm"
   ]
  },
  {
   "cell_type": "markdown",
   "metadata": {},
   "source": [
    "You should write up the following function."
   ]
  },
  {
   "cell_type": "code",
   "execution_count": 92,
   "metadata": {},
   "outputs": [],
   "source": [
    "def maximization_medoids(data, data_cluster_indice, K):\n",
    "    # Finding the new centroids by taking the average value\n",
    "    centroids_new = np.zeros((K, np.size(data, axis = 1)))\n",
    "    \n",
    "    # for each cluster \n",
    "    for k in range(K):\n",
    "        points = [data[i] for i in range(len(data)) if data_cluster_indice[i] == k]\n",
    "#         print(points)\n",
    "#         centroids_new[k] = np.mean(points, axis=0)\n",
    "        distances = np.zeros(len(points))\n",
    "        for i in range(len(points)):\n",
    "            for j in range(len(points)):\n",
    "                distances[i] += distance(points[i], points[j])\n",
    "#         print(distances)\n",
    "        clusteroid_index = np.argmin(distances)\n",
    "        centroids_new[k] = points[clusteroid_index]\n",
    "    \n",
    "    return centroids_new"
   ]
  },
  {
   "cell_type": "markdown",
   "metadata": {},
   "source": [
    "test"
   ]
  },
  {
   "cell_type": "code",
   "execution_count": 93,
   "metadata": {},
   "outputs": [
    {
     "data": {
      "text/plain": [
       "array([1, 1, 1, 0, 0, 0])"
      ]
     },
     "execution_count": 93,
     "metadata": {},
     "output_type": "execute_result"
    }
   ],
   "source": [
    "K = 2\n",
    "X_test = np.array([[1, 0], [1, 2], [1, 4], [10, 0], [10, 2], [10, 4]])\n",
    "k_random_row_indice = random.sample(range(0,len(X_test)), K)\n",
    "centers = X_test[k_random_row_indice, :]\n",
    "cluster_indices = expectation(X_test, centers, K)\n",
    "centers\n",
    "cluster_indices"
   ]
  },
  {
   "cell_type": "code",
   "execution_count": 94,
   "metadata": {},
   "outputs": [],
   "source": [
    "# distance(np.array([1,2]), np.array([1,4]))"
   ]
  },
  {
   "cell_type": "code",
   "execution_count": 95,
   "metadata": {},
   "outputs": [
    {
     "data": {
      "text/plain": [
       "array([[10.,  2.],\n",
       "       [ 1.,  2.]])"
      ]
     },
     "execution_count": 95,
     "metadata": {},
     "output_type": "execute_result"
    }
   ],
   "source": [
    " maximization_medoids(X_test, cluster_indices, K)"
   ]
  },
  {
   "cell_type": "code",
   "execution_count": 96,
   "metadata": {},
   "outputs": [],
   "source": [
    "def kmedoids(data, k):\n",
    "################################################################################\n",
    "# TODO: Implement k-medoids algorithm                                          #\n",
    "################################################################################   \n",
    "    \n",
    "    # Write your code here\n",
    "    \n",
    "    # Setup \n",
    "    clusters = np.zeros(len(data), int) # you can change the type of this variable\n",
    "    centroids_old = centroids_new = np.zeros((k, np.size(data, axis = 1)))\n",
    "    error = 1e+10\n",
    "    \n",
    "    # 0. Choose k initial cluster centers \n",
    "    k_random_row_indice = random.sample(range(0,len(data)), k)\n",
    "    centroids_old = data[k_random_row_indice, :]\n",
    "\n",
    "    # initial point plot\n",
    "    plt.clf()\n",
    "    plt.subplot(1,2,1)\n",
    "    plt.scatter(data[:,0], data[:,1], c= 'r', s = 7)\n",
    "    plt.scatter(centroids_old[:,0], centroids_old[:,1], marker='*', c='#050505', s=150)\n",
    "    plt.title(\"inital point\")\n",
    "#     print(\"debug0\")\n",
    "    iteration = 0\n",
    "    is_continue = stopping_criteria(error, iteration)\n",
    "    while is_continue:\n",
    "        # Algorithm procedure:\n",
    "        #   1. Compute point-to-cluster-centroid distances of all data points to each centroid\n",
    "        clusters = expectation(data, centroids_old, k)\n",
    "#         print(\"debug1\")\n",
    "        \n",
    "        #   2. Assign each point to the cluster with the closest centroid.\n",
    "        centroids_new = maximization(data, clusters, k)\n",
    "#         print(\"debug2\")\n",
    "        #   3. Update the centroid values: For a given cluster, a data point that minimizes \n",
    "        #      the sum of distances to ohter points in that cluster\n",
    "        centroids_new = maximization_medoids(data, clusters, k)\n",
    "        centroids_old = centroids_new\n",
    "        error = cost(data, centroids_new, clusters)\n",
    "\n",
    "        # Loop should run until a stopping criterion is satisfied\n",
    "        iteration += 1\n",
    "        is_continue = stopping_criteria(error, iteration)\n",
    "        \n",
    "    colors = ['r', 'b', 'g', 'y', 'c', 'm']\n",
    "    # final point plot\n",
    "    plt.subplot(1,2,2)\n",
    "    for i in range(k):\n",
    "        points = np.array([data[j] for j in range(len(data)) if clusters[j] == i])\n",
    "        plt.scatter(points[:, 0], points[:, 1], s=7, c=colors[i])\n",
    "    plt.scatter(centroids_new[:,0], centroids_new[:,1], marker='*', c='#050505', s=150)\n",
    "    plt.title(\"after clustering\")\n",
    "    \n",
    "    print(\"final error = \",error)\n",
    "    \n",
    "    \n",
    "    return centroids_new, clusters \n",
    "\n",
    "################################################################################\n",
    "#                                 END OF YOUR CODE                             #\n",
    "################################################################################"
   ]
  },
  {
   "cell_type": "code",
   "execution_count": 97,
   "metadata": {},
   "outputs": [
    {
     "name": "stdout",
     "output_type": "stream",
     "text": [
      "debug0\n",
      "debug1\n",
      "debug2\n",
      "debug1\n",
      "debug2\n",
      "debug1\n",
      "debug2\n",
      "debug1\n",
      "debug2\n",
      "debug1\n",
      "debug2\n",
      "debug1\n",
      "debug2\n",
      "debug1\n",
      "debug2\n",
      "debug1\n",
      "debug2\n",
      "debug1\n",
      "debug2\n",
      "debug1\n",
      "debug2\n",
      "debug1\n",
      "debug2\n",
      "final error =  12243.244627293281\n"
     ]
    },
    {
     "data": {
      "text/plain": [
       "(array([[ 8.9541391 , -0.09431043],\n",
       "        [ 2.44175219, -6.43104112]]), array([0, 1, 1, ..., 1, 1, 1]))"
      ]
     },
     "execution_count": 97,
     "metadata": {},
     "output_type": "execute_result"
    },
    {
     "data": {
      "image/png": "[encoded data removed]",
      "text/plain": [
       "<Figure size 432x288 with 2 Axes>"
      ]
     },
     "metadata": {
      "needs_background": "light"
     },
     "output_type": "display_data"
    }
   ],
   "source": [
    "kmedoids(X_1, 2)"
   ]
  },
  {
   "cell_type": "markdown",
   "metadata": {},
   "source": [
    "### #5. Apply clustering and plot the result"
   ]
  },
  {
   "cell_type": "markdown",
   "metadata": {},
   "source": [
    "Apply clustering using 'kmeans' and 'kmedoids' function for data_1(X_1) with k=3 and plot the result."
   ]
  },
  {
   "cell_type": "code",
   "execution_count": null,
   "metadata": {},
   "outputs": [],
   "source": [
    "# TODO : Plot the result for different k values(K=2,3,4) for each algorithm using data_1(X_1)."
   ]
  },
  {
   "cell_type": "markdown",
   "metadata": {},
   "source": [
    "## 3. Comparing K-means with K-medoids (12p) "
   ]
  },
  {
   "cell_type": "markdown",
   "metadata": {},
   "source": [
    "Now apply k-means and k-medoids algorithm to data_2(X_2, y_2). y_2 is the ground-truth cluster label.\n",
    "Experiment five times, changing the initial points for each trial. \n",
    "\n",
    "Report confusion matrix, error(cost function in previous problem), running time of each algorithm by averaging each result.(For confusion matrix, just average each value) \n",
    "\n",
    "You can easily measure running time by 'time' function already loaded.\n",
    "\n",
    "Also, you can use any kinds of external libraries \n",
    "except for applying k-means and k-medoids(You should use the function in previous problem)."
   ]
  },
  {
   "cell_type": "code",
   "execution_count": null,
   "metadata": {},
   "outputs": [],
   "source": [
    "# TODO : Report confusion matrix, error, running time of each algorithm by averaging each result."
   ]
  },
  {
   "cell_type": "markdown",
   "metadata": {},
   "source": [
    "**Question #1 :** Explain why these two results are different through the characteristics of the two algorithms(K-means, K-medoids)"
   ]
  },
  {
   "cell_type": "markdown",
   "metadata": {},
   "source": [
    "**Your Answer:** Fill this in"
   ]
  }
 ],
 "metadata": {
  "kernelspec": {
   "display_name": "Python 3",
   "language": "python",
   "name": "python3"
  },
  "language_info": {
   "codemirror_mode": {
    "name": "ipython",
    "version": 3
   },
   "file_extension": ".py",
   "mimetype": "text/x-python",
   "name": "python",
   "nbconvert_exporter": "python",
   "pygments_lexer": "ipython3",
   "version": "3.7.1"
  }
 },
 "nbformat": 4,
 "nbformat_minor": 2
}
