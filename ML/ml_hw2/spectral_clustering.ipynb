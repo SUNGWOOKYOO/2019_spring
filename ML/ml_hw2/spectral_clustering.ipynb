{
 "cells": [
  {
   "cell_type": "markdown",
   "metadata": {},
   "source": [
    "# Problem 5> Spectral Clustering"
   ]
  },
  {
   "cell_type": "markdown",
   "metadata": {},
   "source": [
    "## 1. Load and visualize the datasets  (2p)"
   ]
  },
  {
   "cell_type": "code",
   "execution_count": 1,
   "metadata": {},
   "outputs": [],
   "source": [
    "import numpy as np\n",
    "from sklearn.cluster import SpectralClustering"
   ]
  },
  {
   "cell_type": "code",
   "execution_count": 2,
   "metadata": {},
   "outputs": [
    {
     "name": "stdout",
     "output_type": "stream",
     "text": [
      "Data 1 shape:  (1500, 2)\n",
      "Data 2 shape:  (1500, 2)\n",
      "Data 3 shape:  (1500, 2)\n"
     ]
    }
   ],
   "source": [
    "# You don't need to modify this cell\n",
    "\n",
    "# Load Data\n",
    "\n",
    "X_1 = np.load('./data_5_1.npy')\n",
    "X_2 = np.load('./data_5_2.npy')\n",
    "X_3 = np.load('./data_5_3.npy')\n",
    "\n",
    "# Sanity check\n",
    "print('Data 1 shape: ', X_1.shape) # (1500, 2)\n",
    "print('Data 2 shape: ', X_2.shape) # (1500, 2)\n",
    "print('Data 3 shape: ', X_3.shape) # (1500, 2)"
   ]
  },
  {
   "cell_type": "code",
   "execution_count": 3,
   "metadata": {},
   "outputs": [],
   "source": [
    "# TODO :Plot the Dataset - You can use any kinds of external libries for plotting"
   ]
  },
  {
   "cell_type": "markdown",
   "metadata": {},
   "source": [
    "## 2. Implement a spectral clustering and visualize the result  (11p)\n",
    "\n",
    "Experiment with changing scaling parameters  more than 3 times for each dataset and plot all of the results.\n",
    "\n",
    "You can change scaling parameters by changing the gamma(default value:1.0)\n",
    "ex) clustering = SpectralClustering(n_clusters=2, gamma=25)\n",
    "If you use the default value for gamma, you will see the results of the failed clusters.\n",
    "By adjusting gamma, you should show at least one succesful clustering result for each dataset to get full points for this problem.\n",
    "\n",
    "By using the best scaling parameter among your previous\n",
    "experiments, experiment again with changing initial center points more than 3 times for each\n",
    "dataset and plot all of the results.\n",
    "\n",
    "You can change initial points by changing the random states.\n",
    "ex) clustering = SpectralClustering(n_clusters=2, random_state=10)\n",
    "\n"
   ]
  },
  {
   "cell_type": "code",
   "execution_count": 4,
   "metadata": {},
   "outputs": [],
   "source": [
    "# (1) Chaning scaling parameters\n",
    "# TODO : Apply spectral clustering algorithm to datasets and plot the result more than 3 times,\n",
    "# while changing the scaling parameters.(fix n_clusters(k)=2)"
   ]
  },
  {
   "cell_type": "code",
   "execution_count": 5,
   "metadata": {},
   "outputs": [],
   "source": [
    "# (2) Chaning initial points\n",
    "# TODO : Apply spectral clustering algorithm to datasets and plot the result more than 3 times,\n",
    "# while changing the initial points.(fix n_clusters(k)=2, fix gamma for each dataset\n",
    "# with your best value among previous experiments)"
   ]
  }
 ],
 "metadata": {
  "kernelspec": {
   "display_name": "Python [conda env:py36torch10]",
   "language": "python",
   "name": "conda-env-py36torch10-py"
  },
  "language_info": {
   "codemirror_mode": {
    "name": "ipython",
    "version": 3
   },
   "file_extension": ".py",
   "mimetype": "text/x-python",
   "name": "python",
   "nbconvert_exporter": "python",
   "pygments_lexer": "ipython3",
   "version": "3.6.6"
  }
 },
 "nbformat": 4,
 "nbformat_minor": 2
}
