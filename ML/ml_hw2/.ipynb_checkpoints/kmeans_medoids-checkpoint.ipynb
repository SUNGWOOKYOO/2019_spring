{
 "cells": [
  {
   "cell_type": "markdown",
   "metadata": {},
   "source": [
    "# Problem 4> K-means, K-medoids"
   ]
  },
  {
   "cell_type": "markdown",
   "metadata": {},
   "source": [
    "## 1. Load and Visualize the dataset (2p)"
   ]
  },
  {
   "cell_type": "code",
   "execution_count": 1,
   "metadata": {},
   "outputs": [],
   "source": [
    "import numpy as np\n",
    "from time import time"
   ]
  },
  {
   "cell_type": "code",
   "execution_count": 2,
   "metadata": {},
   "outputs": [
    {
     "name": "stdout",
     "output_type": "stream",
     "text": [
      "Data shape:  (1500, 2)\n",
      "Data shape:  (1500, 6)\n",
      "Data shape:  (1500,)\n"
     ]
    }
   ],
   "source": [
    "# You don't need to modify this cell\n",
    "\n",
    "## Load data\n",
    "\n",
    "X_1 = np.load('./data_4_1.npy') # data_1\n",
    "\n",
    "data_2 = np.load('./data_4_2.npz') # data_2\n",
    "X_2 = data_2['X']\n",
    "y_2 = data_2['y']\n",
    "\n",
    "# Sanity check\n",
    "print('Data shape: ', X_1.shape) # (1500, 2)\n",
    "print('Data shape: ', X_2.shape) # (1500, 6)\n",
    "print('Data shape: ', y_2.shape) # (1500,)"
   ]
  },
  {
   "cell_type": "code",
   "execution_count": 3,
   "metadata": {},
   "outputs": [],
   "source": [
    "# TODO: Implement the function to plot the data."
   ]
  },
  {
   "cell_type": "markdown",
   "metadata": {},
   "source": [
    "## 2. Implement k-means and k-medoids algorithm  (20p)"
   ]
  },
  {
   "cell_type": "markdown",
   "metadata": {},
   "source": [
    "In this problem, the final goal is to complete \"kmeans\" and \"kmedoids' function. \n",
    "To this end, please follow the step by step instructions in this problem.\n",
    "After implementation you should apply your function to data_1(X_1) and plot the clusters for three different k values (k=2,3,4).\n",
    "You should assign a different color for each class.\n",
    "\n",
    "For this problem, you cannot use any external libraires except Numpy!"
   ]
  },
  {
   "cell_type": "markdown",
   "metadata": {},
   "source": [
    "### #1. Distance and Cost function\n",
    "\n",
    "To assign each data point to a specific class, we need to measure the distance between data points. You should write up the following 'distance' function.\n",
    "Here, we will use \"squared Euclidean distance\" as a metric measure.\n",
    "Also implement the cost function to calcuate the cost(error) reference to slide 13 of lecture 15"
   ]
  },
  {
   "cell_type": "code",
   "execution_count": 1,
   "metadata": {},
   "outputs": [],
   "source": [
    "def distance(x1, x2):\n",
    "################################################################################\n",
    "# TODO: Implement the function to measure \"squared Euclidean distance\"         #\n",
    "#   - Squared Euclidean distance is defined by d(x1, x2) = (x1-x2)(x1-x2)'     #\n",
    "#   - x1 and x2 can be matrices (calculating many points at once)              #\n",
    "#     as well as vectors (calculating the distance one-by-one point)           #\n",
    "################################################################################\n",
    "    \n",
    "    # Write your code here\n",
    "    dist = None \n",
    "    return dist\n",
    "\n",
    "################################################################################\n",
    "#                                 END OF YOUR CODE                             #\n",
    "################################################################################"
   ]
  },
  {
   "cell_type": "code",
   "execution_count": 5,
   "metadata": {},
   "outputs": [],
   "source": [
    "def cost(data, centroids, clusters):\n",
    "    \n",
    "################################################################################\n",
    "# TODO: Implement cost(error) function reference to slide 13 of lecture 15\n",
    "#       For k-medoids, just substitue center points in the formula with medoids. \n",
    "\n",
    "#       You can use this cost function for both k-means and k-medoids.\n",
    "#       You'd better call distance function for implementing this function\n",
    "################################################################################ \n",
    "    \n",
    "    # Write you code here\n",
    "    return cost\n",
    "\n",
    "################################################################################\n",
    "#                                 END OF YOUR CODE                             #\n",
    "################################################################################"
   ]
  },
  {
   "cell_type": "markdown",
   "metadata": {},
   "source": [
    "### #2. Stopping criteria \n",
    "\n",
    "k-means and k-medoids clustering algorithm repeats \"assign\" and \"update\" steps until a stopping criterion is met. Design and implement your own stopping conditions."
   ]
  },
  {
   "cell_type": "markdown",
   "metadata": {},
   "source": [
    "**Question #1 :** What is your stopping criteria? You should design at least two conditions."
   ]
  },
  {
   "cell_type": "markdown",
   "metadata": {},
   "source": [
    "**Your Answer:** Fill this in"
   ]
  },
  {
   "cell_type": "code",
   "execution_count": 6,
   "metadata": {},
   "outputs": [],
   "source": [
    "def stopping_criteria():\n",
    "################################################################################\n",
    "# TODO: Implement the function for stopping criteria                           #\n",
    "#   - You can take any inputs as an argument                                   #\n",
    "#   - Make sure that the output of the function is the type of 'boolean'       #\n",
    "################################################################################ \n",
    "\n",
    "    # Write your code here\n",
    "    is_stop = None\n",
    "    return is_stop\n",
    "\n",
    "################################################################################\n",
    "#                                 END OF YOUR CODE                             #\n",
    "################################################################################"
   ]
  },
  {
   "cell_type": "markdown",
   "metadata": {},
   "source": [
    "### #3. k-means  algorithm"
   ]
  },
  {
   "cell_type": "markdown",
   "metadata": {},
   "source": [
    "You should write up the following function."
   ]
  },
  {
   "cell_type": "code",
   "execution_count": 7,
   "metadata": {},
   "outputs": [],
   "source": [
    "def kmeans(data, k):\n",
    "################################################################################\n",
    "# TODO: Implement k-means algorithm                                             #\n",
    "################################################################################   \n",
    "    \n",
    "    # Write your code here\n",
    "    \n",
    "    # Setup \n",
    "    clusters = np.zeros(len(data)) # you can change the type of this variable\n",
    "    \n",
    "    # 0. Choose k initial cluster centers \n",
    "    centroids = None\n",
    "\n",
    "    is_continue = stopping_criteria()\n",
    "    while is_continue:\n",
    "        # Algorithm procedure:\n",
    "        #   1. Compute point-to-cluster-centroid distances of all data points to each centroid\n",
    "        #   2. Assign each point to the cluster with the closest centroid.\n",
    "        #   3. Update the centroid values: the average of the points in each cluster\n",
    "\n",
    "        # Loop should run until a stopping criterion is satisfied\n",
    "        is_continue = stopping_criteria()\n",
    "        \n",
    "    return centroids, clusters \n",
    "\n",
    "################################################################################\n",
    "#                                 END OF YOUR CODE                             #\n",
    "################################################################################"
   ]
  },
  {
   "cell_type": "markdown",
   "metadata": {},
   "source": [
    "### #4. k-medoids algorithm"
   ]
  },
  {
   "cell_type": "markdown",
   "metadata": {},
   "source": [
    "You should write up the following function."
   ]
  },
  {
   "cell_type": "code",
   "execution_count": 8,
   "metadata": {},
   "outputs": [],
   "source": [
    "def kmedoids(data, k):\n",
    "################################################################################\n",
    "# TODO: Implement k-medoids algorithm                                          #\n",
    "################################################################################   \n",
    "    \n",
    "    # Write your code here\n",
    "    \n",
    "    # Setup \n",
    "    clusters = np.zeros(len(data)) # you can change the type of this variable\n",
    "    \n",
    "    # 0. Choose k initial medoids \n",
    "    centroids = None\n",
    "\n",
    "    is_continue = stopping_criteria()\n",
    "    while is_continue:\n",
    "        # Algorithm procedure:\n",
    "        #   1. Compute point-to-cluster-centroid distances of all data points to each centroid\n",
    "        #   2. Assign each point to the cluster with the closest centroid.\n",
    "        #   3. Update the centroid values: For a given cluster, a data point that minimizes \n",
    "        #      the sum of distances to ohter points in that cluster\n",
    "\n",
    "        # Loop should run until a stopping criterion is satisfied\n",
    "        is_continue = stopping_criteria()\n",
    "        \n",
    "    return centroids, clusters \n",
    "\n",
    "################################################################################\n",
    "#                                 END OF YOUR CODE                             #\n",
    "################################################################################"
   ]
  },
  {
   "cell_type": "markdown",
   "metadata": {},
   "source": [
    "### #5. Apply clustering and plot the result"
   ]
  },
  {
   "cell_type": "markdown",
   "metadata": {},
   "source": [
    "Apply clustering using 'kmeans' and 'kmedoids' function for data_1(X_1) with k=3 and plot the result."
   ]
  },
  {
   "cell_type": "code",
   "execution_count": 9,
   "metadata": {},
   "outputs": [],
   "source": [
    "# TODO : Plot the result for different k values(K=2,3,4) for each algorithm using data_1(X_1)."
   ]
  },
  {
   "cell_type": "markdown",
   "metadata": {},
   "source": [
    "## 3. Comparing K-means with K-medoids (12p) "
   ]
  },
  {
   "cell_type": "markdown",
   "metadata": {},
   "source": [
    "Now apply k-means and k-medoids algorithm to data_2(X_2, y_2). y_2 is the ground-truth cluster label.\n",
    "Experiment five times, changing the initial points for each trial. \n",
    "\n",
    "Report confusion matrix, error(cost function in previous problem), running time of each algorithm by averaging each result.(For confusion matrix, just average each value) \n",
    "\n",
    "You can easily measure running time by 'time' function already loaded.\n",
    "\n",
    "Also, you can use any kinds of external libraries \n",
    "except for applying k-means and k-medoids(You should use the function in previous problem)."
   ]
  },
  {
   "cell_type": "code",
   "execution_count": 10,
   "metadata": {},
   "outputs": [],
   "source": [
    "# TODO : Report confusion matrix, error, running time of each algorithm by averaging each result."
   ]
  },
  {
   "cell_type": "markdown",
   "metadata": {},
   "source": [
    "**Question #1 :** Explain why these two results are different through the characteristics of the two algorithms(K-means, K-medoids)"
   ]
  },
  {
   "cell_type": "markdown",
   "metadata": {},
   "source": [
    "**Your Answer:** Fill this in"
   ]
  }
 ],
 "metadata": {
  "kernelspec": {
   "display_name": "Python 3",
   "language": "python",
   "name": "python3"
  },
  "language_info": {
   "codemirror_mode": {
    "name": "ipython",
    "version": 3
   },
   "file_extension": ".py",
   "mimetype": "text/x-python",
   "name": "python",
   "nbconvert_exporter": "python",
   "pygments_lexer": "ipython3",
   "version": "3.7.1"
  }
 },
 "nbformat": 4,
 "nbformat_minor": 2
}
