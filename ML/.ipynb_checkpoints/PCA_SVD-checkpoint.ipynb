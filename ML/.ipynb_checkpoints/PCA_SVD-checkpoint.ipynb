{
 "cells": [
  {
   "cell_type": "code",
   "execution_count": 1,
   "metadata": {},
   "outputs": [],
   "source": [
    "import numpy as np\n",
    "from numpy import linalg as la"
   ]
  },
  {
   "cell_type": "markdown",
   "metadata": {},
   "source": [
    "# PCA"
   ]
  },
  {
   "cell_type": "markdown",
   "metadata": {},
   "source": [
    "### example 1 \n",
    "<reference> https://www.fun-coding.org/recommend_basic5.html"
   ]
  },
  {
   "cell_type": "markdown",
   "metadata": {},
   "source": [
    "numpy.random.randint(low, high=None, size=None) 이용 \n",
    "<br>변수(행)별로 평균을 0으로 centering한 행렬 X′를 만듬 (좌표계의 원점이 평균 벡터와 일치하도록 만듬)"
   ]
  },
  {
   "cell_type": "code",
   "execution_count": 2,
   "metadata": {},
   "outputs": [
    {
     "name": "stdout",
     "output_type": "stream",
     "text": [
      "* 원본 data\n",
      "[[8. 6. 1.]\n",
      " [6. 1. 8.]\n",
      " [4. 7. 5.]\n",
      " [9. 1. 4.]\n",
      " [8. 2. 8.]]\n",
      "* 각 dimension 별 평균\n",
      "[7.  3.4 5.2]\n",
      "[[ 1.   2.6 -4.2]\n",
      " [-1.  -2.4  2.8]\n",
      " [-3.   3.6 -0.2]\n",
      " [ 2.  -2.4 -1.2]\n",
      " [ 1.  -1.4  2.8]]\n"
     ]
    }
   ],
   "source": [
    "user, item = 5, 3\n",
    "X = np.random.randint(10, size = (user, item)).astype('float64')\n",
    "print(\"* 원본 data\")\n",
    "print(X)\n",
    "print(\"* 각 dimension 별 평균\")\n",
    "print(np.mean(X, axis=0))\n",
    "X -= np.mean(X, axis=0)\n",
    "print(X)"
   ]
  },
  {
   "cell_type": "markdown",
   "metadata": {},
   "source": [
    "공분산행렬은 다음 식으로 만들 수 있음\n",
    "$$Σ=cov(X)= X^T X/(n−1) \\propto X^T X $$"
   ]
  },
  {
   "cell_type": "code",
   "execution_count": 3,
   "metadata": {},
   "outputs": [
    {
     "data": {
      "text/plain": [
       "array([[ 4.  , -3.  , -1.5 ],\n",
       "       [-3.  ,  8.3 , -4.85],\n",
       "       [-1.5 , -4.85,  8.7 ]])"
      ]
     },
     "execution_count": 3,
     "metadata": {},
     "output_type": "execute_result"
    }
   ],
   "source": [
    "C = np.cov(X, rowvar=False)\n",
    "C"
   ]
  },
  {
   "cell_type": "markdown",
   "metadata": {},
   "source": [
    "공분산행렬을 기반으로 고유값과 고유벡터 구하기"
   ]
  },
  {
   "cell_type": "code",
   "execution_count": 4,
   "metadata": {},
   "outputs": [
    {
     "data": {
      "text/plain": [
       "(array([ 0.57805828,  6.950373  , 13.47156872]),\n",
       " array([[-0.69068378, -0.71360432,  0.11715285],\n",
       "        [-0.55757097,  0.42233494, -0.71466623],\n",
       "        [-0.46051117,  0.5589294 ,  0.68958494]]))"
      ]
     },
     "execution_count": 4,
     "metadata": {},
     "output_type": "execute_result"
    }
   ],
   "source": [
    "l, principal_axes = la.eig(C)\n",
    "l, principal_axes"
   ]
  },
  {
   "cell_type": "markdown",
   "metadata": {},
   "source": [
    "고유값을 높은 순으로 정렬하고, 이에 대응하는 고유벡터와 순서를 맞춤"
   ]
  },
  {
   "cell_type": "code",
   "execution_count": 5,
   "metadata": {},
   "outputs": [
    {
     "data": {
      "text/plain": [
       "array([2, 1, 0], dtype=int64)"
      ]
     },
     "execution_count": 5,
     "metadata": {},
     "output_type": "execute_result"
    }
   ],
   "source": [
    "idx = l.argsort()[::-1]\n",
    "idx"
   ]
  },
  {
   "cell_type": "code",
   "execution_count": 6,
   "metadata": {},
   "outputs": [
    {
     "data": {
      "text/plain": [
       "(array([13.47156872,  6.950373  ,  0.57805828]),\n",
       " array([[ 0.11715285, -0.71360432, -0.69068378],\n",
       "        [-0.71466623,  0.42233494, -0.55757097],\n",
       "        [ 0.68958494,  0.5589294 , -0.46051117]]))"
      ]
     },
     "execution_count": 6,
     "metadata": {},
     "output_type": "execute_result"
    }
   ],
   "source": [
    "l, principal_axes = l[idx], principal_axes[:, idx]\n",
    "l, principal_axes"
   ]
  },
  {
   "cell_type": "code",
   "execution_count": 7,
   "metadata": {
    "scrolled": true
   },
   "outputs": [
    {
     "data": {
      "text/plain": [
       "array([[ 1.00000000e+00,  4.96782823e-18, -2.45175478e-17],\n",
       "       [ 4.96782823e-18,  1.00000000e+00, -4.71036278e-16],\n",
       "       [-2.45175478e-17, -4.71036278e-16,  1.00000000e+00]])"
      ]
     },
     "execution_count": 7,
     "metadata": {},
     "output_type": "execute_result"
    }
   ],
   "source": [
    "np.matmul(principal_axes.T, principal_axes) "
   ]
  },
  {
   "cell_type": "markdown",
   "metadata": {},
   "source": [
    "차원축소예 (고유값을 기준으로 가장 큰 d개의 고유 벡터 선택)"
   ]
  },
  {
   "cell_type": "markdown",
   "metadata": {},
   "source": [
    "* principal axis(principal_compoents) 를 구함"
   ]
  },
  {
   "cell_type": "code",
   "execution_count": 8,
   "metadata": {},
   "outputs": [
    {
     "data": {
      "text/plain": [
       "array([[ 0.11715285, -0.71360432],\n",
       "       [-0.71466623,  0.42233494],\n",
       "       [ 0.68958494,  0.5589294 ]])"
      ]
     },
     "execution_count": 8,
     "metadata": {},
     "output_type": "execute_result"
    }
   ],
   "source": [
    "# d = 2 \n",
    "principal_axes[:, :2]"
   ]
  },
  {
   "cell_type": "markdown",
   "metadata": {},
   "source": [
    "* principal axis 를 기반으로 원본데이터 X에 대한 principal components 를 구함 \n",
    "  <br>그리고 top 2 개의 components 들에 대해서 dimensionality reduction을 수행"
   ]
  },
  {
   "cell_type": "code",
   "execution_count": 9,
   "metadata": {},
   "outputs": [
    {
     "data": {
      "text/plain": [
       "array([[-4.6372361 , -1.96303696, -0.20622139],\n",
       "       [ 3.52888393,  1.26500279,  0.73942283],\n",
       "       [-3.06217396,  3.54943286,  0.1568981 ],\n",
       "       [ 1.12200272, -3.11152777,  0.50941615],\n",
       "       [ 3.04852341,  0.26012909, -1.19951569]])"
      ]
     },
     "execution_count": 9,
     "metadata": {},
     "output_type": "execute_result"
    }
   ],
   "source": [
    "mapped_data = X.dot(principal_axes)\n",
    "mapped_data"
   ]
  },
  {
   "cell_type": "code",
   "execution_count": 10,
   "metadata": {},
   "outputs": [
    {
     "data": {
      "text/plain": [
       "array([[-4.6372361 , -1.96303696],\n",
       "       [ 3.52888393,  1.26500279],\n",
       "       [-3.06217396,  3.54943286],\n",
       "       [ 1.12200272, -3.11152777],\n",
       "       [ 3.04852341,  0.26012909]])"
      ]
     },
     "execution_count": 10,
     "metadata": {},
     "output_type": "execute_result"
    }
   ],
   "source": [
    "mapped_data_reduced = X.dot(principal_axes[:, :2])\n",
    "mapped_data_reduced"
   ]
  },
  {
   "cell_type": "code",
   "execution_count": 11,
   "metadata": {},
   "outputs": [
    {
     "name": "stdout",
     "output_type": "stream",
     "text": [
      "[-4.6372361   3.52888393 -3.06217396  1.12200272  3.04852341]\n",
      "[-1.96303696  1.26500279  3.54943286 -3.11152777  0.26012909]\n"
     ]
    }
   ],
   "source": [
    "# 새로운 변수 z1 과 z2 (5개의 데이터에대한 각각의 dimension component를 갖고있는 vector)\n",
    "z1 = mapped_data_reduced[:,0]\n",
    "z2 = mapped_data_reduced[:,1]\n",
    "print(z1)\n",
    "print(z2)"
   ]
  },
  {
   "cell_type": "markdown",
   "metadata": {},
   "source": [
    "### example 2"
   ]
  },
  {
   "cell_type": "code",
   "execution_count": 12,
   "metadata": {},
   "outputs": [],
   "source": [
    "n = 4 \n",
    "d = 2"
   ]
  },
  {
   "cell_type": "code",
   "execution_count": 13,
   "metadata": {},
   "outputs": [
    {
     "data": {
      "text/plain": [
       "array([[ 0., -2.],\n",
       "       [ 3., -3.],\n",
       "       [ 2.,  0.],\n",
       "       [-1.,  1.]])"
      ]
     },
     "execution_count": 13,
     "metadata": {},
     "output_type": "execute_result"
    }
   ],
   "source": [
    "X = np.array([[0,-2],[3,-3],[2,0],[-1,1]]).astype('float64')\n",
    "X"
   ]
  },
  {
   "cell_type": "code",
   "execution_count": 14,
   "metadata": {},
   "outputs": [
    {
     "data": {
      "text/plain": [
       "array([[-1., -1.],\n",
       "       [ 2., -2.],\n",
       "       [ 1.,  1.],\n",
       "       [-2.,  2.]])"
      ]
     },
     "execution_count": 14,
     "metadata": {},
     "output_type": "execute_result"
    }
   ],
   "source": [
    "# 각 row마다 빼진다. 알아서 broadcasting 되어 계산됨\n",
    "X -= np.mean(X, axis=0)\n",
    "X"
   ]
  },
  {
   "cell_type": "markdown",
   "metadata": {},
   "source": [
    "$$ C =Σ=cov(X)= X^T X/(n−1) $$"
   ]
  },
  {
   "cell_type": "code",
   "execution_count": 15,
   "metadata": {},
   "outputs": [
    {
     "name": "stdout",
     "output_type": "stream",
     "text": [
      "[[ 3.33333333 -2.        ]\n",
      " [-2.          3.33333333]]\n",
      "[[10. -6.]\n",
      " [-6. 10.]]\n"
     ]
    },
    {
     "data": {
      "text/plain": [
       "array([[10., -6.],\n",
       "       [-6., 10.]])"
      ]
     },
     "execution_count": 15,
     "metadata": {},
     "output_type": "execute_result"
    }
   ],
   "source": [
    "C = np.cov(X, rowvar=False)\n",
    "print(C)\n",
    "print(C*(n-1))\n",
    "np.matmul(X.T,X)"
   ]
  },
  {
   "cell_type": "code",
   "execution_count": 16,
   "metadata": {},
   "outputs": [
    {
     "name": "stdout",
     "output_type": "stream",
     "text": [
      "[5.33333333 1.33333333]\n",
      "[[ 0.70710678  0.70710678]\n",
      " [-0.70710678  0.70710678]]\n"
     ]
    }
   ],
   "source": [
    "l, principal_axes = la.eig(C)\n",
    "print(l)\n",
    "print(principal_axes)"
   ]
  },
  {
   "cell_type": "code",
   "execution_count": 17,
   "metadata": {},
   "outputs": [
    {
     "name": "stdout",
     "output_type": "stream",
     "text": [
      "[5.33333333 1.33333333]\n",
      "[[ 0.70710678  0.70710678]\n",
      " [-0.70710678  0.70710678]]\n"
     ]
    }
   ],
   "source": [
    "idx = l.argsort()[::-1]\n",
    "l, principal_axes = l[idx], principal_axes[:, idx]\n",
    "print(l)\n",
    "print(principal_axes)"
   ]
  },
  {
   "cell_type": "code",
   "execution_count": 18,
   "metadata": {},
   "outputs": [
    {
     "data": {
      "text/plain": [
       "array([[-2.22044605e-16, -1.41421356e+00],\n",
       "       [ 2.82842712e+00, -4.44089210e-16],\n",
       "       [ 2.22044605e-16,  1.41421356e+00],\n",
       "       [-2.82842712e+00,  4.44089210e-16]])"
      ]
     },
     "execution_count": 18,
     "metadata": {},
     "output_type": "execute_result"
    }
   ],
   "source": [
    "mapped_data = X.dot(principal_axes)\n",
    "mapped_data"
   ]
  },
  {
   "cell_type": "markdown",
   "metadata": {},
   "source": [
    "# SVD\n",
    "<reference> \n",
    "<br> https://www.fun-coding.org/recommend_basic6.html\n",
    "<br> https://en.wikipedia.org/wiki/Eigendecomposition_of_a_matrix\n",
    "<br> https://twlab.tistory.com/54\n",
    "$$ R=UΣV^T $$\n",
    "* note that $RR^T$ 또는 $R^TR$은 symmetric matrix이므로, eigen decomposition이 가능 \n",
    "* U는 $RR^T$ 즉, $R$의 공분산 행렬의 고유벡터\n",
    "* V는 $R^TR$ 즉, $R^T$의 공분산 행렬의 고유벡터\n",
    "* $ΣΣ^T$ 또는 $Σ^TΣ=λ$ \n",
    "  따라서, singular value (특이값) $σ = \\sqrt{λ}$\n",
    "    \n",
    "> approach: \n",
    "  $RR^T$ 또는 $R^TR$ 은 symmetric square matrix 이므로 eigen decomposition이 가능하고,\n",
    "  <br>이것을 이용하여, U, V, λ 를 구한다."
   ]
  },
  {
   "cell_type": "markdown",
   "metadata": {},
   "source": [
    "### example"
   ]
  },
  {
   "cell_type": "code",
   "execution_count": 19,
   "metadata": {},
   "outputs": [
    {
     "name": "stdout",
     "output_type": "stream",
     "text": [
      "* 원본 data\n",
      "[[6. 3. 1.]\n",
      " [5. 3. 6.]\n",
      " [9. 5. 1.]\n",
      " [4. 8. 5.]\n",
      " [2. 8. 0.]]\n"
     ]
    }
   ],
   "source": [
    "user, item = 5, 3\n",
    "R = np.random.randint(10, size = (user, item)).astype('float')\n",
    "# user, item = 4, 2\n",
    "# R = np.array([[2,3],[1,4],[0,0],[0,0]]).astype('float')\n",
    "# R = np.array([[1,0,0,0,0],[0,0,2,0,3],[0,0,0,0,0],[0,2,0,0,0]])\n",
    "print(\"* 원본 data\")\n",
    "print(R)\n",
    "# print(\"* 각 dimension 별 평균\")\n",
    "# print(np.mean(R, axis=0))\n",
    "# R -= np.mean(R, axis=0)\n",
    "# print(R)"
   ]
  },
  {
   "cell_type": "code",
   "execution_count": 20,
   "metadata": {},
   "outputs": [
    {
     "name": "stdout",
     "output_type": "stream",
     "text": [
      "[18.03587182  6.3637499   5.49636379]\n",
      "[[-0.34927953  0.3327991  -0.2461382 ]\n",
      " [-0.40524893  0.28764483  0.66170424]\n",
      " [-0.53347738  0.4367289  -0.47087212]\n",
      " [-0.538336   -0.39505085  0.38198955]\n",
      " [-0.37332741 -0.67801763 -0.36596028]]\n",
      "[[-0.65553898  0.69602675 -0.29294266]\n",
      " [-0.67777592 -0.71334852 -0.17819569]\n",
      " [-0.33299918  0.08173526  0.93937793]]\n",
      "[[18.03587182  0.          0.        ]\n",
      " [ 0.          6.3637499   0.        ]\n",
      " [ 0.          0.          5.49636379]]\n"
     ]
    }
   ],
   "source": [
    "# we now perform singular value decomposition of X\n",
    "# \"economy size\" (or \"thin\") SVD\n",
    "# U, s, Vt = la.svd(R, full_matrices=True)\n",
    "U, s, Vt = la.svd(R, full_matrices=False)\n",
    "V = Vt.T\n",
    "print(s)\n",
    "S = np.diag(s)\n",
    "print(U)\n",
    "print(V)\n",
    "print(S)"
   ]
  },
  {
   "cell_type": "code",
   "execution_count": 21,
   "metadata": {},
   "outputs": [
    {
     "data": {
      "text/plain": [
       "array([[6., 3., 1.],\n",
       "       [5., 3., 6.],\n",
       "       [9., 5., 1.],\n",
       "       [4., 8., 5.],\n",
       "       [2., 8., 0.]])"
      ]
     },
     "execution_count": 21,
     "metadata": {},
     "output_type": "execute_result"
    }
   ],
   "source": [
    "R"
   ]
  },
  {
   "cell_type": "code",
   "execution_count": 22,
   "metadata": {},
   "outputs": [
    {
     "data": {
      "text/plain": [
       "array([[ 6.00000000e+00,  3.00000000e+00,  1.00000000e+00],\n",
       "       [ 5.00000000e+00,  3.00000000e+00,  6.00000000e+00],\n",
       "       [ 9.00000000e+00,  5.00000000e+00,  1.00000000e+00],\n",
       "       [ 4.00000000e+00,  8.00000000e+00,  5.00000000e+00],\n",
       "       [ 2.00000000e+00,  8.00000000e+00, -2.03475917e-15]])"
      ]
     },
     "execution_count": 22,
     "metadata": {},
     "output_type": "execute_result"
    }
   ],
   "source": [
    "np.matmul(np.matmul(U, S), V.T)"
   ]
  },
  {
   "cell_type": "markdown",
   "metadata": {},
   "source": [
    "Trancated SVD(즉 dimensionality reductino을 함): "
   ]
  },
  {
   "cell_type": "code",
   "execution_count": 23,
   "metadata": {},
   "outputs": [
    {
     "data": {
      "text/plain": [
       "array([[5.6036881 , 2.75892527, 2.27085161],\n",
       "       [6.06542285, 3.64809187, 2.58351327],\n",
       "       [8.24183966, 4.53881451, 3.43118941],\n",
       "       [4.61504879, 8.37413138, 3.02772577],\n",
       "       [1.41076025, 7.64156814, 1.88951251]])"
      ]
     },
     "execution_count": 23,
     "metadata": {},
     "output_type": "execute_result"
    }
   ],
   "source": [
    "# d = 2 \n",
    "np.matmul(np.matmul(U[:,:2], S[:2,:2]), V.T[:2,:])"
   ]
  },
  {
   "cell_type": "markdown",
   "metadata": {},
   "source": [
    "### numerical 하게 계산해봤다"
   ]
  },
  {
   "cell_type": "code",
   "execution_count": 24,
   "metadata": {},
   "outputs": [
    {
     "name": "stdout",
     "output_type": "stream",
     "text": [
      "[[162. 126.  65.]\n",
      " [126. 171.  66.]\n",
      " [ 65.  66.  63.]]\n",
      "[[ 46.  45.  70.  53.  36.]\n",
      " [ 45.  70.  66.  74.  34.]\n",
      " [ 70.  66. 107.  81.  58.]\n",
      " [ 53.  74.  81. 105.  72.]\n",
      " [ 36.  34.  58.  72.  68.]]\n"
     ]
    }
   ],
   "source": [
    "print(np.matmul(R.T, R))\n",
    "print(np.matmul(R, R.T))\n",
    "C1 = np.matmul(R.T, R)\n",
    "C2 = np.matmul(R, R.T)"
   ]
  },
  {
   "cell_type": "code",
   "execution_count": 25,
   "metadata": {},
   "outputs": [
    {
     "name": "stdout",
     "output_type": "stream",
     "text": [
      "eigenvalues = \n",
      " [325.29267231  40.49731276  30.21001494]\n",
      "eigenvectors, which is same with V = \n",
      " [[-0.65553898 -0.69602675 -0.29294266]\n",
      " [-0.67777592  0.71334852 -0.17819569]\n",
      " [-0.33299918 -0.08173526  0.93937793]]\n"
     ]
    }
   ],
   "source": [
    "# # C1 is a symmetric matrix and so it can be diagonalized:\n",
    "l, principal_axes = la.eig(C1)\n",
    "# sort results wrt. eigenvalues\n",
    "idx = l.argsort()[::-1]\n",
    "l, principal_axes = l[idx], principal_axes[:, idx]\n",
    "# the eigenvalues in decreasing order\n",
    "print (\"eigenvalues = \\n\", l)\n",
    "# a matrix of eigenvectors (each column is an eigenvector)\n",
    "V = principal_axes\n",
    "print (\"eigenvectors, which is same with V = \\n\", V)\n",
    "# principal_components = R.dot(principal_axes)\n",
    "# print (\"principal_components = \\n\", principal_components)"
   ]
  },
  {
   "cell_type": "markdown",
   "metadata": {},
   "source": [
    "$R = U\\sum V^T$ 양변에 오른쪽에 $V$ 를 곱하면, \n",
    "<br> $RV = U\\sum = [s_1 U_1, s_2 U_2,  ... ,s_r U_r] $ 인데 각 column마다 대응되는 singular value 를 나누어주면 \n",
    "$U$ 를 구할 수 있다\n"
   ]
  },
  {
   "cell_type": "code",
   "execution_count": 26,
   "metadata": {},
   "outputs": [
    {
     "name": "stdout",
     "output_type": "stream",
     "text": [
      "[18.03587182  6.3637499   5.49636379]\n",
      "[[-0.34927953 -0.3327991  -0.2461382 ]\n",
      " [-0.40524893 -0.28764483  0.66170424]\n",
      " [-0.53347738 -0.4367289  -0.47087212]\n",
      " [-0.538336    0.39505085  0.38198955]\n",
      " [-0.37332741  0.67801763 -0.36596028]]\n"
     ]
    }
   ],
   "source": [
    "singulars = np.sqrt(l)\n",
    "print(singulars)\n",
    "U = np.matmul(R, V)\n",
    "# print(U)\n",
    "for i, sing in enumerate(singulars):\n",
    "    U[:,i] = U[:,i]/sing\n",
    "print(U)"
   ]
  },
  {
   "cell_type": "code",
   "execution_count": 27,
   "metadata": {},
   "outputs": [
    {
     "data": {
      "text/plain": [
       "array([[18.03587182,  0.        ,  0.        ],\n",
       "       [ 0.        ,  6.3637499 ,  0.        ],\n",
       "       [ 0.        ,  0.        ,  5.49636379]])"
      ]
     },
     "execution_count": 27,
     "metadata": {},
     "output_type": "execute_result"
    }
   ],
   "source": [
    "S = np.diag(singulars)\n",
    "S"
   ]
  },
  {
   "cell_type": "code",
   "execution_count": 28,
   "metadata": {},
   "outputs": [
    {
     "data": {
      "text/plain": [
       "array([[6., 3., 1.],\n",
       "       [5., 3., 6.],\n",
       "       [9., 5., 1.],\n",
       "       [4., 8., 5.],\n",
       "       [2., 8., 0.]])"
      ]
     },
     "execution_count": 28,
     "metadata": {},
     "output_type": "execute_result"
    }
   ],
   "source": [
    "R"
   ]
  },
  {
   "cell_type": "code",
   "execution_count": 29,
   "metadata": {},
   "outputs": [
    {
     "data": {
      "text/plain": [
       "array([[ 6.00000000e+00,  3.00000000e+00,  1.00000000e+00],\n",
       "       [ 5.00000000e+00,  3.00000000e+00,  6.00000000e+00],\n",
       "       [ 9.00000000e+00,  5.00000000e+00,  1.00000000e+00],\n",
       "       [ 4.00000000e+00,  8.00000000e+00,  5.00000000e+00],\n",
       "       [ 2.00000000e+00,  8.00000000e+00, -7.12820696e-15]])"
      ]
     },
     "execution_count": 29,
     "metadata": {},
     "output_type": "execute_result"
    }
   ],
   "source": [
    "np.matmul(np.matmul(U, S), V.T)"
   ]
  },
  {
   "cell_type": "markdown",
   "metadata": {},
   "source": [
    "일반적으로, 어떤 rating matrix R을 가지고, 추정한 SVD값과의 RMSE는 최소가 됨이 증명 되어있다. \n",
    "<br>하지만, R에 missing value 가 있을 때에는 SVD를 구할수 없어 prediction 된 U, S, V를 찾아야한다. \n",
    "따라서, 이 predication된 SVD 는 latent factor 모델을 이용한 추천시스템에 사용된다. "
   ]
  }
 ],
 "metadata": {
  "kernelspec": {
   "display_name": "Python 3",
   "language": "python",
   "name": "python3"
  },
  "language_info": {
   "codemirror_mode": {
    "name": "ipython",
    "version": 3
   },
   "file_extension": ".py",
   "mimetype": "text/x-python",
   "name": "python",
   "nbconvert_exporter": "python",
   "pygments_lexer": "ipython3",
   "version": "3.5.2"
  }
 },
 "nbformat": 4,
 "nbformat_minor": 2
}
