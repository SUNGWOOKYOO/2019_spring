{
 "cells": [
  {
   "cell_type": "markdown",
   "metadata": {},
   "source": [
    "### Q1"
   ]
  },
  {
   "cell_type": "code",
   "execution_count": 53,
   "metadata": {},
   "outputs": [],
   "source": [
    "import math\n",
    "import numpy"
   ]
  },
  {
   "cell_type": "code",
   "execution_count": 8,
   "metadata": {},
   "outputs": [
    {
     "name": "stdout",
     "output_type": "stream",
     "text": [
      "9\n"
     ]
    }
   ],
   "source": [
    "points = [1,4,9,16,25,36,49,64,81]\n",
    "n = len(points)\n",
    "print(n)"
   ]
  },
  {
   "cell_type": "code",
   "execution_count": 6,
   "metadata": {},
   "outputs": [
    {
     "name": "stdout",
     "output_type": "stream",
     "text": [
      "3 8 15 24 35 48 63 80 \n",
      "5 12 21 32 45 60 77 \n",
      "7 16 27 40 55 72 \n",
      "9 20 33 48 65 \n",
      "11 24 39 56 \n",
      "13 28 45 \n",
      "15 32 \n",
      "17 \n",
      "\n"
     ]
    }
   ],
   "source": [
    "for i in range(n):\n",
    "    for j in range(i+1,n):\n",
    "        print(abs(points[i] - points[j]), end = \" \")\n",
    "    print()"
   ]
  },
  {
   "cell_type": "code",
   "execution_count": 11,
   "metadata": {},
   "outputs": [
    {
     "name": "stdout",
     "output_type": "stream",
     "text": [
      "6.5 13.5 22.5 33.5 46.5 61.5 78.5 \n",
      "7 16 27 40 55 72 \n",
      "9 20 33 48 65 \n",
      "11 24 39 56 \n",
      "13 28 45 \n",
      "15 32 \n",
      "17 \n",
      "\n"
     ]
    }
   ],
   "source": [
    "points = [2.5,9,16,25,36,49,64,81]\n",
    "for i in range(len(points)):\n",
    "    for j in range(i+1,len(points)):\n",
    "        print(abs(points[i] - points[j]), end = \" \")\n",
    "    print()"
   ]
  },
  {
   "cell_type": "code",
   "execution_count": 13,
   "metadata": {},
   "outputs": [
    {
     "name": "stdout",
     "output_type": "stream",
     "text": [
      "10.25 19.25 30.25 43.25 58.25 75.25 \n",
      "9 20 33 48 65 \n",
      "11 24 39 56 \n",
      "13 28 45 \n",
      "15 32 \n",
      "17 \n",
      "\n"
     ]
    }
   ],
   "source": [
    "points = [5.75,16,25,36,49,64,81]\n",
    "for i in range(len(points)):\n",
    "    for j in range(i+1,len(points)):\n",
    "        print(abs(points[i] - points[j]), end = \" \")\n",
    "    print()"
   ]
  },
  {
   "cell_type": "code",
   "execution_count": 15,
   "metadata": {},
   "outputs": [
    {
     "data": {
      "text/plain": [
       "20.5"
      ]
     },
     "execution_count": 15,
     "metadata": {},
     "output_type": "execute_result"
    }
   ],
   "source": [
    "16 + 9/2"
   ]
  },
  {
   "cell_type": "code",
   "execution_count": 14,
   "metadata": {},
   "outputs": [
    {
     "name": "stdout",
     "output_type": "stream",
     "text": [
      "14.75 30.25 43.25 58.25 75.25 \n",
      "15.5 28.5 43.5 60.5 \n",
      "13 28 45 \n",
      "15 32 \n",
      "17 \n",
      "\n"
     ]
    }
   ],
   "source": [
    "points = [5.75,20.5,36,49,64,81]\n",
    "for i in range(len(points)):\n",
    "    for j in range(i+1,len(points)):\n",
    "        print(abs(points[i] - points[j]), end = \" \")\n",
    "    print()"
   ]
  },
  {
   "cell_type": "code",
   "execution_count": 16,
   "metadata": {},
   "outputs": [
    {
     "data": {
      "text/plain": [
       "42.5"
      ]
     },
     "execution_count": 16,
     "metadata": {},
     "output_type": "execute_result"
    }
   ],
   "source": [
    "36 + 13/2"
   ]
  },
  {
   "cell_type": "code",
   "execution_count": 17,
   "metadata": {},
   "outputs": [
    {
     "name": "stdout",
     "output_type": "stream",
     "text": [
      "14.75 36.75 58.25 75.25 \n",
      "22.0 43.5 60.5 \n",
      "21.5 38.5 \n",
      "17 \n",
      "\n"
     ]
    }
   ],
   "source": [
    "points = [5.75,20.5,42.5,64,81]\n",
    "for i in range(len(points)):\n",
    "    for j in range(i+1,len(points)):\n",
    "        print(abs(points[i] - points[j]), end = \" \")\n",
    "    print()"
   ]
  },
  {
   "cell_type": "code",
   "execution_count": 18,
   "metadata": {},
   "outputs": [
    {
     "data": {
      "text/plain": [
       "13.125"
      ]
     },
     "execution_count": 18,
     "metadata": {},
     "output_type": "execute_result"
    }
   ],
   "source": [
    "5.75 + 14.75/2"
   ]
  },
  {
   "cell_type": "code",
   "execution_count": 19,
   "metadata": {},
   "outputs": [
    {
     "name": "stdout",
     "output_type": "stream",
     "text": [
      "29.375 50.875 67.875 \n",
      "21.5 38.5 \n",
      "17 \n",
      "\n"
     ]
    }
   ],
   "source": [
    "points = [13.125,42.5,64,81]\n",
    "for i in range(len(points)):\n",
    "    for j in range(i+1,len(points)):\n",
    "        print(abs(points[i] - points[j]), end = \" \")\n",
    "    print()"
   ]
  },
  {
   "cell_type": "code",
   "execution_count": 20,
   "metadata": {},
   "outputs": [
    {
     "data": {
      "text/plain": [
       "72.5"
      ]
     },
     "execution_count": 20,
     "metadata": {},
     "output_type": "execute_result"
    }
   ],
   "source": [
    "64 + 17/2"
   ]
  },
  {
   "cell_type": "code",
   "execution_count": 21,
   "metadata": {},
   "outputs": [
    {
     "name": "stdout",
     "output_type": "stream",
     "text": [
      "29.375 59.375 \n",
      "30.0 \n",
      "\n"
     ]
    }
   ],
   "source": [
    "points = [13.125,42.5,72.5]\n",
    "for i in range(len(points)):\n",
    "    for j in range(i+1,len(points)):\n",
    "        print(abs(points[i] - points[j]), end = \" \")\n",
    "    print()"
   ]
  },
  {
   "cell_type": "code",
   "execution_count": 22,
   "metadata": {},
   "outputs": [
    {
     "data": {
      "text/plain": [
       "27.8125"
      ]
     },
     "execution_count": 22,
     "metadata": {},
     "output_type": "execute_result"
    }
   ],
   "source": [
    "13.125 + 29.375/2"
   ]
  },
  {
   "cell_type": "code",
   "execution_count": 23,
   "metadata": {},
   "outputs": [
    {
     "name": "stdout",
     "output_type": "stream",
     "text": [
      "44.6875 \n",
      "\n"
     ]
    }
   ],
   "source": [
    "points = [27.8125,72.5]\n",
    "for i in range(len(points)):\n",
    "    for j in range(i+1,len(points)):\n",
    "        print(abs(points[i] - points[j]), end = \" \")\n",
    "    print()"
   ]
  },
  {
   "cell_type": "code",
   "execution_count": 24,
   "metadata": {},
   "outputs": [
    {
     "data": {
      "text/plain": [
       "50.15625"
      ]
     },
     "execution_count": 24,
     "metadata": {},
     "output_type": "execute_result"
    }
   ],
   "source": [
    "27.8125 + 44.6875/2"
   ]
  },
  {
   "cell_type": "code",
   "execution_count": 47,
   "metadata": {},
   "outputs": [],
   "source": [
    "def distance(points, i, j):\n",
    "    return math.sqrt((points[i][0] - points[j][0])**2  + (points[i][1] - points[j][1])**2) "
   ]
  },
  {
   "cell_type": "code",
   "execution_count": 48,
   "metadata": {},
   "outputs": [],
   "source": [
    "points = [(2,2),(3,4),(5,2),(4,8),(4,10),(6,8),(7,10),(11,4),(12,3),(10,5),(9,3),(12,6)]"
   ]
  },
  {
   "cell_type": "code",
   "execution_count": 82,
   "metadata": {},
   "outputs": [],
   "source": [
    "n = len(points)\n",
    "d = numpy.zeros((n,n))"
   ]
  },
  {
   "cell_type": "code",
   "execution_count": 109,
   "metadata": {},
   "outputs": [],
   "source": [
    "for i in range(len(points)):\n",
    "    for j in range(len(points)):\n",
    "        d[i][j] = distance(points, i, j)"
   ]
  },
  {
   "cell_type": "code",
   "execution_count": 104,
   "metadata": {},
   "outputs": [
    {
     "data": {
      "text/plain": [
       "array([1, 0, 1, 4, 3, 3, 5, 8, 7, 7, 7, 7], dtype=int64)"
      ]
     },
     "execution_count": 104,
     "metadata": {},
     "output_type": "execute_result"
    }
   ],
   "source": [
    "numpy.argmin(d, axis = 1)"
   ]
  },
  {
   "cell_type": "code",
   "execution_count": 112,
   "metadata": {},
   "outputs": [
    {
     "name": "stdout",
     "output_type": "stream",
     "text": [
      "[[ 0.          2.23606798  3.          6.32455532  8.24621125  7.21110255\n",
      "   9.43398113  9.21954446 10.04987562  8.54400375  7.07106781 10.77032961]\n",
      " [ 2.23606798  0.          2.82842712  4.12310563  6.08276253  5.\n",
      "   7.21110255  8.          9.05538514  7.07106781  6.08276253  9.21954446]\n",
      " [ 3.          2.82842712  0.          6.08276253  8.06225775  6.08276253\n",
      "   8.24621125  6.32455532  7.07106781  5.83095189  4.12310563  8.06225775]\n",
      " [ 6.32455532  4.12310563  6.08276253  0.          2.          2.\n",
      "   3.60555128  8.06225775  9.43398113  6.70820393  7.07106781  8.24621125]\n",
      " [ 8.24621125  6.08276253  8.06225775  2.          0.          2.82842712\n",
      "   3.          9.21954446 10.63014581  7.81024968  8.60232527  8.94427191]\n",
      " [ 7.21110255  5.          6.08276253  2.          2.82842712  0.\n",
      "   2.23606798  6.40312424  7.81024968  5.          5.83095189  6.32455532]\n",
      " [ 9.43398113  7.21110255  8.24621125  3.60555128  3.          2.23606798\n",
      "   0.          7.21110255  8.60232527  5.83095189  7.28010989  6.40312424]\n",
      " [ 9.21954446  8.          6.32455532  8.06225775  9.21954446  6.40312424\n",
      "   7.21110255  0.          1.41421356  1.41421356  2.23606798  2.23606798]\n",
      " [10.04987562  9.05538514  7.07106781  9.43398113 10.63014581  7.81024968\n",
      "   8.60232527  1.41421356  0.          2.82842712  3.          3.        ]\n",
      " [ 8.54400375  7.07106781  5.83095189  6.70820393  7.81024968  5.\n",
      "   5.83095189  1.41421356  2.82842712  0.          2.23606798  2.23606798]\n",
      " [ 7.07106781  6.08276253  4.12310563  7.07106781  8.60232527  5.83095189\n",
      "   7.28010989  2.23606798  3.          2.23606798  0.          4.24264069]\n",
      " [10.77032961  9.21954446  8.06225775  8.24621125  8.94427191  6.32455532\n",
      "   6.40312424  2.23606798  3.          2.23606798  4.24264069  0.        ]]\n"
     ]
    }
   ],
   "source": [
    "print(d)"
   ]
  },
  {
   "cell_type": "code",
   "execution_count": 99,
   "metadata": {},
   "outputs": [
    {
     "name": "stdout",
     "output_type": "stream",
     "text": [
      "1\n",
      "0\n",
      "1\n",
      "4\n",
      "3\n",
      "3\n",
      "5\n",
      "8\n",
      "7\n",
      "7\n",
      "7\n",
      "7\n"
     ]
    }
   ],
   "source": [
    "for j in range(len(points)):\n",
    "    for i in numpy.argmin(d, axis = 0):\n",
    "        print(p[i][j])"
   ]
  },
  {
   "cell_type": "code",
   "execution_count": 67,
   "metadata": {},
   "outputs": [],
   "source": [
    "tmp = numpy.array(tmp)"
   ]
  },
  {
   "cell_type": "code",
   "execution_count": 61,
   "metadata": {},
   "outputs": [
    {
     "name": "stdout",
     "output_type": "stream",
     "text": [
      "[ 2.23606798  3.          6.32455532  8.24621125  7.21110255  9.43398113\n",
      "  9.21954446 10.04987562  8.54400375  7.07106781 10.77032961]\n"
     ]
    },
    {
     "data": {
      "text/plain": [
       "0"
      ]
     },
     "execution_count": 61,
     "metadata": {},
     "output_type": "execute_result"
    }
   ],
   "source": [
    "numpy.argmin(p[0])"
   ]
  },
  {
   "cell_type": "code",
   "execution_count": 107,
   "metadata": {},
   "outputs": [
    {
     "data": {
      "text/plain": [
       "2.0"
      ]
     },
     "execution_count": 107,
     "metadata": {},
     "output_type": "execute_result"
    }
   ],
   "source": [
    "distance(points, 3, 4)"
   ]
  }
 ],
 "metadata": {
  "kernelspec": {
   "display_name": "Python 3",
   "language": "python",
   "name": "python3"
  },
  "language_info": {
   "codemirror_mode": {
    "name": "ipython",
    "version": 3
   },
   "file_extension": ".py",
   "mimetype": "text/x-python",
   "name": "python",
   "nbconvert_exporter": "python",
   "pygments_lexer": "ipython3",
   "version": "3.7.1"
  }
 },
 "nbformat": 4,
 "nbformat_minor": 2
}
