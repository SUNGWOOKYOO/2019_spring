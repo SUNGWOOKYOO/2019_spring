{
 "cells": [
  {
   "cell_type": "code",
   "execution_count": 1,
   "metadata": {},
   "outputs": [],
   "source": [
    "def hash1(x):\n",
    "    return (9*x+7)%32\n",
    "def hash2(x):\n",
    "    return (5*x+11)%32\n",
    "def hash3(x):\n",
    "    return (3*x+13)%32"
   ]
  },
  {
   "cell_type": "code",
   "execution_count": 2,
   "metadata": {},
   "outputs": [
    {
     "name": "stdout",
     "output_type": "stream",
     "text": [
      "[16, 6, 24, 20, 1, 24, 13, 12, 19, 0]\n",
      "[16, 14, 24, 4, 29, 24, 25, 28, 7, 0]\n",
      "[16, 2, 8, 28, 11, 8, 15, 4, 17, 0]\n",
      "['10000', '110', '11000', '10100', '1', '11000', '1101', '1100', '10011', '0']\n",
      "['10000', '1110', '11000', '100', '11101', '11000', '11001', '11100', '111', '0']\n",
      "['10000', '10', '1000', '11100', '1011', '1000', '1111', '100', '10001', '0']\n"
     ]
    }
   ],
   "source": [
    "x = [1, 7, 9, 5,10,9,22,29,12,17]\n",
    "h1_decimal = []\n",
    "h2_decimal = []\n",
    "h3_decimal = []\n",
    "h1_binary = []\n",
    "h2_binary = []\n",
    "h3_binary = []\n",
    "for x in x:\n",
    "    h1_decimal.append(hash1(x))\n",
    "    h2_decimal.append(hash2(x))\n",
    "    h3_decimal.append(hash3(x))\n",
    "    h1_binary.append(format(hash1(x), \"b\"))\n",
    "    h2_binary.append(format(hash2(x), \"b\"))\n",
    "    h3_binary.append(format(hash3(x), \"b\"))\n",
    "print(h1_decimal)\n",
    "print(h2_decimal)\n",
    "print(h3_decimal)\n",
    "print(h1_binary)\n",
    "print(h2_binary)\n",
    "print(h3_binary)"
   ]
  },
  {
   "cell_type": "code",
   "execution_count": 3,
   "metadata": {},
   "outputs": [],
   "source": [
    "def find_max_trailing_zero(h_binary):\n",
    "    max_trailing_zero = 0\n",
    "    for s in h_binary:\n",
    "        trailing_zero = 0\n",
    "        for e in reversed(s):\n",
    "#             print(e,end=\"\")\n",
    "            if e == '1':\n",
    "                break;\n",
    "            trailing_zero += 1\n",
    "#         print(\": trailing_zero = \",trailing_zero)\n",
    "        max_trailing_zero = max(max_trailing_zero, trailing_zero)\n",
    "    return max_trailing_zero"
   ]
  },
  {
   "cell_type": "code",
   "execution_count": 4,
   "metadata": {},
   "outputs": [],
   "source": [
    "def find_max_trailing_zero(h_binary):\n",
    "    max_trailing_zero = 0\n",
    "    for s in h_binary:\n",
    "        trailing_zero = 0\n",
    "        for e in s:\n",
    "#             print(e,end=\"\")\n",
    "            if e == '0':\n",
    "                break;\n",
    "            trailing_zero += 1\n",
    "#         print(\": trailing_zero = \",trailing_zero)\n",
    "        max_trailing_zero = max(max_trailing_zero, trailing_zero)\n",
    "    return max_trailing_zero"
   ]
  },
  {
   "cell_type": "code",
   "execution_count": 5,
   "metadata": {},
   "outputs": [
    {
     "name": "stdout",
     "output_type": "stream",
     "text": [
      "\t>> max_trailing_zero (R) =  2\n",
      "\t>> max_trailing_zero (R) =  3\n",
      "\t>> max_trailing_zero (R) =  4\n"
     ]
    }
   ],
   "source": [
    "print(\"\\t>> max_trailing_zero (R) = \",find_max_trailing_zero(h1_binary))\n",
    "print(\"\\t>> max_trailing_zero (R) = \",find_max_trailing_zero(h2_binary))\n",
    "print(\"\\t>> max_trailing_zero (R) = \",find_max_trailing_zero(h3_binary))"
   ]
  },
  {
   "cell_type": "code",
   "execution_count": 6,
   "metadata": {},
   "outputs": [
    {
     "data": {
      "text/plain": [
       "10.34246486793965"
      ]
     },
     "execution_count": 6,
     "metadata": {},
     "output_type": "execute_result"
    }
   ],
   "source": [
    "R1 = find_max_trailing_zero(h1_binary)\n",
    "R2 = find_max_trailing_zero(h2_binary)\n",
    "R3 = find_max_trailing_zero(h3_binary)\n",
    "R_list = [R1, R2, R3]\n",
    "average_R = sum(R_list) / len(R_list)\n",
    "pow(2, average_R)/0.77351"
   ]
  },
  {
   "cell_type": "code",
   "execution_count": 16,
   "metadata": {},
   "outputs": [],
   "source": [
    "def getweight(delta_list):\n",
    "    print(delta_list)\n",
    "    for idx, delta in enumerate(delta_list):\n",
    "        if delta == 1:\n",
    "            start_point = idx + 1 \n",
    "            break\n",
    "    for t in range(start_point,len(delta_list) + 1):\n",
    "        cal_list = [value*pow(1 - 0.25,t - (idx + 1)) for idx, value in enumerate(delta_list)][:t]\n",
    "        print(\"at time t=\",t , end = \"\\t\")\n",
    "#         print(cal_list)\n",
    "        print(\"weight = {:.3f}\".format(sum(cal_list)))\n",
    "        if sum(cal_list) < 0.5:\n",
    "            print(\"\\t removed\")\n",
    "            break"
   ]
  },
  {
   "cell_type": "code",
   "execution_count": 17,
   "metadata": {},
   "outputs": [
    {
     "name": "stdout",
     "output_type": "stream",
     "text": [
      "item A\n",
      "[1, 0, 0, 1, 0, 0, 0, 0, 0, 0]\n",
      "at time t= 1\tweight = 1.000\n",
      "at time t= 2\tweight = 0.750\n",
      "at time t= 3\tweight = 0.562\n",
      "at time t= 4\tweight = 1.422\n",
      "at time t= 5\tweight = 1.066\n",
      "at time t= 6\tweight = 0.800\n",
      "at time t= 7\tweight = 0.600\n",
      "at time t= 8\tweight = 0.450\n",
      "\t removed\n",
      "item B\n",
      "[0, 1, 1, 0, 1, 0, 0, 0, 0, 1]\n",
      "at time t= 2\tweight = 1.000\n",
      "at time t= 3\tweight = 1.750\n",
      "at time t= 4\tweight = 1.312\n",
      "at time t= 5\tweight = 1.984\n",
      "at time t= 6\tweight = 1.488\n",
      "at time t= 7\tweight = 1.116\n",
      "at time t= 8\tweight = 0.837\n",
      "at time t= 9\tweight = 0.628\n",
      "at time t= 10\tweight = 1.471\n",
      "item C\n",
      "[0, 0, 0, 0, 0, 1, 0, 0, 0, 0]\n",
      "at time t= 6\tweight = 1.000\n",
      "at time t= 7\tweight = 0.750\n",
      "at time t= 8\tweight = 0.562\n",
      "at time t= 9\tweight = 0.422\n",
      "\t removed\n",
      "item D\n",
      "[0, 0, 0, 0, 0, 0, 1, 1, 0, 0]\n",
      "at time t= 7\tweight = 1.000\n",
      "at time t= 8\tweight = 1.750\n",
      "at time t= 9\tweight = 1.312\n",
      "at time t= 10\tweight = 0.984\n"
     ]
    }
   ],
   "source": [
    "time_length = 10\n",
    "delta_list = [0]*time_length\n",
    "\n",
    "print(\"item A\")\n",
    "for i in [1,4]:\n",
    "    delta_list[i-1] = 1\n",
    "getweight(delta_list)\n",
    "\n",
    "print(\"item B\")\n",
    "delta_list = [0]*time_length\n",
    "for i in [2,3,5,10]:\n",
    "    delta_list[i-1] = 1\n",
    "getweight(delta_list)\n",
    "\n",
    "print(\"item C\")\n",
    "delta_list = [0]*time_length\n",
    "for i in [6]:\n",
    "    delta_list[i-1] = 1\n",
    "getweight(delta_list)\n",
    "\n",
    "print(\"item D\")\n",
    "delta_list = [0]*time_length\n",
    "for i in [7,8]:\n",
    "    delta_list[i-1] = 1\n",
    "getweight(delta_list)"
   ]
  }
 ],
 "metadata": {
  "kernelspec": {
   "display_name": "Python 3",
   "language": "python",
   "name": "python3"
  },
  "language_info": {
   "codemirror_mode": {
    "name": "ipython",
    "version": 3
   },
   "file_extension": ".py",
   "mimetype": "text/x-python",
   "name": "python",
   "nbconvert_exporter": "python",
   "pygments_lexer": "ipython3",
   "version": "3.7.1"
  }
 },
 "nbformat": 4,
 "nbformat_minor": 2
}
