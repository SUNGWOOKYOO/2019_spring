{
 "cells": [
  {
   "cell_type": "code",
   "execution_count": 1,
   "metadata": {},
   "outputs": [],
   "source": [
    "def hash1(x):\n",
    "    return (9*x+7)%32\n",
    "def hash2(x):\n",
    "    return (5*x+11)%32\n",
    "def hash3(x):\n",
    "    return (3*x+13)%32"
   ]
  },
  {
   "cell_type": "code",
   "execution_count": 2,
   "metadata": {},
   "outputs": [
    {
     "name": "stdout",
     "output_type": "stream",
     "text": [
      "[16, 6, 24, 20, 1, 24, 13, 12, 19, 0]\n",
      "[16, 14, 24, 4, 29, 24, 25, 28, 7, 0]\n",
      "[16, 2, 8, 28, 11, 8, 15, 4, 17, 0]\n",
      "['10000', '110', '11000', '10100', '1', '11000', '1101', '1100', '10011', '0']\n",
      "['10000', '1110', '11000', '100', '11101', '11000', '11001', '11100', '111', '0']\n",
      "['10000', '10', '1000', '11100', '1011', '1000', '1111', '100', '10001', '0']\n"
     ]
    }
   ],
   "source": [
    "x = [1, 7, 9, 5,10,9,22,29,12,17]\n",
    "h1_decimal = []\n",
    "h2_decimal = []\n",
    "h3_decimal = []\n",
    "h1_binary = []\n",
    "h2_binary = []\n",
    "h3_binary = []\n",
    "for x in x:\n",
    "    h1_decimal.append(hash1(x))\n",
    "    h2_decimal.append(hash2(x))\n",
    "    h3_decimal.append(hash3(x))\n",
    "    h1_binary.append(format(hash1(x), \"b\"))\n",
    "    h2_binary.append(format(hash2(x), \"b\"))\n",
    "    h3_binary.append(format(hash3(x), \"b\"))\n",
    "print(h1_decimal)\n",
    "print(h2_decimal)\n",
    "print(h3_decimal)\n",
    "print(h1_binary)\n",
    "print(h2_binary)\n",
    "print(h3_binary)"
   ]
  },
  {
   "cell_type": "code",
   "execution_count": 3,
   "metadata": {},
   "outputs": [],
   "source": [
    "def find_max_trailing_zero(h_binary):\n",
    "    max_trailing_zero = 0\n",
    "    for s in h_binary:\n",
    "        trailing_zero = 0\n",
    "        for e in reversed(s):\n",
    "#             print(e,end=\"\")\n",
    "            if e == '1':\n",
    "                break;\n",
    "            trailing_zero += 1\n",
    "#         print(\": trailing_zero = \",trailing_zero)\n",
    "        max_trailing_zero = max(max_trailing_zero, trailing_zero)\n",
    "    return max_trailing_zero"
   ]
  },
  {
   "cell_type": "code",
   "execution_count": 4,
   "metadata": {},
   "outputs": [
    {
     "name": "stdout",
     "output_type": "stream",
     "text": [
      "\t>> max_trailing_zero (R) =  4\n",
      "\t>> max_trailing_zero (R) =  4\n",
      "\t>> max_trailing_zero (R) =  4\n"
     ]
    }
   ],
   "source": [
    "print(\"\\t>> max_trailing_zero (R) = \",find_max_trailing_zero(h1_binary))\n",
    "print(\"\\t>> max_trailing_zero (R) = \",find_max_trailing_zero(h2_binary))\n",
    "print(\"\\t>> max_trailing_zero (R) = \",find_max_trailing_zero(h3_binary))"
   ]
  },
  {
   "cell_type": "code",
   "execution_count": 15,
   "metadata": {},
   "outputs": [
    {
     "data": {
      "text/plain": [
       "20.6849297358793"
      ]
     },
     "execution_count": 15,
     "metadata": {},
     "output_type": "execute_result"
    }
   ],
   "source": [
    "R1 = find_max_trailing_zero(h1_binary)\n",
    "R2 = find_max_trailing_zero(h2_binary)\n",
    "R3 = find_max_trailing_zero(h3_binary)\n",
    "R_list = [R1, R2, R3]\n",
    "average_R = sum(R_list) / len(R_list)\n",
    "pow(2, average_R)/0.77351"
   ]
  }
 ],
 "metadata": {
  "kernelspec": {
   "display_name": "Python 3",
   "language": "python",
   "name": "python3"
  },
  "language_info": {
   "codemirror_mode": {
    "name": "ipython",
    "version": 3
   },
   "file_extension": ".py",
   "mimetype": "text/x-python",
   "name": "python",
   "nbconvert_exporter": "python",
   "pygments_lexer": "ipython3",
   "version": "3.7.1"
  }
 },
 "nbformat": 4,
 "nbformat_minor": 2
}
