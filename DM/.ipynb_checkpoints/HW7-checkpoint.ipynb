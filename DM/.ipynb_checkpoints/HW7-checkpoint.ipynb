{
 "cells": [
  {
   "cell_type": "code",
   "execution_count": 1,
   "metadata": {},
   "outputs": [],
   "source": [
    "import pandas as pd\n",
    "import numpy as np\n",
    "from sklearn.metrics.pairwise import cosine_similarity\n",
    "from math import sqrt\n",
    "np.set_printoptions(precision=3)"
   ]
  },
  {
   "cell_type": "markdown",
   "metadata": {},
   "source": [
    "# Q1"
   ]
  },
  {
   "cell_type": "code",
   "execution_count": 2,
   "metadata": {},
   "outputs": [
    {
     "data": {
      "text/html": [
       "<div>\n",
       "<style scoped>\n",
       "    .dataframe tbody tr th:only-of-type {\n",
       "        vertical-align: middle;\n",
       "    }\n",
       "\n",
       "    .dataframe tbody tr th {\n",
       "        vertical-align: top;\n",
       "    }\n",
       "\n",
       "    .dataframe thead th {\n",
       "        text-align: right;\n",
       "    }\n",
       "</style>\n",
       "<table border=\"1\" class=\"dataframe\">\n",
       "  <thead>\n",
       "    <tr style=\"text-align: right;\">\n",
       "      <th></th>\n",
       "      <th>user</th>\n",
       "      <th>item</th>\n",
       "      <th>rating</th>\n",
       "    </tr>\n",
       "  </thead>\n",
       "  <tbody>\n",
       "    <tr>\n",
       "      <th>0</th>\n",
       "      <td>A</td>\n",
       "      <td>a</td>\n",
       "      <td>1</td>\n",
       "    </tr>\n",
       "    <tr>\n",
       "      <th>1</th>\n",
       "      <td>A</td>\n",
       "      <td>b</td>\n",
       "      <td>1</td>\n",
       "    </tr>\n",
       "    <tr>\n",
       "      <th>2</th>\n",
       "      <td>A</td>\n",
       "      <td>d</td>\n",
       "      <td>1</td>\n",
       "    </tr>\n",
       "    <tr>\n",
       "      <th>3</th>\n",
       "      <td>A</td>\n",
       "      <td>e</td>\n",
       "      <td>1</td>\n",
       "    </tr>\n",
       "    <tr>\n",
       "      <th>4</th>\n",
       "      <td>A</td>\n",
       "      <td>g</td>\n",
       "      <td>1</td>\n",
       "    </tr>\n",
       "    <tr>\n",
       "      <th>5</th>\n",
       "      <td>A</td>\n",
       "      <td>h</td>\n",
       "      <td>1</td>\n",
       "    </tr>\n",
       "    <tr>\n",
       "      <th>6</th>\n",
       "      <td>B</td>\n",
       "      <td>b</td>\n",
       "      <td>1</td>\n",
       "    </tr>\n",
       "    <tr>\n",
       "      <th>7</th>\n",
       "      <td>B</td>\n",
       "      <td>c</td>\n",
       "      <td>1</td>\n",
       "    </tr>\n",
       "    <tr>\n",
       "      <th>8</th>\n",
       "      <td>B</td>\n",
       "      <td>d</td>\n",
       "      <td>1</td>\n",
       "    </tr>\n",
       "    <tr>\n",
       "      <th>9</th>\n",
       "      <td>B</td>\n",
       "      <td>e</td>\n",
       "      <td>1</td>\n",
       "    </tr>\n",
       "    <tr>\n",
       "      <th>10</th>\n",
       "      <td>B</td>\n",
       "      <td>f</td>\n",
       "      <td>1</td>\n",
       "    </tr>\n",
       "    <tr>\n",
       "      <th>11</th>\n",
       "      <td>B</td>\n",
       "      <td>g</td>\n",
       "      <td>1</td>\n",
       "    </tr>\n",
       "    <tr>\n",
       "      <th>12</th>\n",
       "      <td>C</td>\n",
       "      <td>a</td>\n",
       "      <td>1</td>\n",
       "    </tr>\n",
       "    <tr>\n",
       "      <th>13</th>\n",
       "      <td>C</td>\n",
       "      <td>c</td>\n",
       "      <td>1</td>\n",
       "    </tr>\n",
       "    <tr>\n",
       "      <th>14</th>\n",
       "      <td>C</td>\n",
       "      <td>d</td>\n",
       "      <td>1</td>\n",
       "    </tr>\n",
       "    <tr>\n",
       "      <th>15</th>\n",
       "      <td>C</td>\n",
       "      <td>f</td>\n",
       "      <td>1</td>\n",
       "    </tr>\n",
       "    <tr>\n",
       "      <th>16</th>\n",
       "      <td>C</td>\n",
       "      <td>g</td>\n",
       "      <td>1</td>\n",
       "    </tr>\n",
       "    <tr>\n",
       "      <th>17</th>\n",
       "      <td>C</td>\n",
       "      <td>h</td>\n",
       "      <td>1</td>\n",
       "    </tr>\n",
       "  </tbody>\n",
       "</table>\n",
       "</div>"
      ],
      "text/plain": [
       "   user item  rating\n",
       "0     A    a       1\n",
       "1     A    b       1\n",
       "2     A    d       1\n",
       "3     A    e       1\n",
       "4     A    g       1\n",
       "5     A    h       1\n",
       "6     B    b       1\n",
       "7     B    c       1\n",
       "8     B    d       1\n",
       "9     B    e       1\n",
       "10    B    f       1\n",
       "11    B    g       1\n",
       "12    C    a       1\n",
       "13    C    c       1\n",
       "14    C    d       1\n",
       "15    C    f       1\n",
       "16    C    g       1\n",
       "17    C    h       1"
      ]
     },
     "execution_count": 2,
     "metadata": {},
     "output_type": "execute_result"
    }
   ],
   "source": [
    "# my_dict = {\"user\": ['A','A','A','A','A','A','B','B','B','B','B','B','C','C','C','C','C','C'], \n",
    "#            \"item\": ['a','b','d','e','g','h','b','c','d','e','f','g','a','c','d','f','g','h'], \n",
    "#            \"rating\": [5,4,4,2,4,1,5,5,4,2,1,2,1,1,5,5,3,4]}\n",
    "\n",
    "my_dict = {\"user\": ['A','A','A','A','A','A','B','B','B','B','B','B','C','C','C','C','C','C'], \n",
    "           \"item\": ['a','b','d','e','g','h','b','c','d','e','f','g','a','c','d','f','g','h'], \n",
    "           \"rating\": [1,1,1,1,1,1,1,1,1,1,1,1,1,1,1,1,1,1]}\n",
    "\n",
    "df = pd.DataFrame(my_dict)\n",
    "df"
   ]
  },
  {
   "cell_type": "code",
   "execution_count": 3,
   "metadata": {},
   "outputs": [
    {
     "data": {
      "text/plain": [
       "array([[1., 1., 0., 1., 1., 0., 1., 1.],\n",
       "       [0., 1., 1., 1., 1., 1., 1., 0.],\n",
       "       [1., 0., 1., 1., 0., 1., 1., 1.]])"
      ]
     },
     "execution_count": 3,
     "metadata": {},
     "output_type": "execute_result"
    }
   ],
   "source": [
    "df_table = df.pivot_table(index='user', columns='item', values='rating') \n",
    "df_matrix = df_table.fillna(0).to_numpy()\n",
    "df_matrix"
   ]
  },
  {
   "cell_type": "code",
   "execution_count": 4,
   "metadata": {},
   "outputs": [
    {
     "data": {
      "text/plain": [
       "array([[1.   , 0.667, 0.667],\n",
       "       [0.667, 1.   , 0.667],\n",
       "       [0.667, 0.667, 1.   ]])"
      ]
     },
     "execution_count": 4,
     "metadata": {},
     "output_type": "execute_result"
    }
   ],
   "source": [
    "# symmetric 이다\n",
    "cosine_similarity(df_matrix)"
   ]
  },
  {
   "cell_type": "code",
   "execution_count": 5,
   "metadata": {},
   "outputs": [
    {
     "data": {
      "text/plain": [
       "array([[1., 1., 0., 1., 0., 0., 1., 0.],\n",
       "       [0., 1., 1., 1., 0., 0., 0., 0.],\n",
       "       [0., 0., 0., 1., 0., 1., 1., 1.]])"
      ]
     },
     "execution_count": 5,
     "metadata": {},
     "output_type": "execute_result"
    }
   ],
   "source": [
    "my_dict = {\"user\": ['A','A','A','A','A','A','B','B','B','B','B','B','C','C','C','C','C','C'], \n",
    "           \"item\": ['a','b','d','e','g','h','b','c','d','e','f','g','a','c','d','f','g','h'], \n",
    "           \"rating\": [1,1,1,0,1,0,1,1,1,0,0,0,0,0,1,1,1,1]}\n",
    "\n",
    "df = pd.DataFrame(my_dict)\n",
    "df_table = df.pivot_table(index='user', columns='item', values='rating') \n",
    "df_matrix = df_table.fillna(0).to_numpy()\n",
    "df_matrix"
   ]
  },
  {
   "cell_type": "code",
   "execution_count": 6,
   "metadata": {},
   "outputs": [
    {
     "data": {
      "text/plain": [
       "array([[1.   , 0.577, 0.5  ],\n",
       "       [0.577, 1.   , 0.289],\n",
       "       [0.5  , 0.289, 1.   ]])"
      ]
     },
     "execution_count": 6,
     "metadata": {},
     "output_type": "execute_result"
    }
   ],
   "source": [
    "cosine_similarity(df_matrix)"
   ]
  },
  {
   "cell_type": "markdown",
   "metadata": {},
   "source": [
    "(e)"
   ]
  },
  {
   "cell_type": "markdown",
   "metadata": {},
   "source": [
    "https://stackoverflow.com/questions/21057434/an-efficient-way-to-calculate-the-mean-of-each-column-or-row-of-non-zero-element"
   ]
  },
  {
   "cell_type": "code",
   "execution_count": 18,
   "metadata": {},
   "outputs": [
    {
     "data": {
      "text/plain": [
       "array([[5., 4., 0., 4., 2., 0., 4., 1.],\n",
       "       [0., 5., 5., 4., 2., 1., 2., 0.],\n",
       "       [1., 0., 1., 5., 0., 5., 3., 4.]])"
      ]
     },
     "execution_count": 18,
     "metadata": {},
     "output_type": "execute_result"
    }
   ],
   "source": [
    "my_dict = {\"user\": ['A','A','A','A','A','A','B','B','B','B','B','B','C','C','C','C','C','C'], \n",
    "           \"item\": ['a','b','d','e','g','h','b','c','d','e','f','g','a','c','d','f','g','h'], \n",
    "           \"rating\": [5,4,4,2,4,1,5,5,4,2,1,2,1,1,5,5,3,4]}\n",
    "df = pd.DataFrame(my_dict)\n",
    "df_table = df.pivot_table(index='user', columns='item', values='rating') \n",
    "df_matrix = df_table.fillna(0).to_numpy()\n",
    "df_matrix"
   ]
  },
  {
   "cell_type": "code",
   "execution_count": 8,
   "metadata": {},
   "outputs": [],
   "source": [
    "# non empty entry에 대해서 평균을 구함\n",
    "def get_means(ratings):\n",
    "    ratings[np.where(ratings == 0)] = np.nan\n",
    "\n",
    "    user_means = np.nanmean(ratings, axis=1)\n",
    "    movie_means = np.nanmean(ratings, axis=0)\n",
    "\n",
    "    return user_means, movie_means"
   ]
  },
  {
   "cell_type": "code",
   "execution_count": 9,
   "metadata": {},
   "outputs": [],
   "source": [
    "user_means, movie_means = get_means(df_matrix)"
   ]
  },
  {
   "cell_type": "code",
   "execution_count": 10,
   "metadata": {},
   "outputs": [
    {
     "name": "stdout",
     "output_type": "stream",
     "text": [
      "[3.333 3.167 3.167]\n",
      "[3.    4.5   3.    4.333 2.    3.    3.    2.5  ]\n"
     ]
    }
   ],
   "source": [
    "print(user_means)\n",
    "print(movie_means)"
   ]
  },
  {
   "cell_type": "code",
   "execution_count": 11,
   "metadata": {},
   "outputs": [
    {
     "data": {
      "text/plain": [
       "(3,)"
      ]
     },
     "execution_count": 11,
     "metadata": {},
     "output_type": "execute_result"
    }
   ],
   "source": [
    "user_means.shape"
   ]
  },
  {
   "cell_type": "code",
   "execution_count": 12,
   "metadata": {},
   "outputs": [
    {
     "data": {
      "text/plain": [
       "array([[3.333],\n",
       "       [3.167],\n",
       "       [3.167]])"
      ]
     },
     "execution_count": 12,
     "metadata": {},
     "output_type": "execute_result"
    }
   ],
   "source": [
    "k = user_means.reshape(3,-1)\n",
    "k\n",
    "# k = np.array([[1],[2],[3]]) "
   ]
  },
  {
   "cell_type": "markdown",
   "metadata": {},
   "source": [
    "https://stackoverflow.com/questions/26243383/subtract-ith-value-of-a-vector-from-non-zero-values-of-the-ith-row-of-a-sparse-m"
   ]
  },
  {
   "cell_type": "code",
   "execution_count": 13,
   "metadata": {},
   "outputs": [
    {
     "name": "stdout",
     "output_type": "stream",
     "text": [
      "[[ 1.667  0.667    nan  0.667 -1.333    nan  0.667 -2.333]\n",
      " [   nan  1.833  1.833  0.833 -1.167 -2.167 -1.167    nan]\n",
      " [-2.167    nan -2.167  1.833    nan  1.833 -0.167  0.833]]\n"
     ]
    }
   ],
   "source": [
    "normalized = (df_matrix - k)*(df_matrix != 0)\n",
    "print(normalized)"
   ]
  },
  {
   "cell_type": "code",
   "execution_count": 14,
   "metadata": {},
   "outputs": [
    {
     "data": {
      "text/plain": [
       "array([[ 1.667,  0.667,  0.   ,  0.667, -1.333,  0.   ,  0.667, -2.333],\n",
       "       [ 0.   ,  1.833,  1.833,  0.833, -1.167, -2.167, -1.167,  0.   ],\n",
       "       [-2.167,  0.   , -2.167,  1.833,  0.   ,  1.833, -0.167,  0.833]])"
      ]
     },
     "execution_count": 14,
     "metadata": {},
     "output_type": "execute_result"
    }
   ],
   "source": [
    "normalized = np.nan_to_num(normalized)\n",
    "normalized"
   ]
  },
  {
   "cell_type": "code",
   "execution_count": 15,
   "metadata": {},
   "outputs": [
    {
     "data": {
      "text/plain": [
       "array([[ 1.   ,  0.197, -0.322],\n",
       "       [ 0.197,  1.   , -0.394],\n",
       "       [-0.322, -0.394,  1.   ]])"
      ]
     },
     "execution_count": 15,
     "metadata": {},
     "output_type": "execute_result"
    }
   ],
   "source": [
    "# user-user similarity\n",
    "user_correlation = cosine_similarity(normalized)\n",
    "user_correlation"
   ]
  },
  {
   "cell_type": "code",
   "execution_count": 25,
   "metadata": {},
   "outputs": [
    {
     "data": {
      "text/plain": [
       "array([[5., 4., 0., 4., 2., 0., 4., 1.],\n",
       "       [0., 5., 5., 4., 2., 1., 2., 0.],\n",
       "       [1., 0., 1., 5., 0., 5., 3., 4.]])"
      ]
     },
     "execution_count": 25,
     "metadata": {},
     "output_type": "execute_result"
    }
   ],
   "source": [
    "df_matrix = np.nan_to_num(df_matrix)\n",
    "df_matrix"
   ]
  },
  {
   "cell_type": "code",
   "execution_count": 26,
   "metadata": {},
   "outputs": [
    {
     "data": {
      "text/plain": [
       "array([[ 4.678,  4.986,  0.664,  3.18 ,  2.394, -1.412,  3.429, -0.287],\n",
       "       [ 0.592,  5.788,  4.606,  2.82 ,  2.394, -0.969,  1.607, -1.378],\n",
       "       [-0.609, -3.256, -0.969,  2.138, -1.431,  4.606,  0.925,  3.678]])"
      ]
     },
     "execution_count": 26,
     "metadata": {},
     "output_type": "execute_result"
    }
   ],
   "source": [
    "pred = user_correlation.dot(df_matrix)\n",
    "pred"
   ]
  },
  {
   "cell_type": "code",
   "execution_count": 32,
   "metadata": {},
   "outputs": [
    {
     "data": {
      "text/plain": [
       "array([[ 5.,  4., nan,  4.,  2., nan,  4.,  1.],\n",
       "       [nan,  5.,  5.,  4.,  2.,  1.,  2., nan],\n",
       "       [ 1., nan,  1.,  5., nan,  5.,  3.,  4.]])"
      ]
     },
     "execution_count": 32,
     "metadata": {},
     "output_type": "execute_result"
    }
   ],
   "source": [
    "my_dict = {\"user\": ['A','A','A','A','A','A','B','B','B','B','B','B','C','C','C','C','C','C'], \n",
    "           \"item\": ['a','b','d','e','g','h','b','c','d','e','f','g','a','c','d','f','g','h'], \n",
    "           \"rating\": [5,4,4,2,4,1,5,5,4,2,1,2,1,1,5,5,3,4]}\n",
    "df = pd.DataFrame(my_dict)\n",
    "df_table = df.pivot_table(index='user', columns='item', values='rating') \n",
    "# df_matrix = df_table.fillna(0).to_numpy()\n",
    "df_matrix = df_table.to_numpy()\n",
    "df_matrix"
   ]
  },
  {
   "cell_type": "code",
   "execution_count": 46,
   "metadata": {},
   "outputs": [
    {
     "data": {
      "text/plain": [
       "array([[ 0.322, -0.986,    nan,  0.82 , -0.394,    nan,  0.571,  1.287],\n",
       "       [   nan, -0.788,  0.394,  1.18 , -0.394,  1.969,  0.393,    nan],\n",
       "       [ 1.609,    nan,  1.969,  2.862,    nan,  0.394,  2.075,  0.322]])"
      ]
     },
     "execution_count": 46,
     "metadata": {},
     "output_type": "execute_result"
    }
   ],
   "source": [
    "diff = (df_matrix - pred)*(~np.isnan(df_matrix))\n",
    "diff"
   ]
  },
  {
   "cell_type": "code",
   "execution_count": 50,
   "metadata": {},
   "outputs": [
    {
     "data": {
      "text/plain": [
       "18"
      ]
     },
     "execution_count": 50,
     "metadata": {},
     "output_type": "execute_result"
    }
   ],
   "source": [
    "# non empty entry 수 N\n",
    "N = np.count_nonzero(~np.isnan(diff))\n",
    "N"
   ]
  },
  {
   "cell_type": "code",
   "execution_count": 53,
   "metadata": {},
   "outputs": [
    {
     "data": {
      "text/plain": [
       "array([[0.006, 0.054, 0.   , 0.037, 0.009, 0.   , 0.018, 0.092],\n",
       "       [0.   , 0.035, 0.009, 0.077, 0.009, 0.215, 0.009, 0.   ],\n",
       "       [0.144, 0.   , 0.215, 0.455, 0.   , 0.009, 0.239, 0.006]])"
      ]
     },
     "execution_count": 53,
     "metadata": {},
     "output_type": "execute_result"
    }
   ],
   "source": [
    "temp = np.nan_to_num(diff)**2/N\n",
    "temp"
   ]
  },
  {
   "cell_type": "code",
   "execution_count": 58,
   "metadata": {},
   "outputs": [
    {
     "data": {
      "text/plain": [
       "1.2793654783961728"
      ]
     },
     "execution_count": 58,
     "metadata": {},
     "output_type": "execute_result"
    }
   ],
   "source": [
    "rmse = sqrt(temp.sum())\n",
    "rmse"
   ]
  }
 ],
 "metadata": {
  "kernelspec": {
   "display_name": "Python 3",
   "language": "python",
   "name": "python3"
  },
  "language_info": {
   "codemirror_mode": {
    "name": "ipython",
    "version": 3
   },
   "file_extension": ".py",
   "mimetype": "text/x-python",
   "name": "python",
   "nbconvert_exporter": "python",
   "pygments_lexer": "ipython3",
   "version": "3.7.3"
  }
 },
 "nbformat": 4,
 "nbformat_minor": 2
}
