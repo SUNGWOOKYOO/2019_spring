{
 "cells": [
  {
   "cell_type": "markdown",
   "metadata": {},
   "source": [
    "# Theory :\n",
    "https://twlab.tistory.com/25\n",
    "\n",
    "# Doc: \n",
    "https://docs.sympy.org/0.7.5/tutorial/matrices.html"
   ]
  },
  {
   "cell_type": "code",
   "execution_count": 1,
   "metadata": {},
   "outputs": [],
   "source": [
    "import numpy as np\n",
    "from sympy import *\n",
    "init_printing(use_unicode = True)"
   ]
  },
  {
   "cell_type": "markdown",
   "metadata": {},
   "source": [
    "### exercise 5.1.1\n",
    "> no random jump case "
   ]
  },
  {
   "cell_type": "code",
   "execution_count": 2,
   "metadata": {},
   "outputs": [
    {
     "data": {
      "text/latex": [
       "$$\\left[\\begin{matrix}0.333333333333333 & 0.5 & 0\\\\0.333333333333333 & 0 & 0.5\\\\0.333333333333333 & 0.5 & 0.5\\end{matrix}\\right]$$"
      ],
      "text/plain": [
       "⎡0.333333333333333  0.5   0 ⎤\n",
       "⎢                           ⎥\n",
       "⎢0.333333333333333   0   0.5⎥\n",
       "⎢                           ⎥\n",
       "⎣0.333333333333333  0.5  0.5⎦"
      ]
     },
     "execution_count": 2,
     "metadata": {},
     "output_type": "execute_result"
    }
   ],
   "source": [
    "M = Matrix([[1/3, 1/2, 0], [1/3, 0, 1/2], [1/3, 1/2, 1/2]])\n",
    "M"
   ]
  },
  {
   "cell_type": "code",
   "execution_count": 3,
   "metadata": {},
   "outputs": [
    {
     "data": {
      "text/latex": [
       "$$\\left[\\begin{matrix}-0.666666666666667 & 0.5 & 0 & 0\\\\0.333333333333333 & -1 & 0.5 & 0\\\\0.333333333333333 & 0.5 & -0.5 & 0\\\\1 & 1 & 1 & 1\\end{matrix}\\right]$$"
      ],
      "text/plain": [
       "⎡-0.666666666666667  0.5   0    0⎤\n",
       "⎢                                ⎥\n",
       "⎢0.333333333333333   -1   0.5   0⎥\n",
       "⎢                                ⎥\n",
       "⎢0.333333333333333   0.5  -0.5  0⎥\n",
       "⎢                                ⎥\n",
       "⎣        1            1    1    1⎦"
      ]
     },
     "execution_count": 3,
     "metadata": {},
     "output_type": "execute_result"
    }
   ],
   "source": [
    "#temp = M - eye(3)\n",
    "temp = Matrix([[-2/3, 1/2, 0], [1/3, -1, 1/2], [1/3, 1/2, -1/2]])\n",
    "temp = temp.col_insert(3, Matrix([0,0,0]))\n",
    "A = temp.row_insert(4,Matrix([[1,1,1,1]]))\n",
    "A"
   ]
  },
  {
   "cell_type": "code",
   "execution_count": 4,
   "metadata": {},
   "outputs": [
    {
     "data": {
      "text/latex": [
       "$$\\left ( \\left[\\begin{matrix}1 & 0 & 0 & 0.230769230769231\\\\0 & 1 & 0 & 0.307692307692308\\\\0 & 0 & 1 & 0.461538461538462\\\\0 & 0 & 0 & 0\\end{matrix}\\right], \\quad \\left ( 0, \\quad 1, \\quad 2\\right )\\right )$$"
      ],
      "text/plain": [
       "⎛⎡1  0  0  0.230769230769231⎤           ⎞\n",
       "⎜⎢                          ⎥           ⎟\n",
       "⎜⎢0  1  0  0.307692307692308⎥           ⎟\n",
       "⎜⎢                          ⎥, (0, 1, 2)⎟\n",
       "⎜⎢0  0  1  0.461538461538462⎥           ⎟\n",
       "⎜⎢                          ⎥           ⎟\n",
       "⎝⎣0  0  0          0        ⎦           ⎠"
      ]
     },
     "execution_count": 4,
     "metadata": {},
     "output_type": "execute_result"
    }
   ],
   "source": [
    "A.rref()"
   ]
  },
  {
   "cell_type": "code",
   "execution_count": 5,
   "metadata": {},
   "outputs": [
    {
     "data": {
      "image/png": "[encoded data removed]",
      "text/latex": [
       "$$\\left [ 0.23076923076923078, \\quad 0.3076923076923077, \\quad 0.46153846153846156\\right ]$$"
      ],
      "text/plain": [
       "[0.23076923076923078, 0.3076923076923077, 0.46153846153846156]"
      ]
     },
     "execution_count": 5,
     "metadata": {},
     "output_type": "execute_result"
    }
   ],
   "source": [
    "[3/13,4/13,6/13]"
   ]
  },
  {
   "cell_type": "markdown",
   "metadata": {},
   "source": [
    "### exercise 5.1.2\n",
    "> random jump with probability delta = 0.8\n",
    "> the prevention for dead end, spyder trap "
   ]
  },
  {
   "cell_type": "code",
   "execution_count": 6,
   "metadata": {},
   "outputs": [
    {
     "data": {
      "text/latex": [
       "$$\\left[\\begin{matrix}-0.666666666666667 & 0.466666666666667 & 0.0666666666666667 & 0\\\\0.333333333333333 & -0.933333333333333 & 0.466666666666667 & 0\\\\0.333333333333333 & 0.466666666666667 & -0.533333333333333 & 0\\\\1 & 1 & 1 & 1\\end{matrix}\\right]$$"
      ],
      "text/plain": [
       "⎡-0.666666666666667  0.466666666666667   0.0666666666666667  0⎤\n",
       "⎢                                                             ⎥\n",
       "⎢0.333333333333333   -0.933333333333333  0.466666666666667   0⎥\n",
       "⎢                                                             ⎥\n",
       "⎢0.333333333333333   0.466666666666667   -0.533333333333333  0⎥\n",
       "⎢                                                             ⎥\n",
       "⎣        1                   1                   1           1⎦"
      ]
     },
     "execution_count": 6,
     "metadata": {},
     "output_type": "execute_result"
    }
   ],
   "source": [
    "delta = 0.8\n",
    "N = 3\n",
    "M = Matrix([[1/3, 1/2, 0], [1/3, 0, 1/2], [1/3, 1/2, 1/2]])\n",
    "S = Matrix([[1/N, 1/N, 1/N], [1/N, 1/N, 1/N], [1/N, 1/N, 1/N]])\n",
    "temp = delta*M + (1- delta)*S - eye(3)\n",
    "temp = temp.col_insert(3, Matrix([0,0,0]))\n",
    "A = temp.row_insert(4,Matrix([[1,1,1,1]]))\n",
    "A"
   ]
  },
  {
   "cell_type": "code",
   "execution_count": 7,
   "metadata": {},
   "outputs": [
    {
     "data": {
      "text/latex": [
       "$$\\left ( \\left[\\begin{matrix}1 & 0 & 0 & 0.259259259259259\\\\0 & 1 & 0 & 0.308641975308642\\\\0 & 0 & 1 & 0.432098765432099\\\\0 & 0 & 0 & 0\\end{matrix}\\right], \\quad \\left ( 0, \\quad 1, \\quad 2\\right )\\right )$$"
      ],
      "text/plain": [
       "⎛⎡1  0  0  0.259259259259259⎤           ⎞\n",
       "⎜⎢                          ⎥           ⎟\n",
       "⎜⎢0  1  0  0.308641975308642⎥           ⎟\n",
       "⎜⎢                          ⎥, (0, 1, 2)⎟\n",
       "⎜⎢0  0  1  0.432098765432099⎥           ⎟\n",
       "⎜⎢                          ⎥           ⎟\n",
       "⎝⎣0  0  0          0        ⎦           ⎠"
      ]
     },
     "execution_count": 7,
     "metadata": {},
     "output_type": "execute_result"
    }
   ],
   "source": [
    "A.rref()"
   ]
  },
  {
   "cell_type": "markdown",
   "metadata": {},
   "source": [
    "> S matrix can be transfered into S vector because ∑|R| = 1"
   ]
  },
  {
   "cell_type": "code",
   "execution_count": 8,
   "metadata": {},
   "outputs": [
    {
     "data": {
      "text/latex": [
       "$$\\left[\\begin{matrix}-0.733333333333333 & 0.4 & 0 & -0.0666666666666667\\\\0.266666666666667 & -1 & 0.4 & -0.0666666666666667\\\\0.266666666666667 & 0.4 & -0.6 & -0.0666666666666667\\\\1 & 1 & 1 & 1\\end{matrix}\\right]$$"
      ],
      "text/plain": [
       "⎡-0.733333333333333  0.4   0    -0.0666666666666667⎤\n",
       "⎢                                                  ⎥\n",
       "⎢0.266666666666667   -1   0.4   -0.0666666666666667⎥\n",
       "⎢                                                  ⎥\n",
       "⎢0.266666666666667   0.4  -0.6  -0.0666666666666667⎥\n",
       "⎢                                                  ⎥\n",
       "⎣        1            1    1             1         ⎦"
      ]
     },
     "execution_count": 8,
     "metadata": {},
     "output_type": "execute_result"
    }
   ],
   "source": [
    "delta = 0.8\n",
    "M = Matrix([[1/3, 1/2, 0], [1/3, 0, 1/2], [1/3, 1/2, 1/2]])\n",
    "# S = Matrix([[1/N, 1/N, 1/N], [0, 0, 0], [0, 0, 0]])\n",
    "# temp = delta*M + (1- delta)*S - eye(3)\n",
    "temp = delta*M - eye(3)\n",
    "Svector =  -(1- delta)*Matrix([1/N,1/N,1/N])\n",
    "temp = temp.col_insert(3, Svector)\n",
    "A = temp.row_insert(4,Matrix([[1,1,1,1]]))\n",
    "A"
   ]
  },
  {
   "cell_type": "code",
   "execution_count": 9,
   "metadata": {},
   "outputs": [
    {
     "data": {
      "text/latex": [
       "$$\\left ( \\left[\\begin{matrix}1 & 0 & 0 & 0.259259259259259\\\\0 & 1 & 0 & 0.308641975308642\\\\0 & 0 & 1 & 0.432098765432099\\\\0 & 0 & 0 & 0\\end{matrix}\\right], \\quad \\left ( 0, \\quad 1, \\quad 2\\right )\\right )$$"
      ],
      "text/plain": [
       "⎛⎡1  0  0  0.259259259259259⎤           ⎞\n",
       "⎜⎢                          ⎥           ⎟\n",
       "⎜⎢0  1  0  0.308641975308642⎥           ⎟\n",
       "⎜⎢                          ⎥, (0, 1, 2)⎟\n",
       "⎜⎢0  0  1  0.432098765432099⎥           ⎟\n",
       "⎜⎢                          ⎥           ⎟\n",
       "⎝⎣0  0  0          0        ⎦           ⎠"
      ]
     },
     "execution_count": 9,
     "metadata": {},
     "output_type": "execute_result"
    }
   ],
   "source": [
    "A.rref()"
   ]
  },
  {
   "cell_type": "markdown",
   "metadata": {},
   "source": [
    "### power iteration method "
   ]
  },
  {
   "cell_type": "code",
   "execution_count": 10,
   "metadata": {},
   "outputs": [
    {
     "name": "stdout",
     "output_type": "stream",
     "text": [
      "iteration 0 ...\n",
      "distance =  0.10886621079036359\n",
      "iteration 1 ...\n",
      "distance =  0.03840438948740428\n",
      "iteration 2 ...\n",
      "distance =  0.006978181649210422\n",
      "iteration 3 ...\n",
      "distance =  0.002694155040223752\n",
      "iteration 4 ...\n",
      "distance =  0.000690717723326753\n",
      "iteration 5 ...\n",
      "distance =  0.00023252459842663494\n",
      "iteration 6 ...\n",
      "distance =  6.747656831871295e-05\n",
      "iteration 7 ...\n",
      "distance =  2.136482502025899e-05\n",
      "iteration 8 ...\n",
      "distance =  6.443969268831849e-06\n",
      "iteration 9 ...\n",
      "distance =  1.998329919632112e-06\n",
      "iteration 10 ...\n",
      "distance =  6.100863484933637e-07\n",
      "iteration 11 ...\n",
      "distance =  1.8792241082335177e-07\n",
      "iteration 12 ...\n",
      "distance =  5.759209807890141e-08\n",
      "iteration 13 ...\n",
      "distance =  1.770416244714274e-08\n",
      "iteration 14 ...\n",
      "distance =  5.432463853003383e-09\n"
     ]
    }
   ],
   "source": [
    "# PageRank Algorithm\n",
    "M = np.array(M, dtype='f')\n",
    "N = 3\n",
    "delta = 0.8\n",
    "elipslion = 1e-8\n",
    "R = np.ones((N,1))*(1/N)\n",
    "#R = np.ones((N,1))\n",
    "K = np.ones((N,1))*((1- delta)/N)\n",
    "# R = delta * np.matmul(M,prevR) + K\n",
    "iteration = 0\n",
    "distance = 100\n",
    "\n",
    "while distance > elipslion:\n",
    "    print(\"iteration\", iteration, \"...\")\n",
    "    prevR = R\n",
    "    R = delta * np.matmul(M,R) + K\n",
    "    iteration = iteration + 1\n",
    "    distance = np.linalg.norm(R-prevR)\n",
    "    print(\"distance = \",np.linalg.norm(R-prevR))\n",
    "    #print(R)"
   ]
  },
  {
   "cell_type": "code",
   "execution_count": 11,
   "metadata": {},
   "outputs": [
    {
     "data": {
      "text/plain": [
       "array([[0.25925927],\n",
       "       [0.30864198],\n",
       "       [0.43209878]])"
      ]
     },
     "execution_count": 11,
     "metadata": {},
     "output_type": "execute_result"
    }
   ],
   "source": [
    "R"
   ]
  },
  {
   "cell_type": "markdown",
   "metadata": {},
   "source": [
    "### Q1: exercise 5.1.3\n",
    "> dead end eixist => compensate the score (Transition Matrx shoule always be stochastic matrix during iteration)"
   ]
  },
  {
   "cell_type": "code",
   "execution_count": 12,
   "metadata": {},
   "outputs": [],
   "source": [
    "n = Symbol('n')\n",
    "#dn = Symbol('1/n')\n",
    "delta = Symbol('\\u03B4') # unicode delta : \\u03B4\n",
    "N = 5\n",
    "M = (1/n)*Matrix([[0,1,1,1, 0], [1,0,1,1, 0], [1,1,0,1,0],[1,1,1,0,0],[1,1,1,0,0]])\n",
    "temp = delta*M - eye(N)\n",
    "\n",
    "S = (1/(n+1))*Matrix([[1, 1, 1,1 , 1/(1-delta)], [1, 1 ,1, 1, 1/(1-delta)], [1, 1 , 1, 1, 1/(1-delta)], [1, 1,1, 1, 1/(1-delta)], [1, 1,1, 1, 1/(1-delta)]])\n",
    "\n",
    "temp = delta*M + (1- delta)*S - eye(N)\n",
    "temp = temp.col_insert(N, zeros(N,1))\n",
    "A = temp.row_insert(N,ones(1,N+1))"
   ]
  },
  {
   "cell_type": "code",
   "execution_count": 13,
   "metadata": {},
   "outputs": [
    {
     "data": {
      "text/latex": [
       "$$\\left[\\begin{matrix}0 & \\frac{1}{n} & \\frac{1}{n} & \\frac{1}{n} & 0\\\\\\frac{1}{n} & 0 & \\frac{1}{n} & \\frac{1}{n} & 0\\\\\\frac{1}{n} & \\frac{1}{n} & 0 & \\frac{1}{n} & 0\\\\\\frac{1}{n} & \\frac{1}{n} & \\frac{1}{n} & 0 & 0\\\\\\frac{1}{n} & \\frac{1}{n} & \\frac{1}{n} & 0 & 0\\end{matrix}\\right]$$"
      ],
      "text/plain": [
       "⎡   1  1  1   ⎤\n",
       "⎢0  ─  ─  ─  0⎥\n",
       "⎢   n  n  n   ⎥\n",
       "⎢             ⎥\n",
       "⎢1     1  1   ⎥\n",
       "⎢─  0  ─  ─  0⎥\n",
       "⎢n     n  n   ⎥\n",
       "⎢             ⎥\n",
       "⎢1  1     1   ⎥\n",
       "⎢─  ─  0  ─  0⎥\n",
       "⎢n  n     n   ⎥\n",
       "⎢             ⎥\n",
       "⎢1  1  1      ⎥\n",
       "⎢─  ─  ─  0  0⎥\n",
       "⎢n  n  n      ⎥\n",
       "⎢             ⎥\n",
       "⎢1  1  1      ⎥\n",
       "⎢─  ─  ─  0  0⎥\n",
       "⎣n  n  n      ⎦"
      ]
     },
     "execution_count": 13,
     "metadata": {},
     "output_type": "execute_result"
    }
   ],
   "source": [
    "M"
   ]
  },
  {
   "cell_type": "code",
   "execution_count": 14,
   "metadata": {
    "scrolled": false
   },
   "outputs": [
    {
     "data": {
      "text/latex": [
       "$$\\left[\\begin{matrix}\\frac{1}{n + 1} & \\frac{1}{n + 1} & \\frac{1}{n + 1} & \\frac{1}{n + 1} & \\frac{1}{\\left(n + 1\\right) \\left(- δ + 1\\right)}\\\\\\frac{1}{n + 1} & \\frac{1}{n + 1} & \\frac{1}{n + 1} & \\frac{1}{n + 1} & \\frac{1}{\\left(n + 1\\right) \\left(- δ + 1\\right)}\\\\\\frac{1}{n + 1} & \\frac{1}{n + 1} & \\frac{1}{n + 1} & \\frac{1}{n + 1} & \\frac{1}{\\left(n + 1\\right) \\left(- δ + 1\\right)}\\\\\\frac{1}{n + 1} & \\frac{1}{n + 1} & \\frac{1}{n + 1} & \\frac{1}{n + 1} & \\frac{1}{\\left(n + 1\\right) \\left(- δ + 1\\right)}\\\\\\frac{1}{n + 1} & \\frac{1}{n + 1} & \\frac{1}{n + 1} & \\frac{1}{n + 1} & \\frac{1}{\\left(n + 1\\right) \\left(- δ + 1\\right)}\\end{matrix}\\right]$$"
      ],
      "text/plain": [
       "⎡  1      1      1      1           1        ⎤\n",
       "⎢─────  ─────  ─────  ─────  ────────────────⎥\n",
       "⎢n + 1  n + 1  n + 1  n + 1  (n + 1)⋅(-δ + 1)⎥\n",
       "⎢                                            ⎥\n",
       "⎢  1      1      1      1           1        ⎥\n",
       "⎢─────  ─────  ─────  ─────  ────────────────⎥\n",
       "⎢n + 1  n + 1  n + 1  n + 1  (n + 1)⋅(-δ + 1)⎥\n",
       "⎢                                            ⎥\n",
       "⎢  1      1      1      1           1        ⎥\n",
       "⎢─────  ─────  ─────  ─────  ────────────────⎥\n",
       "⎢n + 1  n + 1  n + 1  n + 1  (n + 1)⋅(-δ + 1)⎥\n",
       "⎢                                            ⎥\n",
       "⎢  1      1      1      1           1        ⎥\n",
       "⎢─────  ─────  ─────  ─────  ────────────────⎥\n",
       "⎢n + 1  n + 1  n + 1  n + 1  (n + 1)⋅(-δ + 1)⎥\n",
       "⎢                                            ⎥\n",
       "⎢  1      1      1      1           1        ⎥\n",
       "⎢─────  ─────  ─────  ─────  ────────────────⎥\n",
       "⎣n + 1  n + 1  n + 1  n + 1  (n + 1)⋅(-δ + 1)⎦"
      ]
     },
     "execution_count": 14,
     "metadata": {},
     "output_type": "execute_result"
    }
   ],
   "source": [
    "S"
   ]
  },
  {
   "cell_type": "code",
   "execution_count": 15,
   "metadata": {
    "scrolled": true
   },
   "outputs": [
    {
     "data": {
      "text/latex": [
       "$$\\left[\\begin{matrix}-1 + \\frac{- δ + 1}{n + 1} & \\frac{- δ + 1}{n + 1} + \\frac{δ}{n} & \\frac{- δ + 1}{n + 1} + \\frac{δ}{n} & \\frac{- δ + 1}{n + 1} + \\frac{δ}{n} & \\frac{1}{n + 1} & 0\\\\\\frac{- δ + 1}{n + 1} + \\frac{δ}{n} & -1 + \\frac{- δ + 1}{n + 1} & \\frac{- δ + 1}{n + 1} + \\frac{δ}{n} & \\frac{- δ + 1}{n + 1} + \\frac{δ}{n} & \\frac{1}{n + 1} & 0\\\\\\frac{- δ + 1}{n + 1} + \\frac{δ}{n} & \\frac{- δ + 1}{n + 1} + \\frac{δ}{n} & -1 + \\frac{- δ + 1}{n + 1} & \\frac{- δ + 1}{n + 1} + \\frac{δ}{n} & \\frac{1}{n + 1} & 0\\\\\\frac{- δ + 1}{n + 1} + \\frac{δ}{n} & \\frac{- δ + 1}{n + 1} + \\frac{δ}{n} & \\frac{- δ + 1}{n + 1} + \\frac{δ}{n} & -1 + \\frac{- δ + 1}{n + 1} & \\frac{1}{n + 1} & 0\\\\\\frac{- δ + 1}{n + 1} + \\frac{δ}{n} & \\frac{- δ + 1}{n + 1} + \\frac{δ}{n} & \\frac{- δ + 1}{n + 1} + \\frac{δ}{n} & \\frac{- δ + 1}{n + 1} & -1 + \\frac{1}{n + 1} & 0\\end{matrix}\\right]$$"
      ],
      "text/plain": [
       "⎡     -δ + 1  -δ + 1   δ   -δ + 1   δ   -δ + 1   δ       1        ⎤\n",
       "⎢-1 + ──────  ────── + ─   ────── + ─   ────── + ─     ─────     0⎥\n",
       "⎢     n + 1   n + 1    n   n + 1    n   n + 1    n     n + 1      ⎥\n",
       "⎢                                                                 ⎥\n",
       "⎢-δ + 1   δ        -δ + 1  -δ + 1   δ   -δ + 1   δ       1        ⎥\n",
       "⎢────── + ─   -1 + ──────  ────── + ─   ────── + ─     ─────     0⎥\n",
       "⎢n + 1    n        n + 1   n + 1    n   n + 1    n     n + 1      ⎥\n",
       "⎢                                                                 ⎥\n",
       "⎢-δ + 1   δ   -δ + 1   δ        -δ + 1  -δ + 1   δ       1        ⎥\n",
       "⎢────── + ─   ────── + ─   -1 + ──────  ────── + ─     ─────     0⎥\n",
       "⎢n + 1    n   n + 1    n        n + 1   n + 1    n     n + 1      ⎥\n",
       "⎢                                                                 ⎥\n",
       "⎢-δ + 1   δ   -δ + 1   δ   -δ + 1   δ        -δ + 1      1        ⎥\n",
       "⎢────── + ─   ────── + ─   ────── + ─   -1 + ──────    ─────     0⎥\n",
       "⎢n + 1    n   n + 1    n   n + 1    n        n + 1     n + 1      ⎥\n",
       "⎢                                                                 ⎥\n",
       "⎢-δ + 1   δ   -δ + 1   δ   -δ + 1   δ     -δ + 1            1     ⎥\n",
       "⎢────── + ─   ────── + ─   ────── + ─     ──────     -1 + ─────  0⎥\n",
       "⎣n + 1    n   n + 1    n   n + 1    n     n + 1           n + 1   ⎦"
      ]
     },
     "execution_count": 15,
     "metadata": {},
     "output_type": "execute_result"
    }
   ],
   "source": [
    "temp"
   ]
  },
  {
   "cell_type": "code",
   "execution_count": 16,
   "metadata": {},
   "outputs": [
    {
     "data": {
      "text/latex": [
       "$$\\left[\\begin{matrix}-1 + \\frac{- δ + 1}{n + 1} & \\frac{- δ + 1}{n + 1} + \\frac{δ}{n} & \\frac{- δ + 1}{n + 1} + \\frac{δ}{n} & \\frac{- δ + 1}{n + 1} + \\frac{δ}{n} & \\frac{1}{n + 1} & 0\\\\\\frac{- δ + 1}{n + 1} + \\frac{δ}{n} & -1 + \\frac{- δ + 1}{n + 1} & \\frac{- δ + 1}{n + 1} + \\frac{δ}{n} & \\frac{- δ + 1}{n + 1} + \\frac{δ}{n} & \\frac{1}{n + 1} & 0\\\\\\frac{- δ + 1}{n + 1} + \\frac{δ}{n} & \\frac{- δ + 1}{n + 1} + \\frac{δ}{n} & -1 + \\frac{- δ + 1}{n + 1} & \\frac{- δ + 1}{n + 1} + \\frac{δ}{n} & \\frac{1}{n + 1} & 0\\\\\\frac{- δ + 1}{n + 1} + \\frac{δ}{n} & \\frac{- δ + 1}{n + 1} + \\frac{δ}{n} & \\frac{- δ + 1}{n + 1} + \\frac{δ}{n} & -1 + \\frac{- δ + 1}{n + 1} & \\frac{1}{n + 1} & 0\\\\\\frac{- δ + 1}{n + 1} + \\frac{δ}{n} & \\frac{- δ + 1}{n + 1} + \\frac{δ}{n} & \\frac{- δ + 1}{n + 1} + \\frac{δ}{n} & \\frac{- δ + 1}{n + 1} & -1 + \\frac{1}{n + 1} & 0\\\\1 & 1 & 1 & 1 & 1 & 1\\end{matrix}\\right]$$"
      ],
      "text/plain": [
       "⎡     -δ + 1  -δ + 1   δ   -δ + 1   δ   -δ + 1   δ       1        ⎤\n",
       "⎢-1 + ──────  ────── + ─   ────── + ─   ────── + ─     ─────     0⎥\n",
       "⎢     n + 1   n + 1    n   n + 1    n   n + 1    n     n + 1      ⎥\n",
       "⎢                                                                 ⎥\n",
       "⎢-δ + 1   δ        -δ + 1  -δ + 1   δ   -δ + 1   δ       1        ⎥\n",
       "⎢────── + ─   -1 + ──────  ────── + ─   ────── + ─     ─────     0⎥\n",
       "⎢n + 1    n        n + 1   n + 1    n   n + 1    n     n + 1      ⎥\n",
       "⎢                                                                 ⎥\n",
       "⎢-δ + 1   δ   -δ + 1   δ        -δ + 1  -δ + 1   δ       1        ⎥\n",
       "⎢────── + ─   ────── + ─   -1 + ──────  ────── + ─     ─────     0⎥\n",
       "⎢n + 1    n   n + 1    n        n + 1   n + 1    n     n + 1      ⎥\n",
       "⎢                                                                 ⎥\n",
       "⎢-δ + 1   δ   -δ + 1   δ   -δ + 1   δ        -δ + 1      1        ⎥\n",
       "⎢────── + ─   ────── + ─   ────── + ─   -1 + ──────    ─────     0⎥\n",
       "⎢n + 1    n   n + 1    n   n + 1    n        n + 1     n + 1      ⎥\n",
       "⎢                                                                 ⎥\n",
       "⎢-δ + 1   δ   -δ + 1   δ   -δ + 1   δ     -δ + 1            1     ⎥\n",
       "⎢────── + ─   ────── + ─   ────── + ─     ──────     -1 + ─────  0⎥\n",
       "⎢n + 1    n   n + 1    n   n + 1    n     n + 1           n + 1   ⎥\n",
       "⎢                                                                 ⎥\n",
       "⎣     1            1            1            1           1       1⎦"
      ]
     },
     "execution_count": 16,
     "metadata": {},
     "output_type": "execute_result"
    }
   ],
   "source": [
    "A"
   ]
  },
  {
   "cell_type": "code",
   "execution_count": 18,
   "metadata": {},
   "outputs": [
    {
     "data": {
      "text/latex": [
       "$$\\left ( \\left[\\begin{matrix}1 & 0 & 0 & 0 & 0 & 0\\\\0 & 1 & 0 & 0 & 0 & 0\\\\0 & 0 & 1 & 0 & 0 & 0\\\\0 & 0 & 0 & 1 & 0 & 0\\\\0 & 0 & 0 & 0 & 1 & 0\\end{matrix}\\right], \\quad \\left ( 0, \\quad 1, \\quad 2, \\quad 3, \\quad 4\\right )\\right )$$"
      ],
      "text/plain": [
       "⎛⎡1  0  0  0  0  0⎤                 ⎞\n",
       "⎜⎢                ⎥                 ⎟\n",
       "⎜⎢0  1  0  0  0  0⎥                 ⎟\n",
       "⎜⎢                ⎥                 ⎟\n",
       "⎜⎢0  0  1  0  0  0⎥, (0, 1, 2, 3, 4)⎟\n",
       "⎜⎢                ⎥                 ⎟\n",
       "⎜⎢0  0  0  1  0  0⎥                 ⎟\n",
       "⎜⎢                ⎥                 ⎟\n",
       "⎝⎣0  0  0  0  1  0⎦                 ⎠"
      ]
     },
     "execution_count": 18,
     "metadata": {},
     "output_type": "execute_result"
    }
   ],
   "source": [
    "temp.rref()\n",
    "# temp.eigenvects()\n",
    "# temp.nullspace()"
   ]
  },
  {
   "cell_type": "code",
   "execution_count": 17,
   "metadata": {},
   "outputs": [
    {
     "data": {
      "text/latex": [
       "$$\\left ( \\left[\\begin{matrix}1 & 0 & 0 & 0 & 0 & 0\\\\0 & 1 & 0 & 0 & 0 & 0\\\\0 & 0 & 1 & 0 & 0 & 0\\\\0 & 0 & 0 & 1 & 0 & 0\\\\0 & 0 & 0 & 0 & 1 & 0\\\\0 & 0 & 0 & 0 & 0 & 1\\end{matrix}\\right], \\quad \\left ( 0, \\quad 1, \\quad 2, \\quad 3, \\quad 4, \\quad 5\\right )\\right )$$"
      ],
      "text/plain": [
       "⎛⎡1  0  0  0  0  0⎤                    ⎞\n",
       "⎜⎢                ⎥                    ⎟\n",
       "⎜⎢0  1  0  0  0  0⎥                    ⎟\n",
       "⎜⎢                ⎥                    ⎟\n",
       "⎜⎢0  0  1  0  0  0⎥                    ⎟\n",
       "⎜⎢                ⎥, (0, 1, 2, 3, 4, 5)⎟\n",
       "⎜⎢0  0  0  1  0  0⎥                    ⎟\n",
       "⎜⎢                ⎥                    ⎟\n",
       "⎜⎢0  0  0  0  1  0⎥                    ⎟\n",
       "⎜⎢                ⎥                    ⎟\n",
       "⎝⎣0  0  0  0  0  1⎦                    ⎠"
      ]
     },
     "execution_count": 17,
     "metadata": {},
     "output_type": "execute_result"
    }
   ],
   "source": [
    "A.rref()"
   ]
  },
  {
   "cell_type": "markdown",
   "metadata": {},
   "source": [
    "## I don't know why this formula cannot find solution!!"
   ]
  },
  {
   "cell_type": "code",
   "execution_count": 19,
   "metadata": {},
   "outputs": [
    {
     "data": {
      "text/latex": [
       "$$\\left[\\begin{matrix}-1 & \\frac{δ}{n} & \\frac{δ}{n} & 0 & \\frac{δ - 1}{n + 1}\\\\\\frac{δ}{n} & -1 & \\frac{δ}{n} & 0 & \\frac{δ - 1}{n + 1}\\\\\\frac{δ}{n} & \\frac{δ}{n} & -1 & 0 & \\frac{δ - 1}{n + 1}\\\\\\frac{δ}{n} & \\frac{δ}{n} & \\frac{δ}{n} & -1 & \\frac{δ - 1}{\\left(n + 1\\right) \\left(- δ + 1\\right)}\\end{matrix}\\right]$$"
      ],
      "text/plain": [
       "⎡    δ   δ            δ - 1      ⎤\n",
       "⎢-1  ─   ─   0        ─────      ⎥\n",
       "⎢    n   n            n + 1      ⎥\n",
       "⎢                                ⎥\n",
       "⎢δ       δ            δ - 1      ⎥\n",
       "⎢─   -1  ─   0        ─────      ⎥\n",
       "⎢n       n            n + 1      ⎥\n",
       "⎢                                ⎥\n",
       "⎢δ   δ                δ - 1      ⎥\n",
       "⎢─   ─   -1  0        ─────      ⎥\n",
       "⎢n   n                n + 1      ⎥\n",
       "⎢                                ⎥\n",
       "⎢δ   δ   δ            δ - 1      ⎥\n",
       "⎢─   ─   ─   -1  ────────────────⎥\n",
       "⎣n   n   n       (n + 1)⋅(-δ + 1)⎦"
      ]
     },
     "execution_count": 19,
     "metadata": {},
     "output_type": "execute_result"
    }
   ],
   "source": [
    "n = Symbol('n')\n",
    "#dn = Symbol('1/n')\n",
    "delta = Symbol('\\u03B4') # unicode delta : \\u03B4\n",
    "N = 4\n",
    "M = (1/n)*Matrix([[0,1,1, 0], [1,0,1,0], [1,1,0,0],[1,1,1,0]])\n",
    "temp = delta*M - eye(N)\n",
    "\n",
    "# S = (1/(n+1))*Matrix([[1, 1, 1, 1/(1-delta)], [1, 1, 1, 1/(1-delta)], [1, 1, 1, 1/(1-delta)], [1, 1, 1, 1]])\n",
    "Svector =  -(1- delta)*(1/(n+1))*Matrix([1,1,1,1/(1-delta)])\n",
    "# temp = temp.col_insert(N, Svector)\n",
    "# A = temp.row_insert(N,Matrix([[1,1,1,1]]))\n",
    "temp = temp.col_insert(N, Svector)\n",
    "temp"
   ]
  },
  {
   "cell_type": "code",
   "execution_count": 20,
   "metadata": {},
   "outputs": [
    {
     "data": {
      "text/latex": [
       "$$\\left[\\begin{matrix}\\frac{- \\left(\\left(1 - \\frac{δ^{2}}{n^{2}}\\right) \\left(- \\frac{δ - 1}{n + 1} - \\frac{δ \\left(δ - 1\\right)}{n \\left(n + 1\\right)}\\right) - \\left(- \\frac{δ}{n} - \\frac{δ^{2}}{n^{2}}\\right) \\left(- \\frac{δ - 1}{n + 1} - \\frac{δ \\left(δ - 1\\right)}{n \\left(n + 1\\right)}\\right)\\right) \\left(\\frac{δ \\left(1 - \\frac{δ^{2}}{n^{2}}\\right)}{n} - \\frac{δ \\left(- \\frac{δ}{n} - \\frac{δ^{2}}{n^{2}}\\right)}{n}\\right) + \\left(\\frac{\\left(1 - \\frac{δ^{2}}{n^{2}}\\right) \\left(δ - 1\\right)}{n + 1} - \\frac{δ \\left(- \\frac{δ - 1}{n + 1} - \\frac{δ \\left(δ - 1\\right)}{n \\left(n + 1\\right)}\\right)}{n}\\right) \\left(\\left(1 - \\frac{δ^{2}}{n^{2}}\\right)^{2} - \\left(- \\frac{δ}{n} - \\frac{δ^{2}}{n^{2}}\\right)^{2}\\right)}{\\left(-1 + \\frac{δ^{2}}{n^{2}}\\right) \\left(\\left(1 - \\frac{δ^{2}}{n^{2}}\\right)^{2} - \\left(- \\frac{δ}{n} - \\frac{δ^{2}}{n^{2}}\\right)^{2}\\right)}\\\\\\frac{- \\left(- \\frac{δ}{n} - \\frac{δ^{2}}{n^{2}}\\right) \\left(\\left(1 - \\frac{δ^{2}}{n^{2}}\\right) \\left(- \\frac{δ - 1}{n + 1} - \\frac{δ \\left(δ - 1\\right)}{n \\left(n + 1\\right)}\\right) - \\left(- \\frac{δ}{n} - \\frac{δ^{2}}{n^{2}}\\right) \\left(- \\frac{δ - 1}{n + 1} - \\frac{δ \\left(δ - 1\\right)}{n \\left(n + 1\\right)}\\right)\\right) + \\left(- \\frac{δ - 1}{n + 1} - \\frac{δ \\left(δ - 1\\right)}{n \\left(n + 1\\right)}\\right) \\left(\\left(1 - \\frac{δ^{2}}{n^{2}}\\right)^{2} - \\left(- \\frac{δ}{n} - \\frac{δ^{2}}{n^{2}}\\right)^{2}\\right)}{\\left(1 - \\frac{δ^{2}}{n^{2}}\\right) \\left(\\left(1 - \\frac{δ^{2}}{n^{2}}\\right)^{2} - \\left(- \\frac{δ}{n} - \\frac{δ^{2}}{n^{2}}\\right)^{2}\\right)}\\\\\\frac{\\left(1 - \\frac{δ^{2}}{n^{2}}\\right) \\left(- \\frac{δ - 1}{n + 1} - \\frac{δ \\left(δ - 1\\right)}{n \\left(n + 1\\right)}\\right) - \\left(- \\frac{δ}{n} - \\frac{δ^{2}}{n^{2}}\\right) \\left(- \\frac{δ - 1}{n + 1} - \\frac{δ \\left(δ - 1\\right)}{n \\left(n + 1\\right)}\\right)}{\\left(1 - \\frac{δ^{2}}{n^{2}}\\right)^{2} - \\left(- \\frac{δ}{n} - \\frac{δ^{2}}{n^{2}}\\right)^{2}}\\\\\\frac{- \\left(\\left(1 - \\frac{δ^{2}}{n^{2}}\\right) \\left(- \\frac{δ}{n} - \\frac{δ^{2}}{n^{2}}\\right) - \\left(- \\frac{δ}{n} - \\frac{δ^{2}}{n^{2}}\\right)^{2}\\right) \\left(\\left(1 - \\frac{δ^{2}}{n^{2}}\\right) \\left(- \\frac{δ - 1}{n + 1} - \\frac{δ \\left(δ - 1\\right)}{n \\left(n + 1\\right)}\\right) - \\left(- \\frac{δ}{n} - \\frac{δ^{2}}{n^{2}}\\right) \\left(- \\frac{δ - 1}{n + 1} - \\frac{δ \\left(δ - 1\\right)}{n \\left(n + 1\\right)}\\right)\\right) + \\left(\\left(1 - \\frac{δ^{2}}{n^{2}}\\right) \\left(- \\frac{δ - 1}{\\left(n + 1\\right) \\left(- δ + 1\\right)} - \\frac{δ \\left(δ - 1\\right)}{n \\left(n + 1\\right)}\\right) - \\left(- \\frac{δ}{n} - \\frac{δ^{2}}{n^{2}}\\right) \\left(- \\frac{δ - 1}{n + 1} - \\frac{δ \\left(δ - 1\\right)}{n \\left(n + 1\\right)}\\right)\\right) \\left(\\left(1 - \\frac{δ^{2}}{n^{2}}\\right)^{2} - \\left(- \\frac{δ}{n} - \\frac{δ^{2}}{n^{2}}\\right)^{2}\\right)}{\\left(1 - \\frac{δ^{2}}{n^{2}}\\right) \\left(\\left(1 - \\frac{δ^{2}}{n^{2}}\\right)^{2} - \\left(- \\frac{δ}{n} - \\frac{δ^{2}}{n^{2}}\\right)^{2}\\right)}\\end{matrix}\\right]$$"
      ],
      "text/plain": [
       "⎡                                                                             \n",
       "⎢                                                                             \n",
       "⎢                                                                             \n",
       "⎢                       ⎛⎛     2⎞                         ⎛       2⎞          \n",
       "⎢                       ⎜⎜    δ ⎟ ⎛  δ - 1   δ⋅(δ - 1)⎞   ⎜  δ   δ ⎟ ⎛  δ - 1 \n",
       "⎢                     - ⎜⎜1 - ──⎟⋅⎜- ───── - ─────────⎟ - ⎜- ─ - ──⎟⋅⎜- ───── \n",
       "⎢                       ⎜⎜     2⎟ ⎝  n + 1   n⋅(n + 1)⎠   ⎜  n    2⎟ ⎝  n + 1 \n",
       "⎢                       ⎝⎝    n ⎠                         ⎝      n ⎠          \n",
       "⎢                     ────────────────────────────────────────────────────────\n",
       "⎢                                                                             \n",
       "⎢                                                                             \n",
       "⎢                                                                             \n",
       "⎢                                                                             \n",
       "⎢                                                                             \n",
       "⎢                                                                             \n",
       "⎢                                                                             \n",
       "⎢                                                                             \n",
       "⎢                                           ⎛       2⎞ ⎛⎛     2⎞              \n",
       "⎢                                           ⎜  δ   δ ⎟ ⎜⎜    δ ⎟ ⎛  δ - 1   δ⋅\n",
       "⎢                                         - ⎜- ─ - ──⎟⋅⎜⎜1 - ──⎟⋅⎜- ───── - ──\n",
       "⎢                                           ⎜  n    2⎟ ⎜⎜     2⎟ ⎝  n + 1   n⋅\n",
       "⎢                                           ⎝      n ⎠ ⎝⎝    n ⎠              \n",
       "⎢                                         ────────────────────────────────────\n",
       "⎢                                                                             \n",
       "⎢                                                                             \n",
       "⎢                                                                             \n",
       "⎢                                                                             \n",
       "⎢                                                                             \n",
       "⎢                                                                             \n",
       "⎢                                                                             \n",
       "⎢                                                                         ⎛   \n",
       "⎢                                                                         ⎜   \n",
       "⎢                                                                         ⎜1 -\n",
       "⎢                                                                         ⎜   \n",
       "⎢                                                                         ⎝   \n",
       "⎢                                                                         ────\n",
       "⎢                                                                             \n",
       "⎢                                                                             \n",
       "⎢                                                                             \n",
       "⎢                                                                             \n",
       "⎢                                                                             \n",
       "⎢                                                                             \n",
       "⎢                                                                             \n",
       "⎢  ⎛                                2⎞                                        \n",
       "⎢  ⎜⎛     2⎞ ⎛       2⎞   ⎛       2⎞ ⎟ ⎛⎛     2⎞                         ⎛    \n",
       "⎢  ⎜⎜    δ ⎟ ⎜  δ   δ ⎟   ⎜  δ   δ ⎟ ⎟ ⎜⎜    δ ⎟ ⎛  δ - 1   δ⋅(δ - 1)⎞   ⎜  δ \n",
       "⎢- ⎜⎜1 - ──⎟⋅⎜- ─ - ──⎟ - ⎜- ─ - ──⎟ ⎟⋅⎜⎜1 - ──⎟⋅⎜- ───── - ─────────⎟ - ⎜- ─ \n",
       "⎢  ⎜⎜     2⎟ ⎜  n    2⎟   ⎜  n    2⎟ ⎟ ⎜⎜     2⎟ ⎝  n + 1   n⋅(n + 1)⎠   ⎜  n \n",
       "⎢  ⎝⎝    n ⎠ ⎝      n ⎠   ⎝      n ⎠ ⎠ ⎝⎝    n ⎠                         ⎝    \n",
       "⎢─────────────────────────────────────────────────────────────────────────────\n",
       "⎢                                                                             \n",
       "⎢                                                                             \n",
       "⎢                                                                             \n",
       "⎢                                                                             \n",
       "⎢                                                                             \n",
       "⎣                                                                             \n",
       "\n",
       "              ⎛  ⎛     2⎞     ⎛       2⎞⎞   ⎛⎛     2⎞                         \n",
       "              ⎜  ⎜    δ ⎟     ⎜  δ   δ ⎟⎟   ⎜⎜    δ ⎟                         \n",
       "              ⎜δ⋅⎜1 - ──⎟   δ⋅⎜- ─ - ──⎟⎟   ⎜⎜1 - ──⎟⋅(δ - 1)     ⎛  δ - 1   δ\n",
       "            ⎞ ⎜  ⎜     2⎟     ⎜  n    2⎟⎟   ⎜⎜     2⎟           δ⋅⎜- ───── - ─\n",
       "  δ⋅(δ - 1)⎞⎟ ⎜  ⎝    n ⎠     ⎝      n ⎠⎟   ⎜⎝    n ⎠             ⎝  n + 1   n\n",
       "- ─────────⎟⎟⋅⎜────────── - ────────────⎟ + ⎜──────────────── - ──────────────\n",
       "  n⋅(n + 1)⎠⎟ ⎝    n             n      ⎠   ⎝     n + 1                    n  \n",
       "            ⎠                                                                 \n",
       "──────────────────────────────────────────────────────────────────────────────\n",
       "                     ⎛        2             2⎞                                \n",
       "           ⎛      2⎞ ⎜⎛     2⎞    ⎛       2⎞ ⎟                                \n",
       "           ⎜     δ ⎟ ⎜⎜    δ ⎟    ⎜  δ   δ ⎟ ⎟                                \n",
       "           ⎜-1 + ──⎟⋅⎜⎜1 - ──⎟  - ⎜- ─ - ──⎟ ⎟                                \n",
       "           ⎜      2⎟ ⎜⎜     2⎟    ⎜  n    2⎟ ⎟                                \n",
       "           ⎝     n ⎠ ⎝⎝    n ⎠    ⎝      n ⎠ ⎠                                \n",
       "                                                                              \n",
       "                                                                     ⎛        \n",
       "           ⎛       2⎞                      ⎞                         ⎜⎛     2⎞\n",
       "(δ - 1)⎞   ⎜  δ   δ ⎟ ⎛  δ - 1   δ⋅(δ - 1)⎞⎟   ⎛  δ - 1   δ⋅(δ - 1)⎞ ⎜⎜    δ ⎟\n",
       "───────⎟ - ⎜- ─ - ──⎟⋅⎜- ───── - ─────────⎟⎟ + ⎜- ───── - ─────────⎟⋅⎜⎜1 - ──⎟\n",
       "(n + 1)⎠   ⎜  n    2⎟ ⎝  n + 1   n⋅(n + 1)⎠⎟   ⎝  n + 1   n⋅(n + 1)⎠ ⎜⎜     2⎟\n",
       "           ⎝      n ⎠                      ⎠                         ⎝⎝    n ⎠\n",
       "──────────────────────────────────────────────────────────────────────────────\n",
       "                     ⎛        2             2⎞                                \n",
       "            ⎛     2⎞ ⎜⎛     2⎞    ⎛       2⎞ ⎟                                \n",
       "            ⎜    δ ⎟ ⎜⎜    δ ⎟    ⎜  δ   δ ⎟ ⎟                                \n",
       "            ⎜1 - ──⎟⋅⎜⎜1 - ──⎟  - ⎜- ─ - ──⎟ ⎟                                \n",
       "            ⎜     2⎟ ⎜⎜     2⎟    ⎜  n    2⎟ ⎟                                \n",
       "            ⎝    n ⎠ ⎝⎝    n ⎠    ⎝      n ⎠ ⎠                                \n",
       "                                                                              \n",
       "  2⎞                         ⎛       2⎞                                       \n",
       " δ ⎟ ⎛  δ - 1   δ⋅(δ - 1)⎞   ⎜  δ   δ ⎟ ⎛  δ - 1   δ⋅(δ - 1)⎞                 \n",
       " ──⎟⋅⎜- ───── - ─────────⎟ - ⎜- ─ - ──⎟⋅⎜- ───── - ─────────⎟                 \n",
       "  2⎟ ⎝  n + 1   n⋅(n + 1)⎠   ⎜  n    2⎟ ⎝  n + 1   n⋅(n + 1)⎠                 \n",
       " n ⎠                         ⎝      n ⎠                                       \n",
       "─────────────────────────────────────────────────────────────                 \n",
       "                         2             2                                      \n",
       "                 ⎛     2⎞    ⎛       2⎞                                       \n",
       "                 ⎜    δ ⎟    ⎜  δ   δ ⎟                                       \n",
       "                 ⎜1 - ──⎟  - ⎜- ─ - ──⎟                                       \n",
       "                 ⎜     2⎟    ⎜  n    2⎟                                       \n",
       "                 ⎝    n ⎠    ⎝      n ⎠                                       \n",
       "                                                                              \n",
       "                                                                              \n",
       "   2⎞                      ⎞   ⎛⎛     2⎞                                    ⎛ \n",
       "  δ ⎟ ⎛  δ - 1   δ⋅(δ - 1)⎞⎟   ⎜⎜    δ ⎟ ⎛       δ - 1         δ⋅(δ - 1)⎞   ⎜ \n",
       "- ──⎟⋅⎜- ───── - ─────────⎟⎟ + ⎜⎜1 - ──⎟⋅⎜- ──────────────── - ─────────⎟ - ⎜-\n",
       "   2⎟ ⎝  n + 1   n⋅(n + 1)⎠⎟   ⎜⎜     2⎟ ⎝  (n + 1)⋅(-δ + 1)   n⋅(n + 1)⎠   ⎜ \n",
       "  n ⎠                      ⎠   ⎝⎝    n ⎠                                    ⎝ \n",
       "──────────────────────────────────────────────────────────────────────────────\n",
       "                     ⎛        2             2⎞                                \n",
       "            ⎛     2⎞ ⎜⎛     2⎞    ⎛       2⎞ ⎟                                \n",
       "            ⎜    δ ⎟ ⎜⎜    δ ⎟    ⎜  δ   δ ⎟ ⎟                                \n",
       "            ⎜1 - ──⎟⋅⎜⎜1 - ──⎟  - ⎜- ─ - ──⎟ ⎟                                \n",
       "            ⎜     2⎟ ⎜⎜     2⎟    ⎜  n    2⎟ ⎟                                \n",
       "            ⎝    n ⎠ ⎝⎝    n ⎠    ⎝      n ⎠ ⎠                                \n",
       "\n",
       "         ⎞                                               ⎤\n",
       "         ⎟                                               ⎥\n",
       "⋅(δ - 1)⎞⎟ ⎛        2             2⎞                     ⎥\n",
       "────────⎟⎟ ⎜⎛     2⎞    ⎛       2⎞ ⎟                     ⎥\n",
       "⋅(n + 1)⎠⎟ ⎜⎜    δ ⎟    ⎜  δ   δ ⎟ ⎟                     ⎥\n",
       "─────────⎟⋅⎜⎜1 - ──⎟  - ⎜- ─ - ──⎟ ⎟                     ⎥\n",
       "         ⎠ ⎜⎜     2⎟    ⎜  n    2⎟ ⎟                     ⎥\n",
       "           ⎝⎝    n ⎠    ⎝      n ⎠ ⎠                     ⎥\n",
       "────────────────────────────────────                     ⎥\n",
       "                                                         ⎥\n",
       "                                                         ⎥\n",
       "                                                         ⎥\n",
       "                                                         ⎥\n",
       "                                                         ⎥\n",
       "                                                         ⎥\n",
       "                                                         ⎥\n",
       "2             2⎞                                         ⎥\n",
       "    ⎛       2⎞ ⎟                                         ⎥\n",
       "    ⎜  δ   δ ⎟ ⎟                                         ⎥\n",
       "  - ⎜- ─ - ──⎟ ⎟                                         ⎥\n",
       "    ⎜  n    2⎟ ⎟                                         ⎥\n",
       "    ⎝      n ⎠ ⎠                                         ⎥\n",
       "────────────────                                         ⎥\n",
       "                                                         ⎥\n",
       "                                                         ⎥\n",
       "                                                         ⎥\n",
       "                                                         ⎥\n",
       "                                                         ⎥\n",
       "                                                         ⎥\n",
       "                                                         ⎥\n",
       "                                                         ⎥\n",
       "                                                         ⎥\n",
       "                                                         ⎥\n",
       "                                                         ⎥\n",
       "                                                         ⎥\n",
       "                                                         ⎥\n",
       "                                                         ⎥\n",
       "                                                         ⎥\n",
       "                                                         ⎥\n",
       "                                                         ⎥\n",
       "                                                         ⎥\n",
       "                                                         ⎥\n",
       "                                                         ⎥\n",
       "                                ⎛        2             2⎞⎥\n",
       "      2⎞                      ⎞ ⎜⎛     2⎞    ⎛       2⎞ ⎟⎥\n",
       " δ   δ ⎟ ⎛  δ - 1   δ⋅(δ - 1)⎞⎟ ⎜⎜    δ ⎟    ⎜  δ   δ ⎟ ⎟⎥\n",
       " ─ - ──⎟⋅⎜- ───── - ─────────⎟⎟⋅⎜⎜1 - ──⎟  - ⎜- ─ - ──⎟ ⎟⎥\n",
       " n    2⎟ ⎝  n + 1   n⋅(n + 1)⎠⎟ ⎜⎜     2⎟    ⎜  n    2⎟ ⎟⎥\n",
       "     n ⎠                      ⎠ ⎝⎝    n ⎠    ⎝      n ⎠ ⎠⎥\n",
       "─────────────────────────────────────────────────────────⎥\n",
       "                                                         ⎥\n",
       "                                                         ⎥\n",
       "                                                         ⎥\n",
       "                                                         ⎥\n",
       "                                                         ⎥\n",
       "                                                         ⎦"
      ]
     },
     "execution_count": 20,
     "metadata": {},
     "output_type": "execute_result"
    }
   ],
   "source": [
    "# temp.rref()\n",
    "result = temp.rref()\n",
    "result[0].col(-1)"
   ]
  },
  {
   "cell_type": "markdown",
   "metadata": {},
   "source": [
    "### Q2: Random Walk with Restart"
   ]
  },
  {
   "cell_type": "markdown",
   "metadata": {},
   "source": [
    "> (a)"
   ]
  },
  {
   "cell_type": "code",
   "execution_count": 26,
   "metadata": {},
   "outputs": [
    {
     "data": {
      "text/latex": [
       "$$\\left[\\begin{matrix}0 & 0 & 0 & 0.5 & 0\\\\0 & 0 & 0 & 0 & 1\\\\0.333333333333333 & 1 & 0 & 0.5 & 0\\\\0.333333333333333 & 0 & 0 & 0 & 0\\\\0.333333333333333 & 0 & 1 & 0 & 0\\end{matrix}\\right]$$"
      ],
      "text/plain": [
       "⎡        0          0  0  0.5  0⎤\n",
       "⎢                               ⎥\n",
       "⎢        0          0  0   0   1⎥\n",
       "⎢                               ⎥\n",
       "⎢0.333333333333333  1  0  0.5  0⎥\n",
       "⎢                               ⎥\n",
       "⎢0.333333333333333  0  0   0   0⎥\n",
       "⎢                               ⎥\n",
       "⎣0.333333333333333  0  1   0   0⎦"
      ]
     },
     "execution_count": 26,
     "metadata": {},
     "output_type": "execute_result"
    }
   ],
   "source": [
    "delta = 0.8\n",
    "N = 5\n",
    "M = Matrix([[0,0,0,1/2,0], [0,0,0,0,1], [1/3,1,0,1/2,0], [1/3,0,0,0,0], [1/3,0,1,0,0]])\n",
    "# S = Matrix([[1/N, 1/N, 1/N], [0, 0, 0], [0, 0, 0]])\n",
    "# temp = delta*M + (1- delta)*S - eye(3)\n",
    "M"
   ]
  },
  {
   "cell_type": "code",
   "execution_count": 27,
   "metadata": {},
   "outputs": [
    {
     "data": {
      "text/latex": [
       "$$\\left[\\begin{matrix}-1 & 0 & 0 & 0.4 & 0 & -0.2\\\\0 & -1 & 0 & 0 & 0.8 & 0\\\\0.266666666666667 & 0.8 & -1 & 0.4 & 0 & 0\\\\0.266666666666667 & 0 & 0 & -1 & 0 & 0\\\\0.266666666666667 & 0 & 0.8 & 0 & -1 & 0\\end{matrix}\\right]$$"
      ],
      "text/plain": [
       "⎡       -1           0    0   0.4   0   -0.2⎤\n",
       "⎢                                           ⎥\n",
       "⎢        0          -1    0    0   0.8   0  ⎥\n",
       "⎢                                           ⎥\n",
       "⎢0.266666666666667  0.8  -1   0.4   0    0  ⎥\n",
       "⎢                                           ⎥\n",
       "⎢0.266666666666667   0    0   -1    0    0  ⎥\n",
       "⎢                                           ⎥\n",
       "⎣0.266666666666667   0   0.8   0   -1    0  ⎦"
      ]
     },
     "execution_count": 27,
     "metadata": {},
     "output_type": "execute_result"
    }
   ],
   "source": [
    "temp = delta*M - eye(N)\n",
    "Svector =  -(1- delta)*Matrix([1,0,0,0,0])\n",
    "A = temp.col_insert(N, Svector)\n",
    "# A = A.row_insert(N,Matrix([[1,1,1,1,1,1]]))\n",
    "A"
   ]
  },
  {
   "cell_type": "code",
   "execution_count": 28,
   "metadata": {},
   "outputs": [
    {
     "data": {
      "text/latex": [
       "$$\\left ( \\left[\\begin{matrix}1 & 0 & 0 & 0 & 0 & 0.223880597014925\\\\0 & 1 & 0 & 0 & 0 & 0.207487154391975\\\\0 & 0 & 1 & 0 & 0 & 0.249571813065818\\\\0 & 0 & 0 & 1 & 0 & 0.0597014925373134\\\\0 & 0 & 0 & 0 & 1 & 0.259358942989968\\end{matrix}\\right], \\quad \\left ( 0, \\quad 1, \\quad 2, \\quad 3, \\quad 4\\right )\\right )$$"
      ],
      "text/plain": [
       "⎛⎡1  0  0  0  0  0.223880597014925 ⎤                 ⎞\n",
       "⎜⎢                                 ⎥                 ⎟\n",
       "⎜⎢0  1  0  0  0  0.207487154391975 ⎥                 ⎟\n",
       "⎜⎢                                 ⎥                 ⎟\n",
       "⎜⎢0  0  1  0  0  0.249571813065818 ⎥, (0, 1, 2, 3, 4)⎟\n",
       "⎜⎢                                 ⎥                 ⎟\n",
       "⎜⎢0  0  0  1  0  0.0597014925373134⎥                 ⎟\n",
       "⎜⎢                                 ⎥                 ⎟\n",
       "⎝⎣0  0  0  0  1  0.259358942989968 ⎦                 ⎠"
      ]
     },
     "execution_count": 28,
     "metadata": {},
     "output_type": "execute_result"
    }
   ],
   "source": [
    "A.rref()"
   ]
  },
  {
   "cell_type": "code",
   "execution_count": 29,
   "metadata": {},
   "outputs": [
    {
     "data": {
      "text/latex": [
       "$$\\left[\\begin{matrix}0.223880597014925\\\\0.207487154391975\\\\0.249571813065818\\\\0.0597014925373134\\\\0.259358942989968\\end{matrix}\\right]$$"
      ],
      "text/plain": [
       "⎡0.223880597014925 ⎤\n",
       "⎢                  ⎥\n",
       "⎢0.207487154391975 ⎥\n",
       "⎢                  ⎥\n",
       "⎢0.249571813065818 ⎥\n",
       "⎢                  ⎥\n",
       "⎢0.0597014925373134⎥\n",
       "⎢                  ⎥\n",
       "⎣0.259358942989968 ⎦"
      ]
     },
     "execution_count": 29,
     "metadata": {},
     "output_type": "execute_result"
    }
   ],
   "source": [
    "result = A.rref()\n",
    "result[0].col(-1)"
   ]
  },
  {
   "cell_type": "code",
   "execution_count": 30,
   "metadata": {},
   "outputs": [
    {
     "name": "stdout",
     "output_type": "stream",
     "text": [
      "iteration 0 ...\n",
      "distance =  0.1959591790982077\n",
      "iteration 1 ...\n",
      "distance =  0.13428990262607193\n",
      "iteration 2 ...\n",
      "distance =  0.1061820107530088\n",
      "iteration 3 ...\n",
      "distance =  0.08120179044462032\n",
      "iteration 4 ...\n",
      "distance =  0.06414214898940802\n",
      "iteration 5 ...\n",
      "distance =  0.05110483292183438\n",
      "iteration 6 ...\n",
      "distance =  0.040818601722857284\n",
      "iteration 7 ...\n",
      "distance =  0.03270515495237641\n",
      "iteration 8 ...\n",
      "distance =  0.02617749705553816\n",
      "iteration 9 ...\n",
      "distance =  0.020938730573909485\n",
      "iteration 10 ...\n",
      "distance =  0.016750246561777392\n",
      "iteration 11 ...\n",
      "distance =  0.013399969208182917\n",
      "iteration 12 ...\n",
      "distance =  0.01071990098028898\n",
      "iteration 13 ...\n",
      "distance =  0.008575982194037114\n",
      "iteration 14 ...\n",
      "distance =  0.006860802068822044\n",
      "iteration 15 ...\n",
      "distance =  0.005488637697694913\n",
      "iteration 16 ...\n",
      "distance =  0.004390909264086185\n",
      "iteration 17 ...\n",
      "distance =  0.0035127271346550456\n",
      "iteration 18 ...\n",
      "distance =  0.00281018161747374\n",
      "iteration 19 ...\n",
      "distance =  0.0022481453685100094\n",
      "iteration 20 ...\n",
      "distance =  0.0017985163146071528\n",
      "iteration 21 ...\n",
      "distance =  0.0014388130468829686\n",
      "iteration 22 ...\n",
      "distance =  0.0011510504364213873\n",
      "iteration 23 ...\n",
      "distance =  0.0009208403488014078\n",
      "iteration 24 ...\n",
      "distance =  0.0007366722789315902\n",
      "iteration 25 ...\n",
      "distance =  0.0005893378232357625\n",
      "iteration 26 ...\n",
      "distance =  0.0004714702586126442\n",
      "iteration 27 ...\n",
      "distance =  0.00037717620688426147\n",
      "iteration 28 ...\n",
      "distance =  0.00030174096550604826\n",
      "iteration 29 ...\n",
      "distance =  0.00024139277240441126\n",
      "iteration 30 ...\n",
      "distance =  0.00019311421792340643\n",
      "iteration 31 ...\n",
      "distance =  0.00015449137433883546\n",
      "iteration 32 ...\n",
      "distance =  0.00012359309947112778\n",
      "iteration 33 ...\n",
      "distance =  9.887447957688835e-05\n",
      "iteration 34 ...\n",
      "distance =  7.909958366146411e-05\n",
      "iteration 35 ...\n",
      "distance =  6.327966692913825e-05\n",
      "iteration 36 ...\n",
      "distance =  5.062373354332146e-05\n",
      "iteration 37 ...\n",
      "distance =  4.0498986834669513e-05\n",
      "iteration 38 ...\n",
      "distance =  3.2399189467720084e-05\n",
      "iteration 39 ...\n",
      "distance =  2.5919351574168223e-05\n",
      "iteration 40 ...\n",
      "distance =  2.073548125931088e-05\n",
      "iteration 41 ...\n",
      "distance =  1.6588385007449036e-05\n",
      "iteration 42 ...\n",
      "distance =  1.3270708005947542e-05\n",
      "iteration 43 ...\n",
      "distance =  1.061656640478574e-05\n",
      "iteration 44 ...\n",
      "distance =  8.493253123808565e-06\n",
      "iteration 45 ...\n",
      "distance =  6.7946024990642305e-06\n",
      "iteration 46 ...\n",
      "distance =  5.435681999263401e-06\n",
      "iteration 47 ...\n",
      "distance =  4.348545599379174e-06\n",
      "iteration 48 ...\n",
      "distance =  3.478836479494501e-06\n",
      "iteration 49 ...\n",
      "distance =  2.783069183606458e-06\n",
      "iteration 50 ...\n",
      "distance =  2.2264553468966862e-06\n",
      "iteration 51 ...\n",
      "distance =  1.781164277533536e-06\n",
      "iteration 52 ...\n",
      "distance =  1.4249314220582098e-06\n",
      "iteration 53 ...\n",
      "distance =  1.139945137666429e-06\n",
      "iteration 54 ...\n",
      "distance =  9.119561101523425e-07\n",
      "iteration 55 ...\n",
      "distance =  7.295648881145254e-07\n",
      "iteration 56 ...\n",
      "distance =  5.836519104876149e-07\n",
      "iteration 57 ...\n",
      "distance =  4.6692152837072714e-07\n",
      "iteration 58 ...\n",
      "distance =  3.735372226847311e-07\n",
      "iteration 59 ...\n",
      "distance =  2.9882977815212127e-07\n",
      "iteration 60 ...\n",
      "distance =  2.390638225230211e-07\n",
      "iteration 61 ...\n",
      "distance =  1.9125105799120687e-07\n",
      "iteration 62 ...\n",
      "distance =  1.5300084640014867e-07\n",
      "iteration 63 ...\n",
      "distance =  1.2240067712044994e-07\n",
      "iteration 64 ...\n",
      "distance =  9.792054170721749e-08\n",
      "iteration 65 ...\n",
      "distance =  7.833643339798246e-08\n",
      "iteration 66 ...\n",
      "distance =  6.266914670752844e-08\n",
      "iteration 67 ...\n",
      "distance =  5.0135317322956766e-08\n",
      "iteration 68 ...\n",
      "distance =  4.010825385018916e-08\n",
      "iteration 69 ...\n",
      "distance =  3.2086603068631755e-08\n",
      "iteration 70 ...\n",
      "distance =  2.566928246241961e-08\n",
      "iteration 71 ...\n",
      "distance =  2.05354259537487e-08\n",
      "iteration 72 ...\n",
      "distance =  1.6428340749824276e-08\n",
      "iteration 73 ...\n",
      "distance =  1.3142672623064079e-08\n",
      "iteration 74 ...\n",
      "distance =  1.0514138091930125e-08\n",
      "iteration 75 ...\n",
      "distance =  8.411310457026091e-09\n"
     ]
    }
   ],
   "source": [
    "# PageRank Algorithm\n",
    "M = np.array(M, dtype='f')\n",
    "N = 5\n",
    "delta = 0.8\n",
    "elipslion = 1e-8\n",
    "R = np.ones((N,1))*(1/N)\n",
    "#R = np.ones((N,1))\n",
    "# K = np.ones((N,1))*((1- delta)/N)\n",
    "K = np.zeros((N,1))\n",
    "K[0] = ((1- delta))\n",
    "# R = delta * np.matmul(M,prevR) + K\n",
    "iteration = 0\n",
    "distance = 100\n",
    "\n",
    "while distance > elipslion:\n",
    "    print(\"iteration\", iteration, \"...\")\n",
    "    prevR = R\n",
    "    R = delta * np.matmul(M,R) + K\n",
    "    iteration = iteration + 1\n",
    "    distance = np.linalg.norm(R-prevR)\n",
    "    print(\"distance = \",np.linalg.norm(R-prevR))\n",
    "    #print(R)"
   ]
  },
  {
   "cell_type": "code",
   "execution_count": 31,
   "metadata": {},
   "outputs": [
    {
     "data": {
      "text/plain": [
       "array([[0.2238806 ],\n",
       "       [0.20748716],\n",
       "       [0.24957182],\n",
       "       [0.05970149],\n",
       "       [0.25935895]])"
      ]
     },
     "execution_count": 31,
     "metadata": {},
     "output_type": "execute_result"
    }
   ],
   "source": [
    "R"
   ]
  },
  {
   "cell_type": "markdown",
   "metadata": {},
   "source": [
    ">(b)"
   ]
  },
  {
   "cell_type": "code",
   "execution_count": 32,
   "metadata": {},
   "outputs": [
    {
     "data": {
      "text/latex": [
       "$$\\left[\\begin{matrix}-1 & 0 & 0 & 0.4 & 0 & 0\\\\0 & -1 & 0 & 0 & 0.8 & 0\\\\0.266666666666667 & 0.8 & -1 & 0.4 & 0 & 0\\\\0.266666666666667 & 0 & 0 & -1 & 0 & -0.2\\\\0.266666666666667 & 0 & 0.8 & 0 & -1 & 0\\end{matrix}\\right]$$"
      ],
      "text/plain": [
       "⎡       -1           0    0   0.4   0    0  ⎤\n",
       "⎢                                           ⎥\n",
       "⎢        0          -1    0    0   0.8   0  ⎥\n",
       "⎢                                           ⎥\n",
       "⎢0.266666666666667  0.8  -1   0.4   0    0  ⎥\n",
       "⎢                                           ⎥\n",
       "⎢0.266666666666667   0    0   -1    0   -0.2⎥\n",
       "⎢                                           ⎥\n",
       "⎣0.266666666666667   0   0.8   0   -1    0  ⎦"
      ]
     },
     "execution_count": 32,
     "metadata": {},
     "output_type": "execute_result"
    }
   ],
   "source": [
    "delta = 0.8\n",
    "N = 5\n",
    "M = Matrix([[0,0,0,1/2,0], [0,0,0,0,1], [1/3,1,0,1/2,0], [1/3,0,0,0,0], [1/3,0,1,0,0]])\n",
    "temp = delta*M - eye(N)\n",
    "Svector =  -(1- delta)*Matrix([0,0,0,1,0])\n",
    "A = temp.col_insert(N, Svector)\n",
    "A"
   ]
  },
  {
   "cell_type": "code",
   "execution_count": 33,
   "metadata": {},
   "outputs": [
    {
     "data": {
      "text/latex": [
       "$$\\left ( \\left[\\begin{matrix}1 & 0 & 0 & 0 & 0 & 0.0895522388059701\\\\0 & 1 & 0 & 0 & 0 & 0.187912894543675\\\\0 & 0 & 1 & 0 & 0 & 0.263763151455836\\\\0 & 0 & 0 & 1 & 0 & 0.223880597014925\\\\0 & 0 & 0 & 0 & 1 & 0.234891118179594\\end{matrix}\\right], \\quad \\left ( 0, \\quad 1, \\quad 2, \\quad 3, \\quad 4\\right )\\right )$$"
      ],
      "text/plain": [
       "⎛⎡1  0  0  0  0  0.0895522388059701⎤                 ⎞\n",
       "⎜⎢                                 ⎥                 ⎟\n",
       "⎜⎢0  1  0  0  0  0.187912894543675 ⎥                 ⎟\n",
       "⎜⎢                                 ⎥                 ⎟\n",
       "⎜⎢0  0  1  0  0  0.263763151455836 ⎥, (0, 1, 2, 3, 4)⎟\n",
       "⎜⎢                                 ⎥                 ⎟\n",
       "⎜⎢0  0  0  1  0  0.223880597014925 ⎥                 ⎟\n",
       "⎜⎢                                 ⎥                 ⎟\n",
       "⎝⎣0  0  0  0  1  0.234891118179594 ⎦                 ⎠"
      ]
     },
     "execution_count": 33,
     "metadata": {},
     "output_type": "execute_result"
    }
   ],
   "source": [
    "A.rref()"
   ]
  },
  {
   "cell_type": "code",
   "execution_count": 34,
   "metadata": {},
   "outputs": [
    {
     "data": {
      "text/latex": [
       "$$\\left[\\begin{matrix}0.0895522388059701\\\\0.187912894543675\\\\0.263763151455836\\\\0.223880597014925\\\\0.234891118179594\\end{matrix}\\right]$$"
      ],
      "text/plain": [
       "⎡0.0895522388059701⎤\n",
       "⎢                  ⎥\n",
       "⎢0.187912894543675 ⎥\n",
       "⎢                  ⎥\n",
       "⎢0.263763151455836 ⎥\n",
       "⎢                  ⎥\n",
       "⎢0.223880597014925 ⎥\n",
       "⎢                  ⎥\n",
       "⎣0.234891118179594 ⎦"
      ]
     },
     "execution_count": 34,
     "metadata": {},
     "output_type": "execute_result"
    }
   ],
   "source": [
    "result = A.rref()\n",
    "result[0].col(-1)"
   ]
  },
  {
   "cell_type": "code",
   "execution_count": 35,
   "metadata": {},
   "outputs": [
    {
     "data": {
      "text/plain": [
       "1.0"
      ]
     },
     "execution_count": 35,
     "metadata": {},
     "output_type": "execute_result"
    }
   ],
   "source": [
    "result = A.rref()\n",
    "result = np.array(result[0].col(-1), dtype='f')\n",
    "result.sum()"
   ]
  },
  {
   "cell_type": "markdown",
   "metadata": {},
   "source": [
    "### Q3: topic sensitive PageRank"
   ]
  },
  {
   "cell_type": "markdown",
   "metadata": {},
   "source": [
    "(1)"
   ]
  },
  {
   "cell_type": "code",
   "execution_count": 36,
   "metadata": {
    "scrolled": true
   },
   "outputs": [
    {
     "data": {
      "text/latex": [
       "$$\\left[\\begin{matrix}-1 & 0.4 & 0.8 & 0 & -0.2\\\\0.266666666666667 & -1 & 0 & 0.4 & 0\\\\0.266666666666667 & 0 & -1 & 0.4 & 0\\\\0.266666666666667 & 0.4 & 0 & -1 & 0\\end{matrix}\\right]$$"
      ],
      "text/plain": [
       "⎡       -1          0.4  0.8   0   -0.2⎤\n",
       "⎢                                      ⎥\n",
       "⎢0.266666666666667  -1    0   0.4   0  ⎥\n",
       "⎢                                      ⎥\n",
       "⎢0.266666666666667   0   -1   0.4   0  ⎥\n",
       "⎢                                      ⎥\n",
       "⎣0.266666666666667  0.4   0   -1    0  ⎦"
      ]
     },
     "execution_count": 36,
     "metadata": {},
     "output_type": "execute_result"
    }
   ],
   "source": [
    "delta = 0.8\n",
    "N = 4\n",
    "M = Matrix([[0,1/2,1,0], [1/3,0,0,1/2], [1/3,0,0,1/2], [1/3,1/2,0,0]])\n",
    "temp = delta*M - eye(N)\n",
    "Svector =  -(1- delta)*Matrix([1,0,0,0])\n",
    "A = temp.col_insert(N, Svector)\n",
    "A"
   ]
  },
  {
   "cell_type": "code",
   "execution_count": 37,
   "metadata": {},
   "outputs": [
    {
     "data": {
      "text/latex": [
       "$$\\left[\\begin{matrix}0.428571428571429\\\\0.19047619047619\\\\0.19047619047619\\\\0.19047619047619\\end{matrix}\\right]$$"
      ],
      "text/plain": [
       "⎡0.428571428571429⎤\n",
       "⎢                 ⎥\n",
       "⎢0.19047619047619 ⎥\n",
       "⎢                 ⎥\n",
       "⎢0.19047619047619 ⎥\n",
       "⎢                 ⎥\n",
       "⎣0.19047619047619 ⎦"
      ]
     },
     "execution_count": 37,
     "metadata": {},
     "output_type": "execute_result"
    }
   ],
   "source": [
    "result = A.rref()\n",
    "result[0].col(-1)"
   ]
  },
  {
   "cell_type": "markdown",
   "metadata": {},
   "source": [
    "(2)"
   ]
  },
  {
   "cell_type": "code",
   "execution_count": 38,
   "metadata": {},
   "outputs": [
    {
     "data": {
      "text/latex": [
       "$$\\left[\\begin{matrix}0.385714285714286\\\\0.171428571428571\\\\0.271428571428571\\\\0.171428571428571\\end{matrix}\\right]$$"
      ],
      "text/plain": [
       "⎡0.385714285714286⎤\n",
       "⎢                 ⎥\n",
       "⎢0.171428571428571⎥\n",
       "⎢                 ⎥\n",
       "⎢0.271428571428571⎥\n",
       "⎢                 ⎥\n",
       "⎣0.171428571428571⎦"
      ]
     },
     "execution_count": 38,
     "metadata": {},
     "output_type": "execute_result"
    }
   ],
   "source": [
    "delta = 0.8\n",
    "N = 4\n",
    "M = Matrix([[0,1/2,1,0], [1/3,0,0,1/2], [1/3,0,0,1/2], [1/3,1/2,0,0]])\n",
    "temp = delta*M - eye(N)\n",
    "Svector =  -(1- delta)*Matrix([1/2,0,1/2,0])\n",
    "A = temp.col_insert(N, Svector)\n",
    "result = A.rref()\n",
    "result[0].col(-1)"
   ]
  },
  {
   "cell_type": "markdown",
   "metadata": {},
   "source": [
    "### Q4. HIT"
   ]
  },
  {
   "cell_type": "code",
   "execution_count": 48,
   "metadata": {},
   "outputs": [
    {
     "data": {
      "text/latex": [
       "$$\\left[\\begin{matrix}1 & 0 & 0 & 1 & 1\\\\0 & 1 & 0 & 1 & 1\\\\0 & 0 & 1 & 1 & 1\\\\0 & 0 & 0 & 1 & 0\\\\0 & 0 & 0 & 0 & 1\\end{matrix}\\right]$$"
      ],
      "text/plain": [
       "⎡1  0  0  1  1⎤\n",
       "⎢             ⎥\n",
       "⎢0  1  0  1  1⎥\n",
       "⎢             ⎥\n",
       "⎢0  0  1  1  1⎥\n",
       "⎢             ⎥\n",
       "⎢0  0  0  1  0⎥\n",
       "⎢             ⎥\n",
       "⎣0  0  0  0  1⎦"
      ]
     },
     "execution_count": 48,
     "metadata": {},
     "output_type": "execute_result"
    }
   ],
   "source": [
    "L = Matrix([[1,0,0,1,1], [0,1,0,1,1], [0,0,1,1,1], [0,0,0,1,0],[0,0,0,0,1]])\n",
    "L"
   ]
  },
  {
   "cell_type": "code",
   "execution_count": 39,
   "metadata": {},
   "outputs": [
    {
     "data": {
      "text/latex": [
       "$$\\left[\\begin{matrix}0.333333333333333 & 0 & 0 & 0 & 0\\\\0 & 0.333333333333333 & 0 & 0 & 0\\\\0 & 0 & 0.333333333333333 & 0 & 0\\\\0.333333333333333 & 0.333333333333333 & 0.333333333333333 & 1 & 0\\\\0.333333333333333 & 0.333333333333333 & 0.333333333333333 & 0 & 1\\end{matrix}\\right]$$"
      ],
      "text/plain": [
       "⎡0.333333333333333          0                  0          0  0⎤\n",
       "⎢                                                             ⎥\n",
       "⎢        0          0.333333333333333          0          0  0⎥\n",
       "⎢                                                             ⎥\n",
       "⎢        0                  0          0.333333333333333  0  0⎥\n",
       "⎢                                                             ⎥\n",
       "⎢0.333333333333333  0.333333333333333  0.333333333333333  1  0⎥\n",
       "⎢                                                             ⎥\n",
       "⎣0.333333333333333  0.333333333333333  0.333333333333333  0  1⎦"
      ]
     },
     "execution_count": 39,
     "metadata": {},
     "output_type": "execute_result"
    }
   ],
   "source": [
    "delta = 1\n",
    "N = 5\n",
    "M = Matrix([[1/3,0,0,0,0], [0,1/3,0,0,0], [0,0,1/3,0,0], [1/3,1/3,1/3,1,0],[1/3,1/3,1/3,0,1]])\n",
    "M"
   ]
  },
  {
   "cell_type": "code",
   "execution_count": 40,
   "metadata": {},
   "outputs": [
    {
     "data": {
      "text/latex": [
       "$$\\left[\\begin{matrix}-0.666666666666667 & 0 & 0 & 0 & 0 & 0\\\\0 & -0.666666666666667 & 0 & 0 & 0 & 0\\\\0 & 0 & -0.666666666666667 & 0 & 0 & 0\\\\0.333333333333333 & 0.333333333333333 & 0.333333333333333 & 0 & 0 & 0\\\\0.333333333333333 & 0.333333333333333 & 0.333333333333333 & 0 & 0 & 0\\\\1 & 1 & 1 & 1 & 1 & 1\\end{matrix}\\right]$$"
      ],
      "text/plain": [
       "⎡-0.666666666666667          0                   0           0  0  0⎤\n",
       "⎢                                                                   ⎥\n",
       "⎢        0           -0.666666666666667          0           0  0  0⎥\n",
       "⎢                                                                   ⎥\n",
       "⎢        0                   0           -0.666666666666667  0  0  0⎥\n",
       "⎢                                                                   ⎥\n",
       "⎢0.333333333333333   0.333333333333333   0.333333333333333   0  0  0⎥\n",
       "⎢                                                                   ⎥\n",
       "⎢0.333333333333333   0.333333333333333   0.333333333333333   0  0  0⎥\n",
       "⎢                                                                   ⎥\n",
       "⎣        1                   1                   1           1  1  1⎦"
      ]
     },
     "execution_count": 40,
     "metadata": {},
     "output_type": "execute_result"
    }
   ],
   "source": [
    "temp = delta*M - eye(N)\n",
    "Svector =  -(1- delta)*Matrix([1/N,1/N,1/N,1/N,1/N])\n",
    "A = temp.col_insert(N, Svector)\n",
    "A = A.row_insert(N,ones(1,N+1))\n",
    "A"
   ]
  },
  {
   "cell_type": "code",
   "execution_count": 41,
   "metadata": {},
   "outputs": [
    {
     "data": {
      "text/latex": [
       "$$\\left ( \\left[\\begin{matrix}1 & 0 & 0 & 0 & 0 & 0\\\\0 & 1 & 0 & 0 & 0 & 0\\\\0 & 0 & 1 & 0 & 0 & 0\\\\0 & 0 & 0 & 1 & 1.0 & 1.0\\\\0 & 0 & 0 & 0 & 0 & 0\\\\0 & 0 & 0 & 0 & 0 & 0\\end{matrix}\\right], \\quad \\left ( 0, \\quad 1, \\quad 2, \\quad 3\\right )\\right )$$"
      ],
      "text/plain": [
       "⎛⎡1  0  0  0   0    0 ⎤              ⎞\n",
       "⎜⎢                    ⎥              ⎟\n",
       "⎜⎢0  1  0  0   0    0 ⎥              ⎟\n",
       "⎜⎢                    ⎥              ⎟\n",
       "⎜⎢0  0  1  0   0    0 ⎥              ⎟\n",
       "⎜⎢                    ⎥, (0, 1, 2, 3)⎟\n",
       "⎜⎢0  0  0  1  1.0  1.0⎥              ⎟\n",
       "⎜⎢                    ⎥              ⎟\n",
       "⎜⎢0  0  0  0   0    0 ⎥              ⎟\n",
       "⎜⎢                    ⎥              ⎟\n",
       "⎝⎣0  0  0  0   0    0 ⎦              ⎠"
      ]
     },
     "execution_count": 41,
     "metadata": {},
     "output_type": "execute_result"
    }
   ],
   "source": [
    "result = A.rref()\n",
    "result\n",
    "# result[0].col(-1)"
   ]
  },
  {
   "cell_type": "code",
   "execution_count": 42,
   "metadata": {},
   "outputs": [],
   "source": [
    "# A.nullspace()\n",
    "# A.eigenvects()"
   ]
  },
  {
   "cell_type": "code",
   "execution_count": 43,
   "metadata": {},
   "outputs": [
    {
     "name": "stdout",
     "output_type": "stream",
     "text": [
      "iteration 0 ...\n",
      "iteration 1 ...\n",
      "iteration 2 ...\n",
      "iteration 3 ...\n",
      "iteration 4 ...\n",
      "iteration 5 ...\n",
      "iteration 6 ...\n",
      "iteration 7 ...\n",
      "iteration 8 ...\n",
      "iteration 9 ...\n",
      "iteration 10 ...\n",
      "iteration 11 ...\n",
      "iteration 12 ...\n",
      "iteration 13 ...\n"
     ]
    }
   ],
   "source": [
    "# PageRank Algorithm\n",
    "M = np.array(M, dtype='f')\n",
    "N = 5\n",
    "delta = 0.8\n",
    "elipslion = 1e-8\n",
    "R = np.ones((N,1))*(1/N)\n",
    "#R = np.ones((N,1))\n",
    "# K = np.ones((N,1))*((1- delta)/N)\n",
    "K = np.zeros((N,1))\n",
    "K[0] = ((1- delta))\n",
    "# R = delta * np.matmul(M,prevR) + K\n",
    "iteration = 0\n",
    "distance = 100\n",
    "\n",
    "while distance > elipslion:\n",
    "    print(\"iteration\", iteration, \"...\")\n",
    "    prevR = R\n",
    "    R = delta * np.matmul(M,R) + K\n",
    "    iteration = iteration + 1\n",
    "    distance = np.linalg.norm(R-prevR)\n",
    "#     print(\"distance = \",np.linalg.norm(R-prevR))\n",
    "#     print(\"Rank = \")\n",
    "#     print(R)"
   ]
  },
  {
   "cell_type": "code",
   "execution_count": 44,
   "metadata": {},
   "outputs": [
    {
     "data": {
      "text/plain": [
       "array([[2.72727275e-01],\n",
       "       [1.83904531e-09],\n",
       "       [1.83904531e-09],\n",
       "       [3.63636377e-01],\n",
       "       [3.63636377e-01]])"
      ]
     },
     "execution_count": 44,
     "metadata": {},
     "output_type": "execute_result"
    }
   ],
   "source": [
    "R"
   ]
  },
  {
   "cell_type": "code",
   "execution_count": 45,
   "metadata": {},
   "outputs": [
    {
     "data": {
      "text/latex": [
       "$$\\left[\\begin{matrix}0.333333333333333 & 0 & 0 & 0.5 & 0\\\\0 & 0.333333333333333 & 0 & 0 & 0\\\\0 & 0 & 0.333333333333333 & 0 & 0\\\\0.333333333333333 & 0.333333333333333 & 0.333333333333333 & 0.5 & 0\\\\0.333333333333333 & 0.333333333333333 & 0.333333333333333 & 0 & 1\\end{matrix}\\right]$$"
      ],
      "text/plain": [
       "⎡0.333333333333333          0                  0          0.5  0⎤\n",
       "⎢                                                               ⎥\n",
       "⎢        0          0.333333333333333          0           0   0⎥\n",
       "⎢                                                               ⎥\n",
       "⎢        0                  0          0.333333333333333   0   0⎥\n",
       "⎢                                                               ⎥\n",
       "⎢0.333333333333333  0.333333333333333  0.333333333333333  0.5  0⎥\n",
       "⎢                                                               ⎥\n",
       "⎣0.333333333333333  0.333333333333333  0.333333333333333   0   1⎦"
      ]
     },
     "execution_count": 45,
     "metadata": {},
     "output_type": "execute_result"
    }
   ],
   "source": [
    "delta = 1\n",
    "N = 5\n",
    "M = Matrix([[1/3,0,0,1/2,0], [0,1/3,0,0,0], [0,0,1/3,0,0], [1/3,1/3,1/3,1/2,0],[1/3,1/3,1/3,0,1]])\n",
    "M"
   ]
  },
  {
   "cell_type": "code",
   "execution_count": 46,
   "metadata": {},
   "outputs": [
    {
     "data": {
      "text/latex": [
       "$$\\left[\\begin{matrix}-0.666666666666667 & 0 & 0 & 0.5 & 0 & 0\\\\0 & -0.666666666666667 & 0 & 0 & 0 & 0\\\\0 & 0 & -0.666666666666667 & 0 & 0 & 0\\\\0.333333333333333 & 0.333333333333333 & 0.333333333333333 & -0.5 & 0 & 0\\\\0.333333333333333 & 0.333333333333333 & 0.333333333333333 & 0 & 0 & 0\\\\1 & 1 & 1 & 1 & 1 & 1\\end{matrix}\\right]$$"
      ],
      "text/plain": [
       "⎡-0.666666666666667          0                   0           0.5   0  0⎤\n",
       "⎢                                                                      ⎥\n",
       "⎢        0           -0.666666666666667          0            0    0  0⎥\n",
       "⎢                                                                      ⎥\n",
       "⎢        0                   0           -0.666666666666667   0    0  0⎥\n",
       "⎢                                                                      ⎥\n",
       "⎢0.333333333333333   0.333333333333333   0.333333333333333   -0.5  0  0⎥\n",
       "⎢                                                                      ⎥\n",
       "⎢0.333333333333333   0.333333333333333   0.333333333333333    0    0  0⎥\n",
       "⎢                                                                      ⎥\n",
       "⎣        1                   1                   1            1    1  1⎦"
      ]
     },
     "execution_count": 46,
     "metadata": {},
     "output_type": "execute_result"
    }
   ],
   "source": [
    "temp = delta*M - eye(N)\n",
    "Svector =  -(1- delta)*Matrix([1/N,1/N,1/N,1/N,1/N])\n",
    "A = temp.col_insert(N, Svector)\n",
    "A = A.row_insert(N,ones(1,N+1))\n",
    "A"
   ]
  },
  {
   "cell_type": "code",
   "execution_count": 47,
   "metadata": {},
   "outputs": [
    {
     "data": {
      "text/latex": [
       "$$\\left ( \\left[\\begin{matrix}1 & 0 & 0 & 0 & 0 & 0\\\\0 & 1 & 0 & 0 & 0 & 0\\\\0 & 0 & 1 & 0 & 0 & 0\\\\0 & 0 & 0 & 1 & 0 & 0\\\\0 & 0 & 0 & 0 & 1 & 1.0\\\\0 & 0 & 0 & 0 & 0 & 0\\end{matrix}\\right], \\quad \\left ( 0, \\quad 1, \\quad 2, \\quad 3, \\quad 4\\right )\\right )$$"
      ],
      "text/plain": [
       "⎛⎡1  0  0  0  0   0 ⎤                 ⎞\n",
       "⎜⎢                  ⎥                 ⎟\n",
       "⎜⎢0  1  0  0  0   0 ⎥                 ⎟\n",
       "⎜⎢                  ⎥                 ⎟\n",
       "⎜⎢0  0  1  0  0   0 ⎥                 ⎟\n",
       "⎜⎢                  ⎥, (0, 1, 2, 3, 4)⎟\n",
       "⎜⎢0  0  0  1  0   0 ⎥                 ⎟\n",
       "⎜⎢                  ⎥                 ⎟\n",
       "⎜⎢0  0  0  0  1  1.0⎥                 ⎟\n",
       "⎜⎢                  ⎥                 ⎟\n",
       "⎝⎣0  0  0  0  0   0 ⎦                 ⎠"
      ]
     },
     "execution_count": 47,
     "metadata": {},
     "output_type": "execute_result"
    }
   ],
   "source": [
    "result = A.rref()\n",
    "result"
   ]
  }
 ],
 "metadata": {
  "kernelspec": {
   "display_name": "Python 3",
   "language": "python",
   "name": "python3"
  },
  "language_info": {
   "codemirror_mode": {
    "name": "ipython",
    "version": 3
   },
   "file_extension": ".py",
   "mimetype": "text/x-python",
   "name": "python",
   "nbconvert_exporter": "python",
   "pygments_lexer": "ipython3",
   "version": "3.7.1"
  }
 },
 "nbformat": 4,
 "nbformat_minor": 2
}
