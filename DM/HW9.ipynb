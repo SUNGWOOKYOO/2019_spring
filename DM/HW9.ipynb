{
 "cells": [
  {
   "cell_type": "code",
   "execution_count": 1,
   "metadata": {},
   "outputs": [],
   "source": [
    "import numpy as np\n",
    "from numpy import linalg as la\n",
    "import math"
   ]
  },
  {
   "cell_type": "markdown",
   "metadata": {},
   "source": [
    "reference:\n",
    "<br> https://darkpgmr.tistory.com/105\n",
    "<br> https://twlab.tistory.com/46\n",
    "<br> https://en.wikipedia.org/wiki/Gram%E2%80%93Schmidt_process // Gram–Schmidt_process"
   ]
  },
  {
   "cell_type": "code",
   "execution_count": 2,
   "metadata": {},
   "outputs": [],
   "source": [
    "# R = np.ones((3,1))\n",
    "# print(R.shape)\n",
    "# print(np.size(R, axis=0))\n",
    "# print(np.size(R, axis=1))\n",
    "# print(R)\n",
    "np.set_printoptions(precision=3)"
   ]
  },
  {
   "cell_type": "markdown",
   "metadata": {},
   "source": [
    "# Q1"
   ]
  },
  {
   "cell_type": "code",
   "execution_count": 3,
   "metadata": {},
   "outputs": [
    {
     "name": "stdout",
     "output_type": "stream",
     "text": [
      "[[1. 1. 1.]\n",
      " [1. 2. 3.]\n",
      " [1. 3. 5.]]\n"
     ]
    }
   ],
   "source": [
    "M = np.array([[1,1,1],[1,2,3],[1,3,5]]).astype(\"float\")\n",
    "print(M)"
   ]
  },
  {
   "cell_type": "markdown",
   "metadata": {},
   "source": [
    "* 모듈을 사용하여 계산해보았다."
   ]
  },
  {
   "cell_type": "code",
   "execution_count": 4,
   "metadata": {},
   "outputs": [
    {
     "name": "stdout",
     "output_type": "stream",
     "text": [
      "[ 7.162e+00  8.377e-01 -2.958e-16]\n",
      "[[-0.218 -0.886  0.408]\n",
      " [-0.522 -0.248 -0.816]\n",
      " [-0.825  0.391  0.408]]\n"
     ]
    }
   ],
   "source": [
    "l, principal_axes = la.eig(M)\n",
    "idx = l.argsort()[::-1]\n",
    "l, principal_axes = l[idx], principal_axes[:, idx]\n",
    "print(l)\n",
    "print(principal_axes)"
   ]
  },
  {
   "cell_type": "markdown",
   "metadata": {},
   "source": [
    "(a)\n",
    "* power iteration 방법을 사용\n",
    "<br> $v_{t} = (M/norm(Mv_{t-1}))v_{t-1}$"
   ]
  },
  {
   "cell_type": "code",
   "execution_count": 5,
   "metadata": {},
   "outputs": [
    {
     "name": "stdout",
     "output_type": "stream",
     "text": [
      "iteration 0 ...\n",
      "distance =  0.890429726059787\n",
      "iteration 1 ...\n",
      "distance =  0.04894577225762312\n",
      "iteration 2 ...\n",
      "distance =  0.005731964656124671\n",
      "iteration 3 ...\n",
      "distance =  0.0006704398749803433\n",
      "iteration 4 ...\n",
      "distance =  7.841675765141245e-05\n",
      "iteration 5 ...\n",
      "distance =  9.171868646837906e-06\n",
      "iteration 6 ...\n",
      "distance =  1.072770371155959e-06\n",
      "iteration 7 ...\n",
      "distance =  1.2547456940108733e-07\n",
      "iteration 8 ...\n",
      "distance =  1.4675897058106624e-08\n",
      "iteration 9 ...\n",
      "distance =  1.7165387380306382e-09\n",
      "[[0.218]\n",
      " [0.522]\n",
      " [0.825]]\n"
     ]
    }
   ],
   "source": [
    "elipslion = 1e-8\n",
    "v = np.ones((np.size(M, axis=0),1))\n",
    "iteration = 0\n",
    "distance = 100\n",
    "while distance > elipslion:\n",
    "    print(\"iteration\", iteration, \"...\")\n",
    "    prev_v = v\n",
    "    Mv = np.matmul(M,v)\n",
    "    v = Mv/la.norm(Mv, 'fro')\n",
    "    iteration = iteration + 1\n",
    "    distance = np.linalg.norm(v-prev_v)\n",
    "    print(\"distance = \",np.linalg.norm(v-prev_v))\n",
    "print(v)"
   ]
  },
  {
   "cell_type": "markdown",
   "metadata": {},
   "source": [
    "(b)"
   ]
  },
  {
   "cell_type": "code",
   "execution_count": 6,
   "metadata": {},
   "outputs": [
    {
     "name": "stdout",
     "output_type": "stream",
     "text": [
      "[[7.162]]\n"
     ]
    }
   ],
   "source": [
    "l = np.matmul(np.matmul(v.T, M),v)\n",
    "print(l)"
   ]
  },
  {
   "cell_type": "markdown",
   "metadata": {},
   "source": [
    "(c)\n",
    "* eliminate principal eigen vector $M_{new} = M - \\lambda v v^T $\n"
   ]
  },
  {
   "cell_type": "code",
   "execution_count": 7,
   "metadata": {},
   "outputs": [
    {
     "name": "stdout",
     "output_type": "stream",
     "text": [
      "[[ 0.658  0.184 -0.291]\n",
      " [ 0.184  0.051 -0.081]\n",
      " [-0.291 -0.081  0.128]]\n"
     ]
    }
   ],
   "source": [
    "M = M - np.matmul(l*v,v.T)\n",
    "print(M)"
   ]
  },
  {
   "cell_type": "markdown",
   "metadata": {},
   "source": [
    "(d)\n",
    "* <br> power iteration \n",
    "  <br> then, we can get eigen vector corresponding to 2nd largeset eigen value "
   ]
  },
  {
   "cell_type": "code",
   "execution_count": 8,
   "metadata": {},
   "outputs": [
    {
     "name": "stdout",
     "output_type": "stream",
     "text": [
      "iteration 0 ...\n",
      "iteration 1 ...\n",
      "[[ 0.886]\n",
      " [ 0.248]\n",
      " [-0.391]]\n"
     ]
    }
   ],
   "source": [
    "elipslion = 1e-8\n",
    "v = np.ones((np.size(M, axis=0),1))\n",
    "iteration = 0\n",
    "distance = 100\n",
    "while distance > elipslion:\n",
    "    print(\"iteration\", iteration, \"...\")\n",
    "    prev_v = v\n",
    "    Mv = np.matmul(M,v)\n",
    "    v = Mv/la.norm(Mv, 'fro')\n",
    "    iteration = iteration + 1\n",
    "    distance = np.linalg.norm(v-prev_v)\n",
    "#     print(\"distance = \",np.linalg.norm(v-prev_v))\n",
    "print(v)"
   ]
  },
  {
   "cell_type": "code",
   "execution_count": 9,
   "metadata": {},
   "outputs": [
    {
     "name": "stdout",
     "output_type": "stream",
     "text": [
      "[[0.838]]\n"
     ]
    }
   ],
   "source": [
    "l = np.matmul(np.matmul(v.T, M),v)\n",
    "print(l)"
   ]
  },
  {
   "cell_type": "markdown",
   "metadata": {},
   "source": [
    "# Q2"
   ]
  },
  {
   "cell_type": "code",
   "execution_count": 10,
   "metadata": {},
   "outputs": [
    {
     "name": "stdout",
     "output_type": "stream",
     "text": [
      "[[1. 1. 1. 0. 0.]\n",
      " [3. 3. 3. 0. 0.]\n",
      " [4. 4. 4. 0. 0.]\n",
      " [5. 5. 5. 0. 0.]\n",
      " [0. 0. 0. 4. 4.]\n",
      " [0. 0. 0. 5. 5.]\n",
      " [0. 0. 0. 2. 2.]]\n"
     ]
    }
   ],
   "source": [
    "user, item = 7, 5\n",
    "M = np.array([[1,1,1,0,0],[3,3,3,0,0],[4,4,4,0,0],[5,5,5,0,0],[0,0,0,4,4],[0,0,0,5,5],[0,0,0,2,2]]).astype('float')\n",
    "print(M)"
   ]
  },
  {
   "cell_type": "markdown",
   "metadata": {},
   "source": [
    "* Compute SVD decomposition\n",
    "<br>find eigen value and corresponding eigen vectors of $M^TM$\n",
    "<br>form decreasing order matrix as $V$ and top $k$ eigen values(singular values)list as $s$ \n",
    "<br>$RV_i / s_i= U_i$ \n",
    "<br> where $U_i, V_i$ be $i$ th column of $U, V$, $i = 1,2, ..., k$  . "
   ]
  },
  {
   "cell_type": "markdown",
   "metadata": {},
   "source": [
    "* using module, SVD decomposition can be calculated "
   ]
  },
  {
   "cell_type": "code",
   "execution_count": 11,
   "metadata": {},
   "outputs": [
    {
     "name": "stdout",
     "output_type": "stream",
     "text": [
      "[12.369  9.487  0.     0.     0.   ]\n"
     ]
    }
   ],
   "source": [
    "U, s, Vt = la.svd(M, full_matrices=True)\n",
    "V = Vt.T\n",
    "print(s)"
   ]
  },
  {
   "cell_type": "code",
   "execution_count": 12,
   "metadata": {},
   "outputs": [
    {
     "name": "stdout",
     "output_type": "stream",
     "text": [
      "[[12.369  0.   ]\n",
      " [ 0.     9.487]]\n",
      "[[-0.14   0.   ]\n",
      " [-0.42   0.   ]\n",
      " [-0.56   0.   ]\n",
      " [-0.7    0.   ]\n",
      " [ 0.    -0.596]\n",
      " [ 0.    -0.745]\n",
      " [ 0.    -0.298]]\n",
      "[[-0.577 -0.577 -0.577 -0.    -0.   ]\n",
      " [-0.    -0.    -0.    -0.707 -0.707]]\n"
     ]
    }
   ],
   "source": [
    "k = 2\n",
    "S = np.diag(s[:k])\n",
    "print(S)\n",
    "print(U[:,:k])\n",
    "print(V[:,:k].T)"
   ]
  },
  {
   "cell_type": "markdown",
   "metadata": {},
   "source": [
    "(a)"
   ]
  },
  {
   "cell_type": "markdown",
   "metadata": {},
   "source": [
    "* given query $q$, we can map $q$ into concept space by $qV$\n",
    "<br> reversely, $qVV^T = q$. This is because $VV^T = I$(identitiy matrix)."
   ]
  },
  {
   "cell_type": "code",
   "execution_count": 13,
   "metadata": {},
   "outputs": [
    {
     "data": {
      "text/plain": [
       "array([-1.732, -2.828])"
      ]
     },
     "execution_count": 13,
     "metadata": {},
     "output_type": "execute_result"
    }
   ],
   "source": [
    "q = np.array([0,3,0,0,4])\n",
    "mapped_q = np.matmul(q,V[:,:k]) # discard right part after k th column   \n",
    "mapped_q "
   ]
  },
  {
   "cell_type": "markdown",
   "metadata": {},
   "source": [
    "(b)"
   ]
  },
  {
   "cell_type": "code",
   "execution_count": 14,
   "metadata": {},
   "outputs": [
    {
     "data": {
      "text/plain": [
       "array([1., 1., 1., 2., 2.])"
      ]
     },
     "execution_count": 14,
     "metadata": {},
     "output_type": "execute_result"
    }
   ],
   "source": [
    "estimated_q = np.matmul(mapped_q,V[:,:k].T)\n",
    "estimated_q"
   ]
  },
  {
   "cell_type": "markdown",
   "metadata": {},
   "source": [
    "# Q3"
   ]
  },
  {
   "cell_type": "code",
   "execution_count": 15,
   "metadata": {},
   "outputs": [
    {
     "data": {
      "text/plain": [
       "array([[1., 1., 1., 0., 0.],\n",
       "       [3., 3., 3., 0., 0.],\n",
       "       [4., 4., 4., 0., 0.],\n",
       "       [5., 5., 5., 0., 0.],\n",
       "       [0., 0., 0., 4., 4.],\n",
       "       [0., 0., 0., 5., 5.],\n",
       "       [0., 0., 0., 2., 2.]])"
      ]
     },
     "execution_count": 15,
     "metadata": {},
     "output_type": "execute_result"
    }
   ],
   "source": [
    "M"
   ]
  },
  {
   "cell_type": "code",
   "execution_count": 16,
   "metadata": {},
   "outputs": [
    {
     "data": {
      "text/plain": [
       "243.0"
      ]
     },
     "execution_count": 16,
     "metadata": {},
     "output_type": "execute_result"
    }
   ],
   "source": [
    "M_norm = la.norm(M, 'fro')\n",
    "M_norm**2"
   ]
  },
  {
   "cell_type": "code",
   "execution_count": 17,
   "metadata": {},
   "outputs": [
    {
     "name": "stdout",
     "output_type": "stream",
     "text": [
      "0.20987654320987656\n",
      "0.20987654320987656\n",
      "0.20987654320987656\n",
      "0.1851851851851852\n",
      "0.1851851851851852\n"
     ]
    }
   ],
   "source": [
    "Matrix = M[:,:1]\n",
    "Matrix_prob = (la.norm(Matrix, 'fro')**2)/M_norm**2\n",
    "Alien = M[:,1:2]\n",
    "Alien_prob = (la.norm(Alien, 'fro')**2)/M_norm**2\n",
    "Star = M[:,2:3]\n",
    "Star_prob = (la.norm(Star, 'fro')**2)/M_norm**2\n",
    "Casa = M[:,3:4]\n",
    "Casa_prob = (la.norm(Casa, 'fro')**2)/M_norm**2\n",
    "Titanic = M[:,-1:]\n",
    "Titanic_prob = (la.norm(Titanic, 'fro')**2)/M_norm**2\n",
    "print(Matrix_prob)\n",
    "print(Alien_prob)\n",
    "print(Star_prob)\n",
    "print(Casa_prob)\n",
    "print(Titanic_prob)"
   ]
  },
  {
   "cell_type": "code",
   "execution_count": 18,
   "metadata": {},
   "outputs": [
    {
     "name": "stdout",
     "output_type": "stream",
     "text": [
      "0.012345679012345677\n",
      "0.1111111111111111\n",
      "0.19753086419753083\n",
      "0.308641975308642\n",
      "0.13168724279835395\n",
      "0.20576131687242802\n",
      "0.03292181069958849\n"
     ]
    }
   ],
   "source": [
    "Joe = M[:1, :]\n",
    "Joe_prob = (la.norm(Joe, 'fro')**2)/M_norm**2\n",
    "Jim = M[1:2, :]\n",
    "Jim_prob = (la.norm(Jim, 'fro')**2)/M_norm**2\n",
    "John = M[2:3, :]\n",
    "John_prob = (la.norm(John, 'fro')**2)/M_norm**2\n",
    "Jack = M[3:4, :]\n",
    "Jack_prob = (la.norm(Jack, 'fro')**2)/M_norm**2\n",
    "Jill = M[4:5, :]\n",
    "Jill_prob = (la.norm(Jill, 'fro')**2)/M_norm**2\n",
    "Jenny = M[5:6, :]\n",
    "Jenny_prob = (la.norm(Jenny, 'fro')**2)/M_norm**2\n",
    "Jane = M[-1:, :]\n",
    "Jane_prob = (la.norm(Jane, 'fro')**2)/M_norm**2\n",
    "print(Joe_prob)\n",
    "print(Jim_prob)\n",
    "print(John_prob)\n",
    "print(Jack_prob)\n",
    "print(Jill_prob)\n",
    "print(Jenny_prob)\n",
    "print(Jane_prob)"
   ]
  },
  {
   "cell_type": "markdown",
   "metadata": {},
   "source": [
    "(a)"
   ]
  },
  {
   "cell_type": "code",
   "execution_count": 19,
   "metadata": {},
   "outputs": [
    {
     "name": "stdout",
     "output_type": "stream",
     "text": [
      "[[1.543 1.543]\n",
      " [4.63  4.63 ]\n",
      " [6.174 6.174]\n",
      " [7.717 7.717]\n",
      " [0.    0.   ]\n",
      " [0.    0.   ]\n",
      " [0.    0.   ]]\n",
      "[[6.364 6.364 6.364 0.    0.   ]\n",
      " [6.364 6.364 6.364 0.    0.   ]]\n"
     ]
    }
   ],
   "source": [
    "r = 2\n",
    "C = np.hstack((Matrix/math.sqrt(2*Matrix_prob), Alien/math.sqrt(2*Alien_prob)))\n",
    "R =  np.vstack((Jim/math.sqrt(2*Jim_prob), John/math.sqrt(2*John_prob)))\n",
    "print(C)\n",
    "print(R)"
   ]
  },
  {
   "cell_type": "code",
   "execution_count": 20,
   "metadata": {},
   "outputs": [
    {
     "name": "stdout",
     "output_type": "stream",
     "text": [
      "[[3. 3.]\n",
      " [4. 4.]]\n",
      "[[7.071 0.   ]\n",
      " [0.    0.   ]]\n",
      "[[-0.6 -0.8]\n",
      " [-0.8  0.6]]\n",
      "[[-0.707 -0.707]\n",
      " [-0.707  0.707]]\n"
     ]
    },
    {
     "data": {
      "text/plain": [
       "array([[0.141, 0.   ],\n",
       "       [0.   , 0.   ]])"
      ]
     },
     "execution_count": 20,
     "metadata": {},
     "output_type": "execute_result"
    }
   ],
   "source": [
    "W = M[1:3,1:3]\n",
    "print(W)\n",
    "X, s, Yt = la.svd(W, full_matrices=True)\n",
    "S = np.diag(s)\n",
    "print(S)\n",
    "print(X)\n",
    "print(Yt)\n",
    "# np.reciprocal(S)\n",
    "S = la.pinv(S) # Moore-Penrose pseudoinverse\n",
    "S"
   ]
  },
  {
   "cell_type": "code",
   "execution_count": 21,
   "metadata": {},
   "outputs": [
    {
     "data": {
      "text/plain": [
       "array([[0.008, 0.011],\n",
       "       [0.008, 0.011]])"
      ]
     },
     "execution_count": 21,
     "metadata": {},
     "output_type": "execute_result"
    }
   ],
   "source": [
    "U = np.matmul(np.matmul(Yt.T, S**2), X.T)\n",
    "U"
   ]
  },
  {
   "cell_type": "code",
   "execution_count": 22,
   "metadata": {},
   "outputs": [
    {
     "data": {
      "text/plain": [
       "array([[0.389, 0.389, 0.389, 0.   , 0.   ],\n",
       "       [1.167, 1.167, 1.167, 0.   , 0.   ],\n",
       "       [1.556, 1.556, 1.556, 0.   , 0.   ],\n",
       "       [1.945, 1.945, 1.945, 0.   , 0.   ],\n",
       "       [0.   , 0.   , 0.   , 0.   , 0.   ],\n",
       "       [0.   , 0.   , 0.   , 0.   , 0.   ],\n",
       "       [0.   , 0.   , 0.   , 0.   , 0.   ]])"
      ]
     },
     "execution_count": 22,
     "metadata": {},
     "output_type": "execute_result"
    }
   ],
   "source": [
    " np.matmul(np.matmul(C, U), R)"
   ]
  },
  {
   "cell_type": "markdown",
   "metadata": {},
   "source": [
    "(b)"
   ]
  },
  {
   "cell_type": "code",
   "execution_count": 23,
   "metadata": {},
   "outputs": [
    {
     "name": "stdout",
     "output_type": "stream",
     "text": [
      "[[1.543 1.543]\n",
      " [4.63  4.63 ]\n",
      " [6.174 6.174]\n",
      " [7.717 7.717]\n",
      " [0.    0.   ]\n",
      " [0.    0.   ]\n",
      " [0.    0.   ]]\n",
      "[[6.364 6.364 6.364 0.    0.   ]\n",
      " [0.    0.    0.    7.794 7.794]]\n"
     ]
    }
   ],
   "source": [
    "C = np.hstack((Alien/math.sqrt(2*Alien_prob), Star/math.sqrt(2*Star_prob)))\n",
    "R =  np.vstack((Jack/math.sqrt(2*Jack_prob), Jill/math.sqrt(2*Jill_prob)))\n",
    "print(C)\n",
    "print(R)"
   ]
  },
  {
   "cell_type": "code",
   "execution_count": 24,
   "metadata": {},
   "outputs": [
    {
     "name": "stdout",
     "output_type": "stream",
     "text": [
      "[[5. 5. 5. 0. 0.]\n",
      " [0. 0. 0. 4. 4.]]\n",
      "[[1. 1.]\n",
      " [3. 3.]\n",
      " [4. 4.]\n",
      " [5. 5.]\n",
      " [0. 0.]\n",
      " [0. 0.]\n",
      " [0. 0.]]\n"
     ]
    },
    {
     "data": {
      "text/plain": [
       "array([[5., 5.],\n",
       "       [0., 0.]])"
      ]
     },
     "execution_count": 24,
     "metadata": {},
     "output_type": "execute_result"
    }
   ],
   "source": [
    "M[:,[1,2]]\n",
    "print(M[[3,4],:])\n",
    "print(M[:,[1,2]])\n",
    "M[[3,4],:][:,[1,2]]"
   ]
  },
  {
   "cell_type": "code",
   "execution_count": 25,
   "metadata": {},
   "outputs": [
    {
     "name": "stdout",
     "output_type": "stream",
     "text": [
      "[[7.071 0.   ]\n",
      " [0.    0.   ]]\n",
      "[[1. 0.]\n",
      " [0. 1.]]\n",
      "[[ 0.707  0.707]\n",
      " [-0.707  0.707]]\n"
     ]
    },
    {
     "data": {
      "text/plain": [
       "array([[0.141, 0.   ],\n",
       "       [0.   , 0.   ]])"
      ]
     },
     "execution_count": 25,
     "metadata": {},
     "output_type": "execute_result"
    }
   ],
   "source": [
    "W = M[[3,4],:][:,[1,2]]\n",
    "X, s, Yt = la.svd(W, full_matrices=True)\n",
    "S = np.diag(s)\n",
    "print(S)\n",
    "print(X)\n",
    "print(Yt)\n",
    "# np.reciprocal(S)\n",
    "S = la.pinv(S) # Moore-Penrose pseudoinverse\n",
    "S"
   ]
  },
  {
   "cell_type": "code",
   "execution_count": 26,
   "metadata": {},
   "outputs": [
    {
     "data": {
      "text/plain": [
       "array([[0.278, 0.278, 0.278, 0.   , 0.   ],\n",
       "       [0.833, 0.833, 0.833, 0.   , 0.   ],\n",
       "       [1.111, 1.111, 1.111, 0.   , 0.   ],\n",
       "       [1.389, 1.389, 1.389, 0.   , 0.   ],\n",
       "       [0.   , 0.   , 0.   , 0.   , 0.   ],\n",
       "       [0.   , 0.   , 0.   , 0.   , 0.   ],\n",
       "       [0.   , 0.   , 0.   , 0.   , 0.   ]])"
      ]
     },
     "execution_count": 26,
     "metadata": {},
     "output_type": "execute_result"
    }
   ],
   "source": [
    "U = np.matmul(np.matmul(Yt.T, S**2), X.T)\n",
    "np.matmul(np.matmul(C, U), R)"
   ]
  },
  {
   "cell_type": "markdown",
   "metadata": {},
   "source": [
    "(c)"
   ]
  },
  {
   "cell_type": "code",
   "execution_count": 27,
   "metadata": {},
   "outputs": [
    {
     "name": "stdout",
     "output_type": "stream",
     "text": [
      "[[1.543 0.   ]\n",
      " [4.63  0.   ]\n",
      " [6.174 0.   ]\n",
      " [7.717 0.   ]\n",
      " [0.    6.573]\n",
      " [0.    8.216]\n",
      " [0.    3.286]]\n",
      "[[6.364 6.364 6.364 0.    0.   ]\n",
      " [0.    0.    0.    7.794 7.794]]\n"
     ]
    }
   ],
   "source": [
    "C = np.hstack((Matrix/math.sqrt(2*Matrix_prob), Titanic/math.sqrt(2*Titanic_prob)))\n",
    "R =  np.vstack((Joe/math.sqrt(2*Joe_prob), Jane/math.sqrt(2*Jane_prob)))\n",
    "print(C)\n",
    "print(R)"
   ]
  },
  {
   "cell_type": "code",
   "execution_count": 28,
   "metadata": {},
   "outputs": [
    {
     "name": "stdout",
     "output_type": "stream",
     "text": [
      "[[0. 1.]\n",
      " [1. 0.]]\n",
      "[[0. 1.]\n",
      " [1. 0.]]\n",
      "[[0.5 0. ]\n",
      " [0.  1. ]]\n",
      "[[1.   0.  ]\n",
      " [0.   0.25]]\n"
     ]
    }
   ],
   "source": [
    "W = M[[0,6],:][:,[0,4]]\n",
    "X, s, Yt = la.svd(W, full_matrices=True)\n",
    "S = np.diag(s)\n",
    "# print(S)\n",
    "print(X)\n",
    "print(Yt)\n",
    "# np.reciprocal(S)\n",
    "S = la.pinv(S) # Moore-Penrose pseudoinverse\n",
    "print(S)\n",
    "U = np.matmul(np.matmul(Yt.T, S**2), X.T)\n",
    "print(U)"
   ]
  },
  {
   "cell_type": "code",
   "execution_count": 29,
   "metadata": {},
   "outputs": [
    {
     "data": {
      "text/plain": [
       "array([[ 9.823,  9.823,  9.823,  0.   ,  0.   ],\n",
       "       [29.468, 29.468, 29.468,  0.   ,  0.   ],\n",
       "       [39.291, 39.291, 39.291,  0.   ,  0.   ],\n",
       "       [49.113, 49.113, 49.113,  0.   ,  0.   ],\n",
       "       [ 0.   ,  0.   ,  0.   , 12.807, 12.807],\n",
       "       [ 0.   ,  0.   ,  0.   , 16.009, 16.009],\n",
       "       [ 0.   ,  0.   ,  0.   ,  6.404,  6.404]])"
      ]
     },
     "execution_count": 29,
     "metadata": {},
     "output_type": "execute_result"
    }
   ],
   "source": [
    "np.matmul(np.matmul(C, U), R)"
   ]
  },
  {
   "cell_type": "markdown",
   "metadata": {},
   "source": [
    "test"
   ]
  },
  {
   "cell_type": "code",
   "execution_count": 30,
   "metadata": {},
   "outputs": [
    {
     "name": "stdout",
     "output_type": "stream",
     "text": [
      "[[1.543 0.   ]\n",
      " [4.63  0.   ]\n",
      " [6.174 0.   ]\n",
      " [7.717 0.   ]\n",
      " [0.    6.573]\n",
      " [0.    8.216]\n",
      " [0.    3.286]]\n",
      "[[0.    0.    0.    7.794 7.794]\n",
      " [6.364 6.364 6.364 0.    0.   ]]\n"
     ]
    }
   ],
   "source": [
    "C = np.hstack((Alien/math.sqrt(2*Alien_prob), Casa/math.sqrt(2*Casa_prob)))\n",
    "R =  np.vstack((Jenny/math.sqrt(2*Jenny_prob), Jack/math.sqrt(2*Jack_prob)))\n",
    "print(C)\n",
    "print(R)"
   ]
  },
  {
   "cell_type": "code",
   "execution_count": 31,
   "metadata": {},
   "outputs": [
    {
     "name": "stdout",
     "output_type": "stream",
     "text": [
      "[[ 0. -1.]\n",
      " [-1.  0.]]\n",
      "[[-1. -0.]\n",
      " [-0. -1.]]\n",
      "[[0.2 0. ]\n",
      " [0.  0.2]]\n",
      "[[0.   0.04]\n",
      " [0.04 0.  ]]\n"
     ]
    }
   ],
   "source": [
    "W = M[[5,3],:][:,[1,3]]\n",
    "X, s, Yt = la.svd(W, full_matrices=True)\n",
    "S = np.diag(s)\n",
    "# print(S)\n",
    "print(X)\n",
    "print(Yt)\n",
    "# np.reciprocal(S)\n",
    "S = la.pinv(S) # Moore-Penrose pseudoinverse\n",
    "print(S)\n",
    "U = np.matmul(np.matmul(Yt.T, S**2), X.T)\n",
    "print(U)"
   ]
  },
  {
   "cell_type": "code",
   "execution_count": 32,
   "metadata": {},
   "outputs": [
    {
     "data": {
      "text/plain": [
       "array([[0.393, 0.393, 0.393, 0.   , 0.   ],\n",
       "       [1.179, 1.179, 1.179, 0.   , 0.   ],\n",
       "       [1.572, 1.572, 1.572, 0.   , 0.   ],\n",
       "       [1.965, 1.965, 1.965, 0.   , 0.   ],\n",
       "       [0.   , 0.   , 0.   , 2.049, 2.049],\n",
       "       [0.   , 0.   , 0.   , 2.561, 2.561],\n",
       "       [0.   , 0.   , 0.   , 1.025, 1.025]])"
      ]
     },
     "execution_count": 32,
     "metadata": {},
     "output_type": "execute_result"
    }
   ],
   "source": [
    "np.matmul(np.matmul(C, U), R)"
   ]
  }
 ],
 "metadata": {
  "kernelspec": {
   "display_name": "Python 3",
   "language": "python",
   "name": "python3"
  },
  "language_info": {
   "codemirror_mode": {
    "name": "ipython",
    "version": 3
   },
   "file_extension": ".py",
   "mimetype": "text/x-python",
   "name": "python",
   "nbconvert_exporter": "python",
   "pygments_lexer": "ipython3",
   "version": "3.7.3"
  }
 },
 "nbformat": 4,
 "nbformat_minor": 2
}
