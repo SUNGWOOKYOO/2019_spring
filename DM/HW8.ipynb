{
 "cells": [
  {
   "cell_type": "markdown",
   "metadata": {},
   "source": [
    "### Rayleigh Theorem example \n",
    "### Example 10.19\n",
    "<br> p367 in book"
   ]
  },
  {
   "cell_type": "code",
   "execution_count": 1,
   "metadata": {},
   "outputs": [],
   "source": [
    "import numpy as np\n",
    "import numpy.linalg as la \n",
    "import math"
   ]
  },
  {
   "cell_type": "code",
   "execution_count": 2,
   "metadata": {},
   "outputs": [
    {
     "data": {
      "text/plain": [
       "array([[ 3, -1, -1, -1,  0,  0],\n",
       "       [-1,  2, -1,  0,  0,  0],\n",
       "       [-1, -1,  3,  0,  0, -1],\n",
       "       [-1,  0,  0,  3, -1, -1],\n",
       "       [ 0,  0,  0, -1,  2, -1],\n",
       "       [ 0,  0, -1, -1, -1,  3]])"
      ]
     },
     "execution_count": 2,
     "metadata": {},
     "output_type": "execute_result"
    }
   ],
   "source": [
    "degrees = [3,2,3,3,2,3]\n",
    "D = np.diag(degrees)\n",
    "A = np.array([[0,1,1,1,0,0],[1,0,1,0,0,0],[1,1,0,0,0,1],[1,0,0,0,1,1],[0,0,0,1,0,1],[0,0,1,1,1,0]])\n",
    "L = D - A\n",
    "L"
   ]
  },
  {
   "cell_type": "code",
   "execution_count": 3,
   "metadata": {},
   "outputs": [
    {
     "data": {
      "text/plain": [
       "array([5.55111512e-16, 1.00000000e+00, 5.00000000e+00, 3.00000000e+00,\n",
       "       4.00000000e+00, 3.00000000e+00])"
      ]
     },
     "execution_count": 3,
     "metadata": {},
     "output_type": "execute_result"
    }
   ],
   "source": [
    "eig_val, eig_vec = la.eig(L)\n",
    "eig_val"
   ]
  },
  {
   "cell_type": "code",
   "execution_count": 4,
   "metadata": {},
   "outputs": [],
   "source": [
    "# decreasing order index\n",
    "idx = eig_val.argsort()"
   ]
  },
  {
   "cell_type": "code",
   "execution_count": 5,
   "metadata": {},
   "outputs": [
    {
     "name": "stdout",
     "output_type": "stream",
     "text": [
      "[5.55111512e-16 1.00000000e+00 3.00000000e+00 3.00000000e+00\n",
      " 4.00000000e+00 5.00000000e+00]\n",
      "[[-4.08248290e-01 -2.88675135e-01 -7.76145018e-02  5.77350269e-01\n",
      "  -4.08248290e-01 -5.00000000e-01]\n",
      " [-4.08248290e-01 -5.77350269e-01 -4.56654142e-01 -2.88675135e-01\n",
      "   4.08248290e-01 -7.60316428e-16]\n",
      " [-4.08248290e-01 -2.88675135e-01  5.34268644e-01 -2.88675135e-01\n",
      "  -4.08248290e-01  5.00000000e-01]\n",
      " [-4.08248290e-01  2.88675135e-01 -7.76145018e-02  5.77350269e-01\n",
      "   4.08248290e-01  5.00000000e-01]\n",
      " [-4.08248290e-01  5.77350269e-01 -4.56654142e-01 -2.88675135e-01\n",
      "  -4.08248290e-01  1.76366294e-16]\n",
      " [-4.08248290e-01  2.88675135e-01  5.34268644e-01 -2.88675135e-01\n",
      "   4.08248290e-01 -5.00000000e-01]]\n"
     ]
    }
   ],
   "source": [
    "eig_val, eig_vec = eig_val[idx], eig_vec[:, idx]\n",
    "print(eig_val)\n",
    "print(eig_vec)"
   ]
  },
  {
   "cell_type": "code",
   "execution_count": 6,
   "metadata": {},
   "outputs": [
    {
     "data": {
      "text/plain": [
       "array([-1., -2., -1.,  1.,  2.,  1.])"
      ]
     },
     "execution_count": 6,
     "metadata": {},
     "output_type": "execute_result"
    }
   ],
   "source": [
    "# this is feidler vector \n",
    "eig_vec[:,1]*math.sqrt(12)"
   ]
  },
  {
   "cell_type": "markdown",
   "metadata": {},
   "source": [
    "### Q3\n",
    "<br>node 갯수 = 9 \n",
    "<br>edge 수 = 12"
   ]
  },
  {
   "cell_type": "code",
   "execution_count": 7,
   "metadata": {},
   "outputs": [
    {
     "data": {
      "text/plain": [
       "array([[ 2., -1., -1.,  0.,  0.,  0.,  0.,  0.,  0.],\n",
       "       [-1.,  3., -1.,  0.,  0.,  0.,  0., -1.,  0.],\n",
       "       [-1., -1.,  3., -1.,  0.,  0.,  0.,  0.,  0.],\n",
       "       [ 0.,  0., -1.,  3., -1., -1.,  0.,  0.,  0.],\n",
       "       [ 0.,  0.,  0., -1.,  3., -1., -1.,  0.,  0.],\n",
       "       [ 0.,  0.,  0., -1., -1.,  2.,  0.,  0.,  0.],\n",
       "       [ 0.,  0.,  0.,  0., -1.,  0.,  3., -1., -1.],\n",
       "       [ 0., -1.,  0.,  0.,  0.,  0., -1.,  3., -1.],\n",
       "       [ 0.,  0.,  0.,  0.,  0.,  0., -1., -1.,  2.]])"
      ]
     },
     "execution_count": 7,
     "metadata": {},
     "output_type": "execute_result"
    }
   ],
   "source": [
    "n = 9\n",
    "degrees = [2,3,3,3,3,2,3,3,2]\n",
    "D = np.diag(degrees)\n",
    "idx_list = [[1,2],[0,2,7],[0,1,3],[2,4,5],[3,5,6],[3,4],[4,7,8],[1,6,8],[6,7]]\n",
    "A = np.zeros((n,n))\n",
    "for i, idx in enumerate(idx_list):\n",
    "    row = np.zeros(n)\n",
    "    row[idx] = 1\n",
    "#     print(row)\n",
    "    A[i,:] = row\n",
    "L = D - A\n",
    "L"
   ]
  },
  {
   "cell_type": "code",
   "execution_count": 8,
   "metadata": {},
   "outputs": [],
   "source": [
    "np.set_printoptions(precision=3)"
   ]
  },
  {
   "cell_type": "code",
   "execution_count": 9,
   "metadata": {},
   "outputs": [
    {
     "name": "stdout",
     "output_type": "stream",
     "text": [
      "[1.345e-16+0.j 6.972e-01+0.j 6.972e-01+0.j 3.000e+00+0.j]\n",
      "[[ 0.333+0.j -0.588+0.j -0.051+0.j -0.667+0.j]\n",
      " [ 0.333+0.j -0.383+0.j  0.085+0.j  0.333+0.j]\n",
      " [ 0.333+0.j -0.383+0.j -0.151+0.j  0.333+0.j]\n",
      " [ 0.333+0.j  0.089+0.j -0.382+0.j  0.333+0.j]\n",
      " [ 0.333+0.j  0.294+0.j -0.246+0.j -0.167+0.j]\n",
      " [ 0.333+0.j  0.294+0.j -0.482+0.j -0.167+0.j]\n",
      " [ 0.333+0.j  0.294+0.j  0.297+0.j -0.167+0.j]\n",
      " [ 0.333+0.j  0.089+0.j  0.397+0.j  0.333+0.j]\n",
      " [ 0.333+0.j  0.294+0.j  0.533+0.j -0.167+0.j]]\n"
     ]
    }
   ],
   "source": [
    "eig_val, eig_vec = la.eig(L)\n",
    "idx = eig_val.argsort()\n",
    "eig_val, eig_vec = eig_val[idx], eig_vec[:, idx]\n",
    "print(eig_val[:4])\n",
    "print(eig_vec[:,:4])"
   ]
  },
  {
   "cell_type": "code",
   "execution_count": 10,
   "metadata": {},
   "outputs": [
    {
     "data": {
      "text/plain": [
       "array([-0.588+0.j, -0.383+0.j, -0.383+0.j,  0.089+0.j,  0.294+0.j,\n",
       "        0.294+0.j,  0.294+0.j,  0.089+0.j,  0.294+0.j])"
      ]
     },
     "execution_count": 10,
     "metadata": {},
     "output_type": "execute_result"
    }
   ],
   "source": [
    "# this is feidler vector \n",
    "eig_vec[:,1]"
   ]
  },
  {
   "cell_type": "markdown",
   "metadata": {},
   "source": [
    "> 음수와 양수 case로 partition을 나눈다고 생각하면 된다."
   ]
  }
 ],
 "metadata": {
  "kernelspec": {
   "display_name": "Python 3",
   "language": "python",
   "name": "python3"
  },
  "language_info": {
   "codemirror_mode": {
    "name": "ipython",
    "version": 3
   },
   "file_extension": ".py",
   "mimetype": "text/x-python",
   "name": "python",
   "nbconvert_exporter": "python",
   "pygments_lexer": "ipython3",
   "version": "3.7.1"
  }
 },
 "nbformat": 4,
 "nbformat_minor": 2
}
