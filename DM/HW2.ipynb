{
 "cells": [
  {
   "cell_type": "code",
   "execution_count": 1,
   "metadata": {},
   "outputs": [],
   "source": [
    "from sympy import *"
   ]
  },
  {
   "cell_type": "code",
   "execution_count": 2,
   "metadata": {},
   "outputs": [
    {
     "data": {
      "image/png": "[encoded data removed]",
      "text/latex": [
       "$$\\frac{x^{3}}{3} + \\frac{x^{2}}{2} + x$$"
      ],
      "text/plain": [
       " 3    2    \n",
       "x    x     \n",
       "-- + -- + x\n",
       "3    2     "
      ]
     },
     "execution_count": 2,
     "metadata": {},
     "output_type": "execute_result"
    }
   ],
   "source": [
    "init_printing(use_unicode = False, wrap_line = False)\n",
    "x = Symbol('x')\n",
    "integrate(x**2+x+1,x)"
   ]
  },
  {
   "cell_type": "code",
   "execution_count": 3,
   "metadata": {},
   "outputs": [
    {
     "data": {
      "image/png": "[encoded data removed]",
      "text/latex": [
       "$$- \\frac{s^{31}}{31} + \\frac{5 s^{28}}{14} - \\frac{9 s^{25}}{5} + \\frac{60 s^{22}}{11} - \\frac{210 s^{19}}{19} + \\frac{63 s^{16}}{4} - \\frac{210 s^{13}}{13} + 12 s^{10} - \\frac{45 s^{7}}{7} + \\frac{5 s^{4}}{2} - s + \\frac{4782969}{11791780}$$"
      ],
      "text/plain": [
       "   31      28      25       22        19       16        13                7      4               \n",
       "  s     5*s     9*s     60*s     210*s     63*s     210*s         10   45*s    5*s        4782969 \n",
       "- --- + ----- - ----- + ------ - ------- + ------ - ------- + 12*s   - ----- + ---- - s + --------\n",
       "   31     14      5       11        19       4         13                7      2         11791780"
      ]
     },
     "execution_count": 3,
     "metadata": {},
     "output_type": "execute_result"
    }
   ],
   "source": [
    "t = Symbol('t')\n",
    "s = Symbol('s')\n",
    "temp = integrate(pow(1 - pow(t,3),10),(t,s,1))\n",
    "temp"
   ]
  },
  {
   "cell_type": "code",
   "execution_count": 4,
   "metadata": {},
   "outputs": [
    {
     "data": {
      "image/png": "[encoded data removed]",
      "text/latex": [
       "$$- \\frac{s^{31}}{31} + \\frac{5 s^{28}}{14} - \\frac{9 s^{25}}{5} + \\frac{60 s^{22}}{11} - \\frac{210 s^{19}}{19} + \\frac{63 s^{16}}{4} - \\frac{210 s^{13}}{13} + 12 s^{10} - \\frac{45 s^{7}}{7} + \\frac{5 s^{4}}{2} - s + \\frac{4782969}{11791780} = 0.05$$"
      ],
      "text/plain": [
       "   31      28      25       22        19       16        13                7      4                      \n",
       "  s     5*s     9*s     60*s     210*s     63*s     210*s         10   45*s    5*s        4782969        \n",
       "- --- + ----- - ----- + ------ - ------- + ------ - ------- + 12*s   - ----- + ---- - s + -------- = 0.05\n",
       "   31     14      5       11        19       4         13                7      2         11791780       "
      ]
     },
     "execution_count": 4,
     "metadata": {},
     "output_type": "execute_result"
    }
   ],
   "source": [
    "Eq(temp, 0.05)"
   ]
  },
  {
   "cell_type": "code",
   "execution_count": 5,
   "metadata": {},
   "outputs": [
    {
     "data": {
      "image/png": "[encoded data removed]",
      "text/latex": [
       "$$\\left\\{0.420974725382995\\right\\}$$"
      ],
      "text/plain": [
       "{0.420974725382995}"
      ]
     },
     "execution_count": 5,
     "metadata": {},
     "output_type": "execute_result"
    }
   ],
   "source": [
    "solveset(Eq(temp, 0.05),s, domain= S.Reals)"
   ]
  },
  {
   "cell_type": "markdown",
   "metadata": {},
   "source": [
    "# summary\n",
    "<br> sympy tutorial\n",
    "<br> https://docs.sympy.org/latest/tutorial/index.html"
   ]
  },
  {
   "cell_type": "code",
   "execution_count": 6,
   "metadata": {},
   "outputs": [
    {
     "data": {
      "image/png": "[encoded data removed]",
      "text/latex": [
       "$$\\left\\{0.420974725382995\\right\\}$$"
      ],
      "text/plain": [
       "{0.420974725382995}"
      ]
     },
     "execution_count": 6,
     "metadata": {},
     "output_type": "execute_result"
    }
   ],
   "source": [
    "from sympy import *\n",
    "t = Symbol('t')\n",
    "s = Symbol('s')\n",
    "Fs = integrate(pow(1 - pow(t,3),10),(t,s,1))\n",
    "cond = Eq(Fs, 0.05)\n",
    "solveset(cond, s, domain= S.Reals)"
   ]
  }
 ],
 "metadata": {
  "kernelspec": {
   "display_name": "Python 3",
   "language": "python",
   "name": "python3"
  },
  "language_info": {
   "codemirror_mode": {
    "name": "ipython",
    "version": 3
   },
   "file_extension": ".py",
   "mimetype": "text/x-python",
   "name": "python",
   "nbconvert_exporter": "python",
   "pygments_lexer": "ipython3",
   "version": "3.7.1"
  }
 },
 "nbformat": 4,
 "nbformat_minor": 2
}
