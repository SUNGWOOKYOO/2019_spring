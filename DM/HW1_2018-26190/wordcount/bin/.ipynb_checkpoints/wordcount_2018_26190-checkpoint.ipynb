{
 "cells": [
  {
   "cell_type": "code",
   "execution_count": 5,
   "metadata": {
    "scrolled": true
   },
   "outputs": [
    {
     "name": "stdout",
     "output_type": "stream",
     "text": [
      "Overwriting wordcount_2018_26190.py\n"
     ]
    }
   ],
   "source": [
    "%%writefile wordcount_2018_26190.py\n",
    "#!/usr/bin/env python\n",
    "\n",
    "# BEGIN_COPYRIGHT\n",
    "#\n",
    "# Copyright 2009-2019 CRS4.\n",
    "#\n",
    "# Licensed under the Apache License, Version 2.0 (the \"License\"); you may not\n",
    "# use this file except in compliance with the License. You may obtain a copy\n",
    "# of the License at\n",
    "#\n",
    "#   http://www.apache.org/licenses/LICENSE-2.0\n",
    "#\n",
    "# Unless required by applicable law or agreed to in writing, software\n",
    "# distributed under the License is distributed on an \"AS IS\" BASIS, WITHOUT\n",
    "# WARRANTIES OR CONDITIONS OF ANY KIND, either express or implied. See the\n",
    "# License for the specific language governing permissions and limitations\n",
    "# under the License.\n",
    "#\n",
    "# END_COPYRIGHT\n",
    "\n",
    "import struct\n",
    "\n",
    "from pydoop.mapreduce.pipes import run_task, Factory\n",
    "from pydoop.mapreduce.api import Mapper, Reducer\n",
    "\n",
    "\n",
    "class WordCountMapper(Mapper):\n",
    "    \n",
    "    def map(self, context):\n",
    "        #print(\"============== Map Start! ======================\")\n",
    "        for w in context.value.split():\n",
    "            context.emit(w, 1)\n",
    "        #print(\"============== Map Start! ======================\")\n",
    "            \n",
    "\n",
    "\n",
    "class WordCountReducer(Reducer):\n",
    "\n",
    "    def reduce(self, context):\n",
    "        #print(\"============== reduce Start! ======================\")\n",
    "        s = sum(context.values)\n",
    "        #context.emit(context.key.encode(\"utf-8\"), struct.pack(\">i\", s))\n",
    "        context.emit(context.key, s)\n",
    "        #print(\"============== reduce Start! ======================\")\n",
    "\n",
    "if __name__ == \"__main__\":\n",
    "    factory = Factory(WordCountMapper, WordCountReducer)\n",
    "    run_task(factory, auto_serialize=False)\n"
   ]
  }
 ],
 "metadata": {
  "kernelspec": {
   "display_name": "Python 3",
   "language": "python",
   "name": "python3"
  },
  "language_info": {
   "codemirror_mode": {
    "name": "ipython",
    "version": 3
   },
   "file_extension": ".py",
   "mimetype": "text/x-python",
   "name": "python",
   "nbconvert_exporter": "python",
   "pygments_lexer": "ipython3",
   "version": "3.7.1"
  }
 },
 "nbformat": 4,
 "nbformat_minor": 2
}
