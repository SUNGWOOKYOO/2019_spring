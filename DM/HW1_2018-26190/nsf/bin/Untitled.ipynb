{
 "cells": [
  {
   "cell_type": "code",
   "execution_count": 12,
   "metadata": {},
   "outputs": [
    {
     "name": "stdout",
     "output_type": "stream",
     "text": [
      "Overwriting nsf.py\n"
     ]
    }
   ],
   "source": [
    "%%writefile nsf.py\n",
    "#!/usr/bin/env python\n",
    "\n",
    "\"\"\"\n",
    "Impelements non-symmetric fellow-shop\n",
    "Input : directed graph\n",
    "    e.g.) \"3   4\" indicates that person 3 has 4 followers.\n",
    "Output : (node, node)\n",
    "    e.g.) \"1 2\" node 1 => node 2 is non-symmetric\n",
    "\"\"\"\n",
    "# DOCS_INCLUDE_START\n",
    "import pydoop.mapreduce.api as api\n",
    "import pydoop.mapreduce.pipes as pipes\n",
    "\n",
    "\n",
    "class Mapper(api.Mapper):\n",
    "\n",
    "    def map(self, context):\n",
    "        # implements your code\n",
    "        #context.emit(context.value, 1)\n",
    "        x = context.value.split()\n",
    "        if(x[0]<x[1]):\n",
    "            context.emit(context.value, 1)\n",
    "        else:\n",
    "            context.emit(x[1]+\"\\t\"+x[0], 1)\n",
    "\n",
    "class Reducer(api.Reducer):\n",
    "\n",
    "    def reduce(self, context):\n",
    "        # implements your code\n",
    "        s = sum(context.values)\n",
    "        if(s == 1):\n",
    "               context.emit(context.key, \"\")\n",
    "\n",
    "FACTORY = pipes.Factory(Mapper, reducer_class=Reducer)\n",
    "\n",
    "\n",
    "def main():\n",
    "    pipes.run_task(FACTORY)\n",
    "\n",
    "\n",
    "if __name__ == \"__main__\":\n",
    "    main()\n"
   ]
  },
  {
   "cell_type": "code",
   "execution_count": 8,
   "metadata": {
    "scrolled": false
   },
   "outputs": [
    {
     "ename": "ModuleNotFoundError",
     "evalue": "No module named 'pydoop'",
     "output_type": "error",
     "traceback": [
      "\u001b[0;31m---------------------------------------------------------------------------\u001b[0m",
      "\u001b[0;31mModuleNotFoundError\u001b[0m                       Traceback (most recent call last)",
      "\u001b[0;32m~/HW1/nsf/bin/nsf.py\u001b[0m in \u001b[0;36m<module>\u001b[0;34m\u001b[0m\n\u001b[1;32m      9\u001b[0m \"\"\"\n\u001b[1;32m     10\u001b[0m \u001b[0;31m# DOCS_INCLUDE_START\u001b[0m\u001b[0;34m\u001b[0m\u001b[0;34m\u001b[0m\u001b[0;34m\u001b[0m\u001b[0m\n\u001b[0;32m---> 11\u001b[0;31m \u001b[0;32mimport\u001b[0m \u001b[0mpydoop\u001b[0m\u001b[0;34m.\u001b[0m\u001b[0mmapreduce\u001b[0m\u001b[0;34m.\u001b[0m\u001b[0mapi\u001b[0m \u001b[0;32mas\u001b[0m \u001b[0mapi\u001b[0m\u001b[0;34m\u001b[0m\u001b[0;34m\u001b[0m\u001b[0m\n\u001b[0m\u001b[1;32m     12\u001b[0m \u001b[0;32mimport\u001b[0m \u001b[0mpydoop\u001b[0m\u001b[0;34m.\u001b[0m\u001b[0mmapreduce\u001b[0m\u001b[0;34m.\u001b[0m\u001b[0mpipes\u001b[0m \u001b[0;32mas\u001b[0m \u001b[0mpipes\u001b[0m\u001b[0;34m\u001b[0m\u001b[0;34m\u001b[0m\u001b[0m\n\u001b[1;32m     13\u001b[0m \u001b[0;34m\u001b[0m\u001b[0m\n",
      "\u001b[0;31mModuleNotFoundError\u001b[0m: No module named 'pydoop'"
     ]
    }
   ],
   "source": [
    "%run nsf.py"
   ]
  }
 ],
 "metadata": {
  "kernelspec": {
   "display_name": "Python 3",
   "language": "python",
   "name": "python3"
  },
  "language_info": {
   "codemirror_mode": {
    "name": "ipython",
    "version": 3
   },
   "file_extension": ".py",
   "mimetype": "text/x-python",
   "name": "python",
   "nbconvert_exporter": "python",
   "pygments_lexer": "ipython3",
   "version": "3.7.1"
  }
 },
 "nbformat": 4,
 "nbformat_minor": 2
}
